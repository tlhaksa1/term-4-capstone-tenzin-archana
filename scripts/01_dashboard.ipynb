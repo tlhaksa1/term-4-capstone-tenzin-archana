{
 "cells": [
  {
   "cell_type": "markdown",
   "id": "e6124bd2-cc82-43e0-b08c-d911d67d283e",
   "metadata": {},
   "source": [
    "# DS4PH Term 4 Capstone Project\n",
    "Group Members: Tenzin Lhaksampa and Archana Balan  \n",
    "Code to preprocess data for the app dashboard"
   ]
  },
  {
   "cell_type": "code",
   "execution_count": 13,
   "id": "50adf806-a6d9-45c4-a284-d43f19e3f772",
   "metadata": {},
   "outputs": [],
   "source": [
    "# Import packages\n",
    "import streamlit as st\n",
    "import pandas as pd\n",
    "import numpy as np\n",
    "import folium\n",
    "import plotly as py \n",
    "from importlib import import_module"
   ]
  },
  {
   "cell_type": "code",
   "execution_count": 15,
   "id": "cf3fe580-7e3e-4313-a29f-ac864f2b272c",
   "metadata": {},
   "outputs": [
    {
     "ename": "FileNotFoundError",
     "evalue": "[Errno 2] No such file or directory: './data/maltreatment_data.xlsx'",
     "output_type": "error",
     "traceback": [
      "\u001b[0;31m---------------------------------------------------------------------------\u001b[0m",
      "\u001b[0;31mFileNotFoundError\u001b[0m                         Traceback (most recent call last)",
      "Cell \u001b[0;32mIn[15], line 2\u001b[0m\n\u001b[1;32m      1\u001b[0m \u001b[38;5;66;03m# read in data\u001b[39;00m\n\u001b[0;32m----> 2\u001b[0m dat \u001b[38;5;241m=\u001b[39m \u001b[43mpd\u001b[49m\u001b[38;5;241;43m.\u001b[39;49m\u001b[43mread_excel\u001b[49m\u001b[43m(\u001b[49m\u001b[38;5;124;43m\"\u001b[39;49m\u001b[38;5;124;43m./data/maltreatment_data.xlsx\u001b[39;49m\u001b[38;5;124;43m\"\u001b[39;49m\u001b[43m)\u001b[49m\n\u001b[1;32m      3\u001b[0m dat\u001b[38;5;241m.\u001b[39mhead()\n",
      "File \u001b[0;32m~/.local/lib/python3.10/site-packages/pandas/io/excel/_base.py:495\u001b[0m, in \u001b[0;36mread_excel\u001b[0;34m(io, sheet_name, header, names, index_col, usecols, dtype, engine, converters, true_values, false_values, skiprows, nrows, na_values, keep_default_na, na_filter, verbose, parse_dates, date_parser, date_format, thousands, decimal, comment, skipfooter, storage_options, dtype_backend, engine_kwargs)\u001b[0m\n\u001b[1;32m    493\u001b[0m \u001b[38;5;28;01mif\u001b[39;00m \u001b[38;5;129;01mnot\u001b[39;00m \u001b[38;5;28misinstance\u001b[39m(io, ExcelFile):\n\u001b[1;32m    494\u001b[0m     should_close \u001b[38;5;241m=\u001b[39m \u001b[38;5;28;01mTrue\u001b[39;00m\n\u001b[0;32m--> 495\u001b[0m     io \u001b[38;5;241m=\u001b[39m \u001b[43mExcelFile\u001b[49m\u001b[43m(\u001b[49m\n\u001b[1;32m    496\u001b[0m \u001b[43m        \u001b[49m\u001b[43mio\u001b[49m\u001b[43m,\u001b[49m\n\u001b[1;32m    497\u001b[0m \u001b[43m        \u001b[49m\u001b[43mstorage_options\u001b[49m\u001b[38;5;241;43m=\u001b[39;49m\u001b[43mstorage_options\u001b[49m\u001b[43m,\u001b[49m\n\u001b[1;32m    498\u001b[0m \u001b[43m        \u001b[49m\u001b[43mengine\u001b[49m\u001b[38;5;241;43m=\u001b[39;49m\u001b[43mengine\u001b[49m\u001b[43m,\u001b[49m\n\u001b[1;32m    499\u001b[0m \u001b[43m        \u001b[49m\u001b[43mengine_kwargs\u001b[49m\u001b[38;5;241;43m=\u001b[39;49m\u001b[43mengine_kwargs\u001b[49m\u001b[43m,\u001b[49m\n\u001b[1;32m    500\u001b[0m \u001b[43m    \u001b[49m\u001b[43m)\u001b[49m\n\u001b[1;32m    501\u001b[0m \u001b[38;5;28;01melif\u001b[39;00m engine \u001b[38;5;129;01mand\u001b[39;00m engine \u001b[38;5;241m!=\u001b[39m io\u001b[38;5;241m.\u001b[39mengine:\n\u001b[1;32m    502\u001b[0m     \u001b[38;5;28;01mraise\u001b[39;00m \u001b[38;5;167;01mValueError\u001b[39;00m(\n\u001b[1;32m    503\u001b[0m         \u001b[38;5;124m\"\u001b[39m\u001b[38;5;124mEngine should not be specified when passing \u001b[39m\u001b[38;5;124m\"\u001b[39m\n\u001b[1;32m    504\u001b[0m         \u001b[38;5;124m\"\u001b[39m\u001b[38;5;124man ExcelFile - ExcelFile already has the engine set\u001b[39m\u001b[38;5;124m\"\u001b[39m\n\u001b[1;32m    505\u001b[0m     )\n",
      "File \u001b[0;32m~/.local/lib/python3.10/site-packages/pandas/io/excel/_base.py:1550\u001b[0m, in \u001b[0;36mExcelFile.__init__\u001b[0;34m(self, path_or_buffer, engine, storage_options, engine_kwargs)\u001b[0m\n\u001b[1;32m   1548\u001b[0m     ext \u001b[38;5;241m=\u001b[39m \u001b[38;5;124m\"\u001b[39m\u001b[38;5;124mxls\u001b[39m\u001b[38;5;124m\"\u001b[39m\n\u001b[1;32m   1549\u001b[0m \u001b[38;5;28;01melse\u001b[39;00m:\n\u001b[0;32m-> 1550\u001b[0m     ext \u001b[38;5;241m=\u001b[39m \u001b[43minspect_excel_format\u001b[49m\u001b[43m(\u001b[49m\n\u001b[1;32m   1551\u001b[0m \u001b[43m        \u001b[49m\u001b[43mcontent_or_path\u001b[49m\u001b[38;5;241;43m=\u001b[39;49m\u001b[43mpath_or_buffer\u001b[49m\u001b[43m,\u001b[49m\u001b[43m \u001b[49m\u001b[43mstorage_options\u001b[49m\u001b[38;5;241;43m=\u001b[39;49m\u001b[43mstorage_options\u001b[49m\n\u001b[1;32m   1552\u001b[0m \u001b[43m    \u001b[49m\u001b[43m)\u001b[49m\n\u001b[1;32m   1553\u001b[0m     \u001b[38;5;28;01mif\u001b[39;00m ext \u001b[38;5;129;01mis\u001b[39;00m \u001b[38;5;28;01mNone\u001b[39;00m:\n\u001b[1;32m   1554\u001b[0m         \u001b[38;5;28;01mraise\u001b[39;00m \u001b[38;5;167;01mValueError\u001b[39;00m(\n\u001b[1;32m   1555\u001b[0m             \u001b[38;5;124m\"\u001b[39m\u001b[38;5;124mExcel file format cannot be determined, you must specify \u001b[39m\u001b[38;5;124m\"\u001b[39m\n\u001b[1;32m   1556\u001b[0m             \u001b[38;5;124m\"\u001b[39m\u001b[38;5;124man engine manually.\u001b[39m\u001b[38;5;124m\"\u001b[39m\n\u001b[1;32m   1557\u001b[0m         )\n",
      "File \u001b[0;32m~/.local/lib/python3.10/site-packages/pandas/io/excel/_base.py:1402\u001b[0m, in \u001b[0;36minspect_excel_format\u001b[0;34m(content_or_path, storage_options)\u001b[0m\n\u001b[1;32m   1399\u001b[0m \u001b[38;5;28;01mif\u001b[39;00m \u001b[38;5;28misinstance\u001b[39m(content_or_path, \u001b[38;5;28mbytes\u001b[39m):\n\u001b[1;32m   1400\u001b[0m     content_or_path \u001b[38;5;241m=\u001b[39m BytesIO(content_or_path)\n\u001b[0;32m-> 1402\u001b[0m \u001b[38;5;28;01mwith\u001b[39;00m \u001b[43mget_handle\u001b[49m\u001b[43m(\u001b[49m\n\u001b[1;32m   1403\u001b[0m \u001b[43m    \u001b[49m\u001b[43mcontent_or_path\u001b[49m\u001b[43m,\u001b[49m\u001b[43m \u001b[49m\u001b[38;5;124;43m\"\u001b[39;49m\u001b[38;5;124;43mrb\u001b[39;49m\u001b[38;5;124;43m\"\u001b[39;49m\u001b[43m,\u001b[49m\u001b[43m \u001b[49m\u001b[43mstorage_options\u001b[49m\u001b[38;5;241;43m=\u001b[39;49m\u001b[43mstorage_options\u001b[49m\u001b[43m,\u001b[49m\u001b[43m \u001b[49m\u001b[43mis_text\u001b[49m\u001b[38;5;241;43m=\u001b[39;49m\u001b[38;5;28;43;01mFalse\u001b[39;49;00m\n\u001b[1;32m   1404\u001b[0m \u001b[43m\u001b[49m\u001b[43m)\u001b[49m \u001b[38;5;28;01mas\u001b[39;00m handle:\n\u001b[1;32m   1405\u001b[0m     stream \u001b[38;5;241m=\u001b[39m handle\u001b[38;5;241m.\u001b[39mhandle\n\u001b[1;32m   1406\u001b[0m     stream\u001b[38;5;241m.\u001b[39mseek(\u001b[38;5;241m0\u001b[39m)\n",
      "File \u001b[0;32m~/.local/lib/python3.10/site-packages/pandas/io/common.py:882\u001b[0m, in \u001b[0;36mget_handle\u001b[0;34m(path_or_buf, mode, encoding, compression, memory_map, is_text, errors, storage_options)\u001b[0m\n\u001b[1;32m    873\u001b[0m         handle \u001b[38;5;241m=\u001b[39m \u001b[38;5;28mopen\u001b[39m(\n\u001b[1;32m    874\u001b[0m             handle,\n\u001b[1;32m    875\u001b[0m             ioargs\u001b[38;5;241m.\u001b[39mmode,\n\u001b[0;32m   (...)\u001b[0m\n\u001b[1;32m    878\u001b[0m             newline\u001b[38;5;241m=\u001b[39m\u001b[38;5;124m\"\u001b[39m\u001b[38;5;124m\"\u001b[39m,\n\u001b[1;32m    879\u001b[0m         )\n\u001b[1;32m    880\u001b[0m     \u001b[38;5;28;01melse\u001b[39;00m:\n\u001b[1;32m    881\u001b[0m         \u001b[38;5;66;03m# Binary mode\u001b[39;00m\n\u001b[0;32m--> 882\u001b[0m         handle \u001b[38;5;241m=\u001b[39m \u001b[38;5;28;43mopen\u001b[39;49m\u001b[43m(\u001b[49m\u001b[43mhandle\u001b[49m\u001b[43m,\u001b[49m\u001b[43m \u001b[49m\u001b[43mioargs\u001b[49m\u001b[38;5;241;43m.\u001b[39;49m\u001b[43mmode\u001b[49m\u001b[43m)\u001b[49m\n\u001b[1;32m    883\u001b[0m     handles\u001b[38;5;241m.\u001b[39mappend(handle)\n\u001b[1;32m    885\u001b[0m \u001b[38;5;66;03m# Convert BytesIO or file objects passed with an encoding\u001b[39;00m\n",
      "\u001b[0;31mFileNotFoundError\u001b[0m: [Errno 2] No such file or directory: './data/maltreatment_data.xlsx'"
     ]
    }
   ],
   "source": [
    "# read in data\n",
    "dat = pd.read_excel(\"./data/maltreatment_data.xlsx\")\n",
    "dat.head()"
   ]
  },
  {
   "cell_type": "code",
   "execution_count": 3,
   "id": "8897c43a-65fb-45c6-8e02-49eb44b3be33",
   "metadata": {},
   "outputs": [
    {
     "name": "stdout",
     "output_type": "stream",
     "text": [
      "Index(['LocationType', 'Location', 'LocationCode', 'Category', 'TimeFrame',\n",
      "       'DataFormat', 'Data'],\n",
      "      dtype='object')\n",
      "\n",
      " (5088, 7)\n"
     ]
    }
   ],
   "source": [
    "# check columns \n",
    "print(dat.columns)\n",
    "print(\"\\n\", dat.shape)"
   ]
  },
  {
   "cell_type": "code",
   "execution_count": 4,
   "id": "adaf7fd6-4391-4f0f-b311-a968d6f5b43c",
   "metadata": {},
   "outputs": [],
   "source": [
    "# only retain numbers (not percentages)\n",
    "dat = dat[dat['DataFormat'] == 'Number']\n",
    "\n",
    "# convert cases reported to a numeric value\n",
    "dat['Data'] = pd.to_numeric(dat['Data'], errors='coerce')"
   ]
  },
  {
   "cell_type": "code",
   "execution_count": 5,
   "id": "7bd14905-3e7f-430b-85df-02e02ae44bfe",
   "metadata": {},
   "outputs": [
    {
     "name": "stdout",
     "output_type": "stream",
     "text": [
      "Index(['LocationType', 'Location', 'State', 'Type', 'Year', 'DataFormat',\n",
      "       'Case'],\n",
      "      dtype='object')\n",
      "\n",
      " (2185, 7)\n"
     ]
    }
   ],
   "source": [
    "# rename and retain only relevant columns \n",
    "dat.rename({'LocationCode':'State', \n",
    "            'Category':'Type', \n",
    "            'TimeFrame':'Year', \n",
    "            'Data':'Case'}, \n",
    "           axis=1, \n",
    "           inplace=True)\n",
    "\n",
    "# drop NA values\n",
    "dat = dat.dropna()\n",
    "\n",
    "# print data frame shape and column names\n",
    "print(dat.columns)\n",
    "print(\"\\n\", dat.shape)"
   ]
  },
  {
   "cell_type": "code",
   "execution_count": 6,
   "id": "cf72f869-0155-4358-9e74-aeb5e22bc1b5",
   "metadata": {},
   "outputs": [
    {
     "data": {
      "text/plain": [
       "(1982, 7)"
      ]
     },
     "execution_count": 6,
     "metadata": {},
     "output_type": "execute_result"
    }
   ],
   "source": [
    "# drop missing data \n",
    "dat = dat[dat['Type'] != 'Other/missing maltreatment type']\n",
    "dat.shape"
   ]
  },
  {
   "cell_type": "code",
   "execution_count": 7,
   "id": "68af43bf-159c-4789-a2c4-29b835c1a3d7",
   "metadata": {},
   "outputs": [
    {
     "data": {
      "text/plain": [
       "(1942, 7)"
      ]
     },
     "execution_count": 7,
     "metadata": {},
     "output_type": "execute_result"
    }
   ],
   "source": [
    "# drop US data\n",
    "dat = dat[dat['State'] != 'US']\n",
    "dat.shape"
   ]
  },
  {
   "cell_type": "code",
   "execution_count": 8,
   "id": "93a71b3e-494d-4b64-8765-17b5e2f88c13",
   "metadata": {},
   "outputs": [
    {
     "data": {
      "text/html": [
       "<div>\n",
       "<style scoped>\n",
       "    .dataframe tbody tr th:only-of-type {\n",
       "        vertical-align: middle;\n",
       "    }\n",
       "\n",
       "    .dataframe tbody tr th {\n",
       "        vertical-align: top;\n",
       "    }\n",
       "\n",
       "    .dataframe thead th {\n",
       "        text-align: right;\n",
       "    }\n",
       "</style>\n",
       "<table border=\"1\" class=\"dataframe\">\n",
       "  <thead>\n",
       "    <tr style=\"text-align: right;\">\n",
       "      <th></th>\n",
       "      <th>LocationType</th>\n",
       "      <th>Location</th>\n",
       "      <th>State</th>\n",
       "      <th>Type</th>\n",
       "      <th>Year</th>\n",
       "      <th>DataFormat</th>\n",
       "      <th>Case</th>\n",
       "    </tr>\n",
       "  </thead>\n",
       "  <tbody>\n",
       "    <tr>\n",
       "      <th>0</th>\n",
       "      <td>State</td>\n",
       "      <td>Alabama</td>\n",
       "      <td>AL</td>\n",
       "      <td>Emotional Abuse</td>\n",
       "      <td>2021</td>\n",
       "      <td>Number</td>\n",
       "      <td>19.0</td>\n",
       "    </tr>\n",
       "    <tr>\n",
       "      <th>1</th>\n",
       "      <td>State</td>\n",
       "      <td>Alabama</td>\n",
       "      <td>AL</td>\n",
       "      <td>Medical Neglect</td>\n",
       "      <td>2021</td>\n",
       "      <td>Number</td>\n",
       "      <td>79.0</td>\n",
       "    </tr>\n",
       "    <tr>\n",
       "      <th>2</th>\n",
       "      <td>State</td>\n",
       "      <td>Alabama</td>\n",
       "      <td>AL</td>\n",
       "      <td>Neglect</td>\n",
       "      <td>2021</td>\n",
       "      <td>Number</td>\n",
       "      <td>5011.0</td>\n",
       "    </tr>\n",
       "    <tr>\n",
       "      <th>4</th>\n",
       "      <td>State</td>\n",
       "      <td>Alabama</td>\n",
       "      <td>AL</td>\n",
       "      <td>Physical Abuse</td>\n",
       "      <td>2021</td>\n",
       "      <td>Number</td>\n",
       "      <td>6062.0</td>\n",
       "    </tr>\n",
       "    <tr>\n",
       "      <th>5</th>\n",
       "      <td>State</td>\n",
       "      <td>Alabama</td>\n",
       "      <td>AL</td>\n",
       "      <td>Sexual Abuse</td>\n",
       "      <td>2021</td>\n",
       "      <td>Number</td>\n",
       "      <td>2103.0</td>\n",
       "    </tr>\n",
       "  </tbody>\n",
       "</table>\n",
       "</div>"
      ],
      "text/plain": [
       "  LocationType Location State             Type  Year DataFormat    Case\n",
       "0        State  Alabama    AL  Emotional Abuse  2021     Number    19.0\n",
       "1        State  Alabama    AL  Medical Neglect  2021     Number    79.0\n",
       "2        State  Alabama    AL          Neglect  2021     Number  5011.0\n",
       "4        State  Alabama    AL   Physical Abuse  2021     Number  6062.0\n",
       "5        State  Alabama    AL     Sexual Abuse  2021     Number  2103.0"
      ]
     },
     "execution_count": 8,
     "metadata": {},
     "output_type": "execute_result"
    }
   ],
   "source": [
    "# Capitalize words in the 'Type' column using str.title() method\n",
    "dat['Type'] = dat['Type'].str.title()\n",
    "dat.head() # check"
   ]
  },
  {
   "cell_type": "code",
   "execution_count": 9,
   "id": "f30cf05a-89a6-4042-8e8c-780d606e21df",
   "metadata": {},
   "outputs": [
    {
     "name": "stdout",
     "output_type": "stream",
     "text": [
      "(1881, 4)\n",
      "\n",
      "   State             Type  Year   Case\n",
      "0    AK  Emotional Abuse  2015  718.0\n",
      "1    AK  Emotional Abuse  2016  985.0\n",
      "2    AK  Emotional Abuse  2017  770.0\n",
      "3    AK  Emotional Abuse  2018  684.0\n",
      "4    AK  Emotional Abuse  2019  994.0\n"
     ]
    }
   ],
   "source": [
    "# merge \"Neglect\" and \"Medical Neglect\" into only \"Neglect\" \n",
    "dat['Type'] = dat['Type'].replace('Medical neglect', 'Neglect')\n",
    "dat = dat.groupby(['State', 'Type', 'Year']).agg({'Case': 'sum'}).reset_index()\n",
    "\n",
    "print(dat.shape) # check shape\n",
    "print(\"\\n\", dat.head()) # check dataset"
   ]
  },
  {
   "cell_type": "code",
   "execution_count": 10,
   "id": "77abaeed-a14c-43e5-be93-022ed74a3f2c",
   "metadata": {},
   "outputs": [
    {
     "data": {
      "text/html": [
       "<div>\n",
       "<style scoped>\n",
       "    .dataframe tbody tr th:only-of-type {\n",
       "        vertical-align: middle;\n",
       "    }\n",
       "\n",
       "    .dataframe tbody tr th {\n",
       "        vertical-align: top;\n",
       "    }\n",
       "\n",
       "    .dataframe thead th {\n",
       "        text-align: right;\n",
       "    }\n",
       "</style>\n",
       "<table border=\"1\" class=\"dataframe\">\n",
       "  <thead>\n",
       "    <tr style=\"text-align: right;\">\n",
       "      <th></th>\n",
       "      <th>State</th>\n",
       "      <th>Type</th>\n",
       "      <th>Year</th>\n",
       "      <th>Case</th>\n",
       "    </tr>\n",
       "  </thead>\n",
       "  <tbody>\n",
       "    <tr>\n",
       "      <th>703</th>\n",
       "      <td>MD</td>\n",
       "      <td>Neglect</td>\n",
       "      <td>2015</td>\n",
       "      <td>4020.0</td>\n",
       "    </tr>\n",
       "    <tr>\n",
       "      <th>704</th>\n",
       "      <td>MD</td>\n",
       "      <td>Neglect</td>\n",
       "      <td>2016</td>\n",
       "      <td>4155.0</td>\n",
       "    </tr>\n",
       "    <tr>\n",
       "      <th>705</th>\n",
       "      <td>MD</td>\n",
       "      <td>Neglect</td>\n",
       "      <td>2017</td>\n",
       "      <td>4568.0</td>\n",
       "    </tr>\n",
       "    <tr>\n",
       "      <th>706</th>\n",
       "      <td>MD</td>\n",
       "      <td>Neglect</td>\n",
       "      <td>2018</td>\n",
       "      <td>4779.0</td>\n",
       "    </tr>\n",
       "    <tr>\n",
       "      <th>707</th>\n",
       "      <td>MD</td>\n",
       "      <td>Neglect</td>\n",
       "      <td>2019</td>\n",
       "      <td>4648.0</td>\n",
       "    </tr>\n",
       "    <tr>\n",
       "      <th>708</th>\n",
       "      <td>MD</td>\n",
       "      <td>Neglect</td>\n",
       "      <td>2020</td>\n",
       "      <td>4220.0</td>\n",
       "    </tr>\n",
       "    <tr>\n",
       "      <th>709</th>\n",
       "      <td>MD</td>\n",
       "      <td>Neglect</td>\n",
       "      <td>2021</td>\n",
       "      <td>3491.0</td>\n",
       "    </tr>\n",
       "    <tr>\n",
       "      <th>710</th>\n",
       "      <td>MD</td>\n",
       "      <td>Neglect</td>\n",
       "      <td>2022</td>\n",
       "      <td>3691.0</td>\n",
       "    </tr>\n",
       "  </tbody>\n",
       "</table>\n",
       "</div>"
      ],
      "text/plain": [
       "    State     Type  Year    Case\n",
       "703    MD  Neglect  2015  4020.0\n",
       "704    MD  Neglect  2016  4155.0\n",
       "705    MD  Neglect  2017  4568.0\n",
       "706    MD  Neglect  2018  4779.0\n",
       "707    MD  Neglect  2019  4648.0\n",
       "708    MD  Neglect  2020  4220.0\n",
       "709    MD  Neglect  2021  3491.0\n",
       "710    MD  Neglect  2022  3691.0"
      ]
     },
     "execution_count": 10,
     "metadata": {},
     "output_type": "execute_result"
    }
   ],
   "source": [
    "# confirm data merge using MD as an example\n",
    "md_dat = dat[(dat['State'] == 'MD') & (dat['Type'] == 'Neglect')]\n",
    "md_dat.head(10)"
   ]
  },
  {
   "cell_type": "markdown",
   "id": "feb544b0-9add-4921-8021-0c8d415ef66b",
   "metadata": {},
   "source": [
    "## Total Maltreatment"
   ]
  },
  {
   "cell_type": "code",
   "execution_count": 11,
   "id": "8f4f694a-ce08-4982-b1aa-05e95c2d1da7",
   "metadata": {},
   "outputs": [
    {
     "name": "stdout",
     "output_type": "stream",
     "text": [
      "  State  Year    Case\n",
      "0    AK  2015  3646.0\n",
      "1    AK  2016  3997.0\n",
      "2    AK  2017  3449.0\n",
      "3    AK  2018  3392.0\n",
      "4    AK  2019  4136.0\n",
      "\n",
      "Highest Total Maltreatment Case Count in the US: 67427.0\n",
      "\n",
      " (398, 3)\n"
     ]
    }
   ],
   "source": [
    "# Calculate the total case count of child maltreatment across types\n",
    "# Group by \"State\" and \"Type\", and sum the \"Case\" column\n",
    "sum_dat = dat.groupby(['State', 'Year'])['Case'].sum().reset_index()\n",
    "\n",
    "# generate the max number of cases \n",
    "max_value = dat['Case'].max()\n",
    "\n",
    "# Display the resulting DataFrame\n",
    "print(sum_dat.head())\n",
    "\n",
    "print(\"\\nHighest Total Maltreatment Case Count in the US:\", max_value)\n",
    "\n",
    "print(\"\\n\", sum_dat.shape)"
   ]
  },
  {
   "cell_type": "markdown",
   "id": "488b47e0-7152-439d-9f92-0ca6f4f44b04",
   "metadata": {},
   "source": [
    "## Maltreatment Types"
   ]
  },
  {
   "cell_type": "code",
   "execution_count": 12,
   "id": "8c74ea35-9719-4243-9c5b-dc309f3bd1fe",
   "metadata": {},
   "outputs": [
    {
     "name": "stdout",
     "output_type": "stream",
     "text": [
      "Emotional Abuse\n",
      "   State  Year   Case\n",
      "0    AK  2015  718.0\n",
      "1    AK  2016  985.0\n",
      "2    AK  2017  770.0\n",
      "\n",
      "Physical Abuse\n",
      "    State  Year   Case\n",
      "24    AK  2015  331.0\n",
      "25    AK  2016  376.0\n",
      "26    AK  2017  393.0\n",
      "\n",
      "Sexual Abuse\n",
      "    State  Year   Case\n",
      "32    AK  2015  155.0\n",
      "33    AK  2016  181.0\n",
      "34    AK  2017  148.0\n",
      "\n",
      "Neglect\n",
      "    State  Year    Case\n",
      "16    AK  2015  2358.0\n",
      "17    AK  2016  2382.0\n",
      "18    AK  2017  2133.0\n"
     ]
    }
   ],
   "source": [
    "# data frames per maltreatment type \n",
    "emotional = dat[dat['Type'] == 'Emotional Abuse'][['State', 'Year', 'Case']]\n",
    "physical = dat[dat['Type'] == 'Physical Abuse'][['State', 'Year', 'Case']]\n",
    "sexual = dat[dat['Type'] == 'Sexual Abuse'][['State', 'Year', 'Case']]\n",
    "neglect = dat[dat['Type'] == 'Neglect'][['State', 'Year', 'Case']]\n",
    "\n",
    "print(\"Emotional Abuse\\n\", emotional.head(3))\n",
    "print(\"\\nPhysical Abuse\\n\", physical.head(3)) \n",
    "print(\"\\nSexual Abuse\\n\", sexual.head(3))\n",
    "print(\"\\nNeglect\\n\", neglect.head(3))"
   ]
  },
  {
   "cell_type": "markdown",
   "id": "61bb24c3-c98f-481b-a108-b80bb2e258f1",
   "metadata": {},
   "source": [
    "# Save data as input for streamlit app"
   ]
  },
  {
   "cell_type": "code",
   "execution_count": 13,
   "id": "6807fe1d",
   "metadata": {},
   "outputs": [],
   "source": [
    "# save data to be displayed in the app's dashboard\n",
    "dat.to_csv('./data/dashboard_processed.csv')\n",
    "sum_dat.to_csv('./data/dashboard_data.csv')"
   ]
  }
 ],
 "metadata": {
  "kernelspec": {
   "display_name": "Python 3 (ipykernel)",
   "language": "python",
   "name": "python3"
  },
  "language_info": {
   "codemirror_mode": {
    "name": "ipython",
    "version": 3
   },
   "file_extension": ".py",
   "mimetype": "text/x-python",
   "name": "python",
   "nbconvert_exporter": "python",
   "pygments_lexer": "ipython3",
   "version": "3.10.10"
  },
  "widgets": {
   "application/vnd.jupyter.widget-state+json": {
    "state": {},
    "version_major": 2,
    "version_minor": 0
   }
  }
 },
 "nbformat": 4,
 "nbformat_minor": 5
}
