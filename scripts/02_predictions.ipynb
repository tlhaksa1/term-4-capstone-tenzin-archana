{
 "cells": [
  {
   "cell_type": "markdown",
   "id": "c45a1188",
   "metadata": {},
   "source": [
    "# DS4PH Term 4 Capstone Project\n",
    "Group Members: Tenzin Lhaksampa and Archana Balan  \n",
    "Code to fit a prediction model per maltreatment type"
   ]
  },
  {
   "cell_type": "code",
   "execution_count": 3,
   "id": "28adb52c",
   "metadata": {},
   "outputs": [],
   "source": [
    "# Import packages\n",
    "import pandas as pd\n",
    "import numpy as np\n",
    "import os\n",
    "from sklearn.model_selection import train_test_split\n",
    "from sklearn.linear_model import LinearRegression\n",
    "from sklearn.metrics import mean_squared_error"
   ]
  },
  {
   "cell_type": "code",
   "execution_count": 12,
   "id": "a4c8e264",
   "metadata": {},
   "outputs": [
    {
     "data": {
      "text/html": [
       "<div>\n",
       "<style scoped>\n",
       "    .dataframe tbody tr th:only-of-type {\n",
       "        vertical-align: middle;\n",
       "    }\n",
       "\n",
       "    .dataframe tbody tr th {\n",
       "        vertical-align: top;\n",
       "    }\n",
       "\n",
       "    .dataframe thead th {\n",
       "        text-align: right;\n",
       "    }\n",
       "</style>\n",
       "<table border=\"1\" class=\"dataframe\">\n",
       "  <thead>\n",
       "    <tr style=\"text-align: right;\">\n",
       "      <th></th>\n",
       "      <th>LocationType</th>\n",
       "      <th>Location</th>\n",
       "      <th>LocationCode</th>\n",
       "      <th>Category</th>\n",
       "      <th>TimeFrame</th>\n",
       "      <th>DataFormat</th>\n",
       "      <th>Data</th>\n",
       "    </tr>\n",
       "  </thead>\n",
       "  <tbody>\n",
       "    <tr>\n",
       "      <th>0</th>\n",
       "      <td>State</td>\n",
       "      <td>Alabama</td>\n",
       "      <td>AL</td>\n",
       "      <td>Emotional abuse</td>\n",
       "      <td>2021</td>\n",
       "      <td>Number</td>\n",
       "      <td>19</td>\n",
       "    </tr>\n",
       "    <tr>\n",
       "      <th>1</th>\n",
       "      <td>State</td>\n",
       "      <td>Alabama</td>\n",
       "      <td>AL</td>\n",
       "      <td>Medical neglect</td>\n",
       "      <td>2021</td>\n",
       "      <td>Number</td>\n",
       "      <td>79</td>\n",
       "    </tr>\n",
       "    <tr>\n",
       "      <th>2</th>\n",
       "      <td>State</td>\n",
       "      <td>Alabama</td>\n",
       "      <td>AL</td>\n",
       "      <td>Neglect</td>\n",
       "      <td>2021</td>\n",
       "      <td>Number</td>\n",
       "      <td>5011</td>\n",
       "    </tr>\n",
       "    <tr>\n",
       "      <th>3</th>\n",
       "      <td>State</td>\n",
       "      <td>Alabama</td>\n",
       "      <td>AL</td>\n",
       "      <td>Other/missing maltreatment type</td>\n",
       "      <td>2021</td>\n",
       "      <td>Number</td>\n",
       "      <td>N.R.</td>\n",
       "    </tr>\n",
       "    <tr>\n",
       "      <th>4</th>\n",
       "      <td>State</td>\n",
       "      <td>Alabama</td>\n",
       "      <td>AL</td>\n",
       "      <td>Physical abuse</td>\n",
       "      <td>2021</td>\n",
       "      <td>Number</td>\n",
       "      <td>6062</td>\n",
       "    </tr>\n",
       "  </tbody>\n",
       "</table>\n",
       "</div>"
      ],
      "text/plain": [
       "  LocationType Location LocationCode                         Category  \\\n",
       "0        State  Alabama           AL                  Emotional abuse   \n",
       "1        State  Alabama           AL                  Medical neglect   \n",
       "2        State  Alabama           AL                          Neglect   \n",
       "3        State  Alabama           AL  Other/missing maltreatment type   \n",
       "4        State  Alabama           AL                   Physical abuse   \n",
       "\n",
       "   TimeFrame DataFormat  Data  \n",
       "0       2021     Number    19  \n",
       "1       2021     Number    79  \n",
       "2       2021     Number  5011  \n",
       "3       2021     Number  N.R.  \n",
       "4       2021     Number  6062  "
      ]
     },
     "execution_count": 12,
     "metadata": {},
     "output_type": "execute_result"
    }
   ],
   "source": [
    "# read in data\n",
    "dat = pd.read_excel(\"./data/maltreatment_data.xlsx\")\n",
    "dat.head()"
   ]
  },
  {
   "cell_type": "code",
   "execution_count": 5,
   "id": "c969b63a",
   "metadata": {},
   "outputs": [],
   "source": [
    "# Preprocess data\n",
    "\n",
    "# only retain numbers (not percentages)\n",
    "dat = dat[dat['DataFormat'] == 'Number']\n",
    "\n",
    "# convert cases reported to a numeric value\n",
    "dat['Data'] = pd.to_numeric(dat['Data'], errors='coerce')\n",
    "\n",
    "# drop NA values\n",
    "dat = dat.dropna()\n",
    "\n",
    "# only retain 4 required columns\n",
    "dat = dat[['Location', 'Category', 'TimeFrame', 'Data']]\n",
    "\n",
    "# combine Medical Neglect and Neglect into a single category called : Neglect\n",
    "new_mt = dat[dat['Category'].isin([ 'Medical neglect', 'Neglect'])].groupby(['Location', 'TimeFrame']).sum().reset_index()\n",
    "new_mt['Category'] = 'Total neglect'\n",
    "\n",
    "# add in the new category\n",
    "dat = pd.concat([dat, new_mt], ignore_index=True)\n",
    "\n",
    "# drop categories neglect, medical neglect and other missing type\n",
    "# drop  category with very high missing values\n",
    "dat = dat[~dat['Category'].isin(['Medical neglect', 'Neglect','Other/missing maltreatment type'])]\n",
    "\n",
    "# rename Total neglect category\n",
    "dat['Category'] = dat['Category'].replace('Total neglect', 'Neglect')\n",
    "\n",
    "# drop 'United States' from data to keep only state-wise data\n",
    "dat = dat[dat['Location'] != 'United States']\n"
   ]
  },
  {
   "cell_type": "markdown",
   "id": "6f1d62a5",
   "metadata": {},
   "source": [
    "# Time lag regression model\n",
    "Fitting a time lag regression model for each of the 4 maltreatment types.   \n",
    "Each model will predict the future number of cases based on data from the past 7 years. \n",
    "\n",
    "## Training Testing Split\n",
    "To maintain consistency across models we fix the training-testing split for all models. Randomly fix 80% of the states to beused as training and remaining 20% as testing. "
   ]
  },
  {
   "cell_type": "code",
   "execution_count": 6,
   "id": "67032b92",
   "metadata": {},
   "outputs": [],
   "source": [
    "# Select 80% of states to be included in the training set \n",
    "# remaining 20% to be used as tesing set\n",
    "\n",
    "# Define the proportion of data to allocate for testing\n",
    "test_size = 0.2 \n",
    "\n",
    "# list of states\n",
    "states = dat['Location'].unique()\n",
    "\n",
    "# Randomly select states for testing\n",
    "states_train, states_test = train_test_split(states, test_size=test_size, random_state=42)\n",
    "\n"
   ]
  },
  {
   "cell_type": "code",
   "execution_count": 7,
   "id": "a97df6c0",
   "metadata": {},
   "outputs": [
    {
     "data": {
      "text/plain": [
       "array(['Emotional abuse', 'Physical abuse', 'Sexual abuse', 'Neglect'],\n",
       "      dtype=object)"
      ]
     },
     "execution_count": 7,
     "metadata": {},
     "output_type": "execute_result"
    }
   ],
   "source": [
    "dat['Category'].unique()"
   ]
  },
  {
   "cell_type": "markdown",
   "id": "7251c190",
   "metadata": {},
   "source": [
    "## Training the models\n",
    "Iteratively for each maltreatment type prepare the features matrix : data from 2015-2021 and the target variable which will be cases from 2022. After the model is trained compute mean squared error on the testing set"
   ]
  },
  {
   "cell_type": "code",
   "execution_count": 8,
   "id": "c9b07547",
   "metadata": {},
   "outputs": [
    {
     "name": "stdout",
     "output_type": "stream",
     "text": [
      "Fitting model for Emotional abuse\n",
      "Fitting model for Physical abuse\n",
      "Fitting model for Sexual abuse\n",
      "Fitting model for Neglect\n"
     ]
    }
   ],
   "source": [
    "models_list = {}\n",
    "\n",
    "# Define the target year for the model\n",
    "target_year = 2022\n",
    "\n",
    "# Define the start year of available data\n",
    "start_year = 2015\n",
    "\n",
    "for mt in dat['Category'].unique():\n",
    "    \n",
    "    print (\"Fitting model for \" + mt)\n",
    "    \n",
    "    # subset data for type\n",
    "    mt_data = dat[dat['Category'] == mt]\n",
    "\n",
    "    # Pivot the data to have years as columns and maltreatment counts as values\n",
    "    mt_data_pivot = mt_data.pivot(index='Location', columns='TimeFrame', values='Data').reset_index()\n",
    "\n",
    "    # Drop NA values \n",
    "    mt_data_pivot = mt_data_pivot.dropna()\n",
    "\n",
    "    # prepare target variable\n",
    "    Ytrain = mt_data_pivot[mt_data_pivot['Location'].isin(states_train)]\n",
    "    Ytrain = Ytrain.loc[:, 2022]\n",
    "\n",
    "    Ytest = mt_data_pivot[mt_data_pivot['Location'].isin(states_test)]\n",
    "    Ytest = Ytest.loc[:, 2022]\n",
    "\n",
    "    # prepare feature matrix \n",
    "    Xtrain = mt_data_pivot[mt_data_pivot['Location'].isin(states_train)]\n",
    "    Xtrain = Xtrain.drop(columns=['Location', 2022])\n",
    "    Xtrain.columns =  [f'{mt}_lag_{target_year - year}' for year in Xtrain.columns[0:]]\n",
    "\n",
    "    Xtest = mt_data_pivot[mt_data_pivot['Location'].isin(states_test)]\n",
    "    Xtest = Xtest.drop(columns=['Location', 2022])\n",
    "    Xtest.columns =  [f'{mt}_lag_{target_year - year}' for year in Xtest.columns[0:]]\n",
    "\n",
    "    model = LinearRegression()\n",
    "    model.fit(Xtrain, Ytrain)\n",
    "\n",
    "    models_list[mt] = {'model': model}\n",
    "\n",
    "         # Make predictions on the test data\n",
    "    Ypred = model.predict(Xtest)\n",
    "\n",
    "        # Calculate Mean Squared Error (MSE)\n",
    "    mse = mean_squared_error(Ytest, Ypred)\n",
    "\n",
    "        # Save MSE in the dictionary\n",
    "    models_list[mt]['mse'] = mse\n"
   ]
  },
  {
   "cell_type": "markdown",
   "id": "942d5342",
   "metadata": {},
   "source": [
    "## Display Mean Squared Errors from each model\n"
   ]
  },
  {
   "cell_type": "code",
   "execution_count": 9,
   "id": "5781e127",
   "metadata": {},
   "outputs": [
    {
     "data": {
      "text/plain": [
       "{'Emotional abuse': {'model': LinearRegression(), 'mse': 139947.48088496178},\n",
       " 'Physical abuse': {'model': LinearRegression(), 'mse': 290293.4474370572},\n",
       " 'Sexual abuse': {'model': LinearRegression(), 'mse': 19865.312615081097},\n",
       " 'Neglect': {'model': LinearRegression(), 'mse': 749155.9167911987}}"
      ]
     },
     "execution_count": 9,
     "metadata": {},
     "output_type": "execute_result"
    }
   ],
   "source": [
    "models_list"
   ]
  },
  {
   "cell_type": "markdown",
   "id": "84d3106c",
   "metadata": {},
   "source": [
    "# Predict Future Values\n",
    "For each state predict the future number of cases in 2023 using data from 2016-2022. Update teh feature matrix with predicted values to then predict data for 2024 and then 2025."
   ]
  },
  {
   "cell_type": "code",
   "execution_count": 10,
   "id": "f7cf6488",
   "metadata": {},
   "outputs": [],
   "source": [
    "predicted_list = {}\n",
    "\n",
    "for mt in dat['Category'].unique():\n",
    "    # subset data for type\n",
    "    mt_data = dat[dat['Category'] == mt]\n",
    "\n",
    "    # Pivot the data to have years as columns and maltreatment counts as values\n",
    "    mt_data_pivot = mt_data.pivot(index='Location', columns='TimeFrame', values='Data').reset_index()\n",
    "\n",
    "    # Drop NA values \n",
    "    mt_data_pivot = mt_data_pivot.dropna()\n",
    "\n",
    "\n",
    "    for target_year in range(2023,2026):\n",
    "        feature_years = [target_year - x for x in range(1,8)]\n",
    "\n",
    "        # set up feature matrix\n",
    "        Xpred = mt_data_pivot[feature_years]\n",
    "        Xpred.columns =  [f'{mt}_lag_{target_year - year}' for year in Xpred.columns[0:]]\n",
    "\n",
    "        # rearrange columns\n",
    "        Xpred =  Xpred[[f'{mt}_lag_{x}' for x in [7,6,5,4,3,2,1]]]\n",
    "\n",
    "        # Use the trained model to make predictions\n",
    "        Ypred = models_list[mt]['model'].predict(Xpred)\n",
    "        mt_data_pivot[target_year] = Ypred\n",
    "\n",
    "    predicted_list[mt] = mt_data_pivot "
   ]
  },
  {
   "cell_type": "markdown",
   "id": "9ddb9eaa",
   "metadata": {},
   "source": [
    "# Save data as input for streamlit app"
   ]
  },
  {
   "cell_type": "code",
   "execution_count": 11,
   "id": "cc01ed56",
   "metadata": {},
   "outputs": [],
   "source": [
    "final_list = []\n",
    "for mt, df in predicted_list.items():\n",
    "    df['Category'] = mt\n",
    "    final_list.append(df)\n",
    "    \n",
    "out_df = pd.concat(final_list, ignore_index=True)\n",
    "out_df.to_csv('./data/maltreatment_predictions.csv', index=False)\n"
   ]
  },
  {
   "cell_type": "code",
   "execution_count": null,
   "id": "46ea6fa8-4783-419e-a7d9-31dbd5681f19",
   "metadata": {},
   "outputs": [],
   "source": []
  }
 ],
 "metadata": {
  "kernelspec": {
   "display_name": "Python 3 (ipykernel)",
   "language": "python",
   "name": "python3"
  },
  "language_info": {
   "codemirror_mode": {
    "name": "ipython",
    "version": 3
   },
   "file_extension": ".py",
   "mimetype": "text/x-python",
   "name": "python",
   "nbconvert_exporter": "python",
   "pygments_lexer": "ipython3",
   "version": "3.10.10"
  },
  "widgets": {
   "application/vnd.jupyter.widget-state+json": {
    "state": {},
    "version_major": 2,
    "version_minor": 0
   }
  }
 },
 "nbformat": 4,
 "nbformat_minor": 5
}
