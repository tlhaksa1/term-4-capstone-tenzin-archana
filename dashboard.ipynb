{
 "cells": [
  {
   "cell_type": "code",
   "execution_count": 22,
   "id": "3fa5b521-b9ab-4f60-92e5-08df2cbd82d2",
   "metadata": {},
   "outputs": [],
   "source": [
    "### DS4PH Term 4 Capstone Project\n",
    "# Group Members: Tenzin Lhaksampa and Archana Balan"
   ]
  },
  {
   "cell_type": "code",
   "execution_count": 2,
   "id": "50adf806-a6d9-45c4-a284-d43f19e3f772",
   "metadata": {},
   "outputs": [],
   "source": [
    "# Import packages\n",
    "import streamlit as st\n",
    "import pandas as pd\n",
    "import numpy as np\n",
    "import folium\n",
    "import plotly as py \n",
    "from importlib import import_module"
   ]
  },
  {
   "cell_type": "code",
   "execution_count": 5,
   "id": "cf3fe580-7e3e-4313-a29f-ac864f2b272c",
   "metadata": {},
   "outputs": [
    {
     "data": {
      "text/html": [
       "<div>\n",
       "<style scoped>\n",
       "    .dataframe tbody tr th:only-of-type {\n",
       "        vertical-align: middle;\n",
       "    }\n",
       "\n",
       "    .dataframe tbody tr th {\n",
       "        vertical-align: top;\n",
       "    }\n",
       "\n",
       "    .dataframe thead th {\n",
       "        text-align: right;\n",
       "    }\n",
       "</style>\n",
       "<table border=\"1\" class=\"dataframe\">\n",
       "  <thead>\n",
       "    <tr style=\"text-align: right;\">\n",
       "      <th></th>\n",
       "      <th>LocationType</th>\n",
       "      <th>Location</th>\n",
       "      <th>Category</th>\n",
       "      <th>TimeFrame</th>\n",
       "      <th>DataFormat</th>\n",
       "      <th>Data</th>\n",
       "    </tr>\n",
       "  </thead>\n",
       "  <tbody>\n",
       "    <tr>\n",
       "      <th>0</th>\n",
       "      <td>Nation</td>\n",
       "      <td>United States</td>\n",
       "      <td>Emotional abuse</td>\n",
       "      <td>2018</td>\n",
       "      <td>Number</td>\n",
       "      <td>39015</td>\n",
       "    </tr>\n",
       "    <tr>\n",
       "      <th>1</th>\n",
       "      <td>Nation</td>\n",
       "      <td>United States</td>\n",
       "      <td>Medical neglect</td>\n",
       "      <td>2018</td>\n",
       "      <td>Number</td>\n",
       "      <td>15061</td>\n",
       "    </tr>\n",
       "    <tr>\n",
       "      <th>2</th>\n",
       "      <td>Nation</td>\n",
       "      <td>United States</td>\n",
       "      <td>Neglect</td>\n",
       "      <td>2018</td>\n",
       "      <td>Number</td>\n",
       "      <td>504825</td>\n",
       "    </tr>\n",
       "    <tr>\n",
       "      <th>3</th>\n",
       "      <td>Nation</td>\n",
       "      <td>United States</td>\n",
       "      <td>Other/missing maltreatment type</td>\n",
       "      <td>2018</td>\n",
       "      <td>Number</td>\n",
       "      <td>46774</td>\n",
       "    </tr>\n",
       "    <tr>\n",
       "      <th>4</th>\n",
       "      <td>Nation</td>\n",
       "      <td>United States</td>\n",
       "      <td>Physical abuse</td>\n",
       "      <td>2018</td>\n",
       "      <td>Number</td>\n",
       "      <td>120739</td>\n",
       "    </tr>\n",
       "    <tr>\n",
       "      <th>5</th>\n",
       "      <td>Nation</td>\n",
       "      <td>United States</td>\n",
       "      <td>Sexual abuse</td>\n",
       "      <td>2018</td>\n",
       "      <td>Number</td>\n",
       "      <td>60868</td>\n",
       "    </tr>\n",
       "    <tr>\n",
       "      <th>6</th>\n",
       "      <td>Nation</td>\n",
       "      <td>United States</td>\n",
       "      <td>Sexual abuse</td>\n",
       "      <td>2018</td>\n",
       "      <td>Percent</td>\n",
       "      <td>0.09</td>\n",
       "    </tr>\n",
       "    <tr>\n",
       "      <th>7</th>\n",
       "      <td>Nation</td>\n",
       "      <td>United States</td>\n",
       "      <td>Physical abuse</td>\n",
       "      <td>2018</td>\n",
       "      <td>Percent</td>\n",
       "      <td>0.18</td>\n",
       "    </tr>\n",
       "    <tr>\n",
       "      <th>8</th>\n",
       "      <td>Nation</td>\n",
       "      <td>United States</td>\n",
       "      <td>Other/missing maltreatment type</td>\n",
       "      <td>2018</td>\n",
       "      <td>Percent</td>\n",
       "      <td>0.07</td>\n",
       "    </tr>\n",
       "    <tr>\n",
       "      <th>9</th>\n",
       "      <td>Nation</td>\n",
       "      <td>United States</td>\n",
       "      <td>Neglect</td>\n",
       "      <td>2018</td>\n",
       "      <td>Percent</td>\n",
       "      <td>0.75</td>\n",
       "    </tr>\n",
       "  </tbody>\n",
       "</table>\n",
       "</div>"
      ],
      "text/plain": [
       "  LocationType       Location                         Category  TimeFrame  \\\n",
       "0       Nation  United States                  Emotional abuse       2018   \n",
       "1       Nation  United States                  Medical neglect       2018   \n",
       "2       Nation  United States                          Neglect       2018   \n",
       "3       Nation  United States  Other/missing maltreatment type       2018   \n",
       "4       Nation  United States                   Physical abuse       2018   \n",
       "5       Nation  United States                     Sexual abuse       2018   \n",
       "6       Nation  United States                     Sexual abuse       2018   \n",
       "7       Nation  United States                   Physical abuse       2018   \n",
       "8       Nation  United States  Other/missing maltreatment type       2018   \n",
       "9       Nation  United States                          Neglect       2018   \n",
       "\n",
       "  DataFormat    Data  \n",
       "0     Number   39015  \n",
       "1     Number   15061  \n",
       "2     Number  504825  \n",
       "3     Number   46774  \n",
       "4     Number  120739  \n",
       "5     Number   60868  \n",
       "6    Percent    0.09  \n",
       "7    Percent    0.18  \n",
       "8    Percent    0.07  \n",
       "9    Percent    0.75  "
      ]
     },
     "execution_count": 5,
     "metadata": {},
     "output_type": "execute_result"
    }
   ],
   "source": [
    "# read in data\n",
    "dat = pd.read_excel(\"maltreatment_data.xlsx\")\n",
    "dat.head(10)"
   ]
  },
  {
   "cell_type": "code",
   "execution_count": 99,
   "id": "adaf7fd6-4391-4f0f-b311-a968d6f5b43c",
   "metadata": {},
   "outputs": [
    {
     "data": {
      "text/html": [
       "<div>\n",
       "<style scoped>\n",
       "    .dataframe tbody tr th:only-of-type {\n",
       "        vertical-align: middle;\n",
       "    }\n",
       "\n",
       "    .dataframe tbody tr th {\n",
       "        vertical-align: top;\n",
       "    }\n",
       "\n",
       "    .dataframe thead th {\n",
       "        text-align: right;\n",
       "    }\n",
       "</style>\n",
       "<table border=\"1\" class=\"dataframe\">\n",
       "  <thead>\n",
       "    <tr style=\"text-align: right;\">\n",
       "      <th></th>\n",
       "      <th>LocationType</th>\n",
       "      <th>Location</th>\n",
       "      <th>Category</th>\n",
       "      <th>TimeFrame</th>\n",
       "      <th>DataFormat</th>\n",
       "      <th>Data</th>\n",
       "    </tr>\n",
       "  </thead>\n",
       "  <tbody>\n",
       "    <tr>\n",
       "      <th>1643</th>\n",
       "      <td>Territory</td>\n",
       "      <td>Puerto Rico</td>\n",
       "      <td>Sexual abuse</td>\n",
       "      <td>2018</td>\n",
       "      <td>Number</td>\n",
       "      <td>102</td>\n",
       "    </tr>\n",
       "    <tr>\n",
       "      <th>1644</th>\n",
       "      <td>Territory</td>\n",
       "      <td>Puerto Rico</td>\n",
       "      <td>Sexual abuse</td>\n",
       "      <td>2019</td>\n",
       "      <td>Number</td>\n",
       "      <td>115</td>\n",
       "    </tr>\n",
       "    <tr>\n",
       "      <th>1645</th>\n",
       "      <td>Territory</td>\n",
       "      <td>Puerto Rico</td>\n",
       "      <td>Sexual abuse</td>\n",
       "      <td>2020</td>\n",
       "      <td>Number</td>\n",
       "      <td>92</td>\n",
       "    </tr>\n",
       "    <tr>\n",
       "      <th>1646</th>\n",
       "      <td>Territory</td>\n",
       "      <td>Puerto Rico</td>\n",
       "      <td>Sexual abuse</td>\n",
       "      <td>2021</td>\n",
       "      <td>Number</td>\n",
       "      <td>174</td>\n",
       "    </tr>\n",
       "    <tr>\n",
       "      <th>1647</th>\n",
       "      <td>Territory</td>\n",
       "      <td>Puerto Rico</td>\n",
       "      <td>Sexual abuse</td>\n",
       "      <td>2022</td>\n",
       "      <td>Number</td>\n",
       "      <td>218</td>\n",
       "    </tr>\n",
       "  </tbody>\n",
       "</table>\n",
       "</div>"
      ],
      "text/plain": [
       "     LocationType     Location      Category  TimeFrame DataFormat  Data\n",
       "1643    Territory  Puerto Rico  Sexual abuse       2018     Number   102\n",
       "1644    Territory  Puerto Rico  Sexual abuse       2019     Number   115\n",
       "1645    Territory  Puerto Rico  Sexual abuse       2020     Number    92\n",
       "1646    Territory  Puerto Rico  Sexual abuse       2021     Number   174\n",
       "1647    Territory  Puerto Rico  Sexual abuse       2022     Number   218"
      ]
     },
     "execution_count": 99,
     "metadata": {},
     "output_type": "execute_result"
    }
   ],
   "source": [
    "# only retain numbers (not percentages)\n",
    "dat = dat[dat['DataFormat'] == 'Number']\n",
    "\n",
    "# convert cases reported to a numeric value\n",
    "dat['Data'] = pd.to_numeric(dat['Data'], errors='coerce').astype(int)\n",
    "\n",
    "# drop NA values\n",
    "dat = dat.dropna()\n",
    "\n",
    "# drop missing data \n",
    "dat = dat[dat['Category'] != 'Other/missing maltreatment type']\n",
    "\n",
    "# Merge \"Neglect\" and \"Medical Neglect\" into only \"Neglect\" \n",
    "dat['Category'] = dat['Category'].replace('Medical neglect', 'Neglect')\n",
    "dat = dat.groupby(['LocationType', 'Location', 'Category', 'TimeFrame', 'DataFormat']).agg({'Data': 'sum'}).reset_index()\n",
    "\n",
    "# check dataset\n",
    "dat.tail(5)"
   ]
  },
  {
   "cell_type": "code",
   "execution_count": 100,
   "id": "77abaeed-a14c-43e5-be93-022ed74a3f2c",
   "metadata": {},
   "outputs": [
    {
     "data": {
      "text/html": [
       "<div>\n",
       "<style scoped>\n",
       "    .dataframe tbody tr th:only-of-type {\n",
       "        vertical-align: middle;\n",
       "    }\n",
       "\n",
       "    .dataframe tbody tr th {\n",
       "        vertical-align: top;\n",
       "    }\n",
       "\n",
       "    .dataframe thead th {\n",
       "        text-align: right;\n",
       "    }\n",
       "</style>\n",
       "<table border=\"1\" class=\"dataframe\">\n",
       "  <thead>\n",
       "    <tr style=\"text-align: right;\">\n",
       "      <th></th>\n",
       "      <th>LocationType</th>\n",
       "      <th>Location</th>\n",
       "      <th>Category</th>\n",
       "      <th>TimeFrame</th>\n",
       "      <th>DataFormat</th>\n",
       "      <th>Data</th>\n",
       "    </tr>\n",
       "  </thead>\n",
       "  <tbody>\n",
       "    <tr>\n",
       "      <th>32</th>\n",
       "      <td>Nation</td>\n",
       "      <td>United States</td>\n",
       "      <td>Neglect</td>\n",
       "      <td>2015</td>\n",
       "      <td>Number</td>\n",
       "      <td>526281</td>\n",
       "    </tr>\n",
       "    <tr>\n",
       "      <th>33</th>\n",
       "      <td>Nation</td>\n",
       "      <td>United States</td>\n",
       "      <td>Neglect</td>\n",
       "      <td>2016</td>\n",
       "      <td>Number</td>\n",
       "      <td>513980</td>\n",
       "    </tr>\n",
       "    <tr>\n",
       "      <th>34</th>\n",
       "      <td>Nation</td>\n",
       "      <td>United States</td>\n",
       "      <td>Neglect</td>\n",
       "      <td>2017</td>\n",
       "      <td>Number</td>\n",
       "      <td>517004</td>\n",
       "    </tr>\n",
       "  </tbody>\n",
       "</table>\n",
       "</div>"
      ],
      "text/plain": [
       "   LocationType       Location Category  TimeFrame DataFormat    Data\n",
       "32       Nation  United States  Neglect       2015     Number  526281\n",
       "33       Nation  United States  Neglect       2016     Number  513980\n",
       "34       Nation  United States  Neglect       2017     Number  517004"
      ]
     },
     "execution_count": 100,
     "metadata": {},
     "output_type": "execute_result"
    }
   ],
   "source": [
    "# confirm data merge \n",
    "us_dat = dat[(dat['Location'] == 'United States') & (dat['Category'] == 'Neglect')]\n",
    "us_dat.head(3)"
   ]
  },
  {
   "cell_type": "code",
   "execution_count": 101,
   "id": "5c4e265b-8981-4bfb-986d-8571d849f7b2",
   "metadata": {},
   "outputs": [
    {
     "name": "stdout",
     "output_type": "stream",
     "text": [
      "Index(['LocationType', 'Location', 'Category', 'TimeFrame', 'DataFormat',\n",
      "       'Data'],\n",
      "      dtype='object')\n"
     ]
    }
   ],
   "source": [
    "# Display column names\n",
    "print(dat.columns)"
   ]
  },
  {
   "cell_type": "code",
   "execution_count": 102,
   "id": "7024532b-2736-4324-bee3-7132177cf871",
   "metadata": {},
   "outputs": [],
   "source": [
    "import plotly.graph_objects as go\n",
    "\n",
    "# get unique levels of each categorical variable \n",
    "#unique_loctypes = dat['LocationType'].unique()\n",
    "#unique_location = dat['Location'].unique()\n",
    "#unique_category = dat['Category'].unique()\n",
    "#unique_years = dat['TimeFrame'].unique()\n",
    "#unique_count = dat['Data'].unique()"
   ]
  },
  {
   "cell_type": "code",
   "execution_count": 103,
   "id": "22589036-fa7f-4144-9f9d-8d50e597d2a3",
   "metadata": {},
   "outputs": [
    {
     "data": {
      "text/html": [
       "<div>\n",
       "<style scoped>\n",
       "    .dataframe tbody tr th:only-of-type {\n",
       "        vertical-align: middle;\n",
       "    }\n",
       "\n",
       "    .dataframe tbody tr th {\n",
       "        vertical-align: top;\n",
       "    }\n",
       "\n",
       "    .dataframe thead th {\n",
       "        text-align: right;\n",
       "    }\n",
       "</style>\n",
       "<table border=\"1\" class=\"dataframe\">\n",
       "  <thead>\n",
       "    <tr style=\"text-align: right;\">\n",
       "      <th></th>\n",
       "      <th>LocationType</th>\n",
       "      <th>Location</th>\n",
       "      <th>Category</th>\n",
       "      <th>TimeFrame</th>\n",
       "      <th>DataFormat</th>\n",
       "      <th>Data</th>\n",
       "    </tr>\n",
       "  </thead>\n",
       "  <tbody>\n",
       "    <tr>\n",
       "      <th>0</th>\n",
       "      <td>City</td>\n",
       "      <td>District of Columbia</td>\n",
       "      <td>Neglect</td>\n",
       "      <td>2015</td>\n",
       "      <td>Number</td>\n",
       "      <td>1136</td>\n",
       "    </tr>\n",
       "    <tr>\n",
       "      <th>8</th>\n",
       "      <td>City</td>\n",
       "      <td>District of Columbia</td>\n",
       "      <td>Physical abuse</td>\n",
       "      <td>2015</td>\n",
       "      <td>Number</td>\n",
       "      <td>269</td>\n",
       "    </tr>\n",
       "    <tr>\n",
       "      <th>16</th>\n",
       "      <td>City</td>\n",
       "      <td>District of Columbia</td>\n",
       "      <td>Sexual abuse</td>\n",
       "      <td>2015</td>\n",
       "      <td>Number</td>\n",
       "      <td>40</td>\n",
       "    </tr>\n",
       "    <tr>\n",
       "      <th>24</th>\n",
       "      <td>Nation</td>\n",
       "      <td>United States</td>\n",
       "      <td>Emotional abuse</td>\n",
       "      <td>2015</td>\n",
       "      <td>Number</td>\n",
       "      <td>41952</td>\n",
       "    </tr>\n",
       "    <tr>\n",
       "      <th>32</th>\n",
       "      <td>Nation</td>\n",
       "      <td>United States</td>\n",
       "      <td>Neglect</td>\n",
       "      <td>2015</td>\n",
       "      <td>Number</td>\n",
       "      <td>526281</td>\n",
       "    </tr>\n",
       "  </tbody>\n",
       "</table>\n",
       "</div>"
      ],
      "text/plain": [
       "   LocationType              Location         Category  TimeFrame DataFormat  \\\n",
       "0          City  District of Columbia          Neglect       2015     Number   \n",
       "8          City  District of Columbia   Physical abuse       2015     Number   \n",
       "16         City  District of Columbia     Sexual abuse       2015     Number   \n",
       "24       Nation         United States  Emotional abuse       2015     Number   \n",
       "32       Nation         United States          Neglect       2015     Number   \n",
       "\n",
       "      Data  \n",
       "0     1136  \n",
       "8      269  \n",
       "16      40  \n",
       "24   41952  \n",
       "32  526281  "
      ]
     },
     "execution_count": 103,
     "metadata": {},
     "output_type": "execute_result"
    }
   ],
   "source": [
    "import plotly.express as px\n",
    "\n",
    "# Filter the data by maltreatment type and year\n",
    "#filtered_dat = dat[(dat['Category'] == 'Category') & (dat['Location'] == 'Location') & (dat['TimeFrame'] == 'TimeFrame') & (dat['Data'] == 'Data')]\n",
    "dat15 = dat[(dat['TimeFrame'] == 2015)]\n",
    "dat16 = dat[(dat['TimeFrame'] == 2016)]\n",
    "dat17 = dat[(dat['TimeFrame'] == 2017)]\n",
    "dat18 = dat[(dat['TimeFrame'] == 2018)]\n",
    "dat19 = dat[(dat['TimeFrame'] == 2019)]\n",
    "dat20 = dat[(dat['TimeFrame'] == 2020)]\n",
    "dat21 = dat[(dat['TimeFrame'] == 2021)] \n",
    "dat22 = dat[(dat['TimeFrame'] == 2022)]\n",
    "\n",
    "dat15.head()"
   ]
  },
  {
   "cell_type": "code",
   "execution_count": 166,
   "id": "d9652033-5646-45c8-8774-ce28911e4a7c",
   "metadata": {},
   "outputs": [
    {
     "data": {
      "application/vnd.plotly.v1+json": {
       "config": {
        "plotlyServerURL": "https://plot.ly"
       },
       "data": [
        {
         "coloraxis": "coloraxis",
         "customdata": [
          [
           1136
          ],
          [
           269
          ],
          [
           40
          ],
          [
           41952
          ],
          [
           526281
          ],
          [
           116365
          ],
          [
           56940
          ],
          [
           21
          ],
          [
           3329
          ],
          [
           4392
          ],
          [
           1463
          ],
          [
           718
          ],
          [
           2442
          ],
          [
           331
          ],
          [
           155
          ],
          [
           6
          ],
          [
           11053
          ],
          [
           1071
          ],
          [
           346
          ],
          [
           123
          ],
          [
           6232
          ],
          [
           2009
          ],
          [
           1873
          ],
          [
           9040
          ],
          [
           62145
          ],
          [
           6466
          ],
          [
           3617
          ],
          [
           313
          ],
          [
           8225
          ],
          [
           1149
          ],
          [
           1008
          ],
          [
           2036
          ],
          [
           6107
          ],
          [
           467
          ],
          [
           389
          ],
          [
           658
          ],
          [
           466
          ],
          [
           282
          ],
          [
           108
          ],
          [
           622
          ],
          [
           24652
          ],
          [
           4181
          ],
          [
           2498
          ],
          [
           5732
          ],
          [
           20828
          ],
          [
           2889
          ],
          [
           926
          ],
          [
           12
          ],
          [
           253
          ],
          [
           158
          ],
          [
           66
          ],
          [
           1248
          ],
          [
           377
          ],
          [
           63
          ],
          [
           32
          ],
          [
           21546
          ],
          [
           6474
          ],
          [
           4488
          ],
          [
           23033
          ],
          [
           2209
          ],
          [
           2664
          ],
          [
           52
          ],
          [
           5842
          ],
          [
           1328
          ],
          [
           534
          ],
          [
           276
          ],
          [
           431
          ],
          [
           453
          ],
          [
           601
          ],
          [
           67
          ],
          [
           17821
          ],
          [
           1564
          ],
          [
           901
          ],
          [
           60
          ],
          [
           10746
          ],
          [
           1946
          ],
          [
           675
          ],
          [
           1079
          ],
          [
           2240
          ],
          [
           970
          ],
          [
           233
          ],
          [
           19
          ],
          [
           4020
          ],
          [
           1529
          ],
          [
           1617
          ],
          [
           35
          ],
          [
           29276
          ],
          [
           2991
          ],
          [
           705
          ],
          [
           133
          ],
          [
           28685
          ],
          [
           8214
          ],
          [
           1083
          ],
          [
           47
          ],
          [
           3528
          ],
          [
           1152
          ],
          [
           930
          ],
          [
           1117
          ],
          [
           6931
          ],
          [
           1360
          ],
          [
           865
          ],
          [
           487
          ],
          [
           3830
          ],
          [
           1642
          ],
          [
           1334
          ],
          [
           48
          ],
          [
           1749
          ],
          [
           105
          ],
          [
           71
          ],
          [
           38
          ],
          [
           2962
          ],
          [
           423
          ],
          [
           237
          ],
          [
           41
          ],
          [
           3742
          ],
          [
           1650
          ],
          [
           277
          ],
          [
           5
          ],
          [
           673
          ],
          [
           48
          ],
          [
           80
          ],
          [
           45
          ],
          [
           7848
          ],
          [
           1462
          ],
          [
           840
          ],
          [
           2000
          ],
          [
           7418
          ],
          [
           1158
          ],
          [
           231
          ],
          [
           464
          ],
          [
           67484
          ],
          [
           6483
          ],
          [
           1987
          ],
          [
           90
          ],
          [
           4320
          ],
          [
           1777
          ],
          [
           1594
          ],
          [
           554
          ],
          [
           1329
          ],
          [
           212
          ],
          [
           65
          ],
          [
           823
          ],
          [
           10459
          ],
          [
           10132
          ],
          [
           4660
          ],
          [
           3867
          ],
          [
           11171
          ],
          [
           2386
          ],
          [
           619
          ],
          [
           244
          ],
          [
           5866
          ],
          [
           1039
          ],
          [
           833
          ],
          [
           50
          ],
          [
           257
          ],
          [
           1456
          ],
          [
           1872
          ],
          [
           1259
          ],
          [
           1838
          ],
          [
           411
          ],
          [
           127
          ],
          [
           101
          ],
          [
           9563
          ],
          [
           6700
          ],
          [
           767
          ],
          [
           22
          ],
          [
           940
          ],
          [
           122
          ],
          [
           26
          ],
          [
           331
          ],
          [
           7664
          ],
          [
           1409
          ],
          [
           2608
          ],
          [
           394
          ],
          [
           53369
          ],
          [
           10349
          ],
          [
           5712
          ],
          [
           2794
          ],
          [
           2478
          ],
          [
           3927
          ],
          [
           2023
          ],
          [
           7
          ],
          [
           40
          ],
          [
           438
          ],
          [
           472
          ],
          [
           69
          ],
          [
           4072
          ],
          [
           1810
          ],
          [
           633
          ],
          [
           4646
          ],
          [
           1182
          ],
          [
           538
          ],
          [
           2715
          ],
          [
           2451
          ],
          [
           3391
          ],
          [
           196
          ],
          [
           37
          ],
          [
           3071
          ],
          [
           839
          ],
          [
           1093
          ],
          [
           183
          ],
          [
           771
          ],
          [
           19
          ],
          [
           67
          ],
          [
           3086
          ],
          [
           4055
          ],
          [
           1564
          ],
          [
           130
          ]
         ],
         "geo": "geo",
         "hovertemplate": "Location=%{location}<br>Case Count=%{z}<extra></extra>",
         "locationmode": "USA-states",
         "locations": [
          "District of Columbia",
          "District of Columbia",
          "District of Columbia",
          "United States",
          "United States",
          "United States",
          "United States",
          "Alabama",
          "Alabama",
          "Alabama",
          "Alabama",
          "Alaska",
          "Alaska",
          "Alaska",
          "Alaska",
          "Arizona",
          "Arizona",
          "Arizona",
          "Arizona",
          "Arkansas",
          "Arkansas",
          "Arkansas",
          "Arkansas",
          "California",
          "California",
          "California",
          "California",
          "Colorado",
          "Colorado",
          "Colorado",
          "Colorado",
          "Connecticut",
          "Connecticut",
          "Connecticut",
          "Connecticut",
          "Delaware",
          "Delaware",
          "Delaware",
          "Delaware",
          "Florida",
          "Florida",
          "Florida",
          "Florida",
          "Georgia",
          "Georgia",
          "Georgia",
          "Georgia",
          "Hawaii",
          "Hawaii",
          "Hawaii",
          "Hawaii",
          "Idaho",
          "Idaho",
          "Idaho",
          "Illinois",
          "Illinois",
          "Illinois",
          "Illinois",
          "Indiana",
          "Indiana",
          "Indiana",
          "Iowa",
          "Iowa",
          "Iowa",
          "Iowa",
          "Kansas",
          "Kansas",
          "Kansas",
          "Kansas",
          "Kentucky",
          "Kentucky",
          "Kentucky",
          "Kentucky",
          "Louisiana",
          "Louisiana",
          "Louisiana",
          "Louisiana",
          "Maine",
          "Maine",
          "Maine",
          "Maine",
          "Maryland",
          "Maryland",
          "Maryland",
          "Maryland",
          "Massachusetts",
          "Massachusetts",
          "Massachusetts",
          "Massachusetts",
          "Michigan",
          "Michigan",
          "Michigan",
          "Michigan",
          "Minnesota",
          "Minnesota",
          "Minnesota",
          "Minnesota",
          "Mississippi",
          "Mississippi",
          "Mississippi",
          "Mississippi",
          "Missouri",
          "Missouri",
          "Missouri",
          "Missouri",
          "Montana",
          "Montana",
          "Montana",
          "Montana",
          "Nebraska",
          "Nebraska",
          "Nebraska",
          "Nebraska",
          "Nevada",
          "Nevada",
          "Nevada",
          "Nevada",
          "New Hampshire",
          "New Hampshire",
          "New Hampshire",
          "New Hampshire",
          "New Jersey",
          "New Jersey",
          "New Jersey",
          "New Jersey",
          "New Mexico",
          "New Mexico",
          "New Mexico",
          "New Mexico",
          "New York",
          "New York",
          "New York",
          "New York",
          "North Carolina",
          "North Carolina",
          "North Carolina",
          "North Carolina",
          "North Dakota",
          "North Dakota",
          "North Dakota",
          "North Dakota",
          "Ohio",
          "Ohio",
          "Ohio",
          "Ohio",
          "Oklahoma",
          "Oklahoma",
          "Oklahoma",
          "Oklahoma",
          "Oregon",
          "Oregon",
          "Oregon",
          "Oregon",
          "Pennsylvania",
          "Pennsylvania",
          "Pennsylvania",
          "Pennsylvania",
          "Rhode Island",
          "Rhode Island",
          "Rhode Island",
          "Rhode Island",
          "South Carolina",
          "South Carolina",
          "South Carolina",
          "South Carolina",
          "South Dakota",
          "South Dakota",
          "South Dakota",
          "South Dakota",
          "Tennessee",
          "Tennessee",
          "Tennessee",
          "Tennessee",
          "Texas",
          "Texas",
          "Texas",
          "Texas",
          "Utah",
          "Utah",
          "Utah",
          "Utah",
          "Vermont",
          "Vermont",
          "Vermont",
          "Vermont",
          "Virginia",
          "Virginia",
          "Virginia",
          "Virginia",
          "Washington",
          "Washington",
          "Washington",
          "West Virginia",
          "West Virginia",
          "West Virginia",
          "West Virginia",
          "Wisconsin",
          "Wisconsin",
          "Wisconsin",
          "Wisconsin",
          "Wyoming",
          "Wyoming",
          "Wyoming",
          "Wyoming",
          "Puerto Rico",
          "Puerto Rico",
          "Puerto Rico",
          "Puerto Rico"
         ],
         "name": "",
         "type": "choropleth",
         "z": [
          1136,
          269,
          40,
          41952,
          526281,
          116365,
          56940,
          21,
          3329,
          4392,
          1463,
          718,
          2442,
          331,
          155,
          6,
          11053,
          1071,
          346,
          123,
          6232,
          2009,
          1873,
          9040,
          62145,
          6466,
          3617,
          313,
          8225,
          1149,
          1008,
          2036,
          6107,
          467,
          389,
          658,
          466,
          282,
          108,
          622,
          24652,
          4181,
          2498,
          5732,
          20828,
          2889,
          926,
          12,
          253,
          158,
          66,
          1248,
          377,
          63,
          32,
          21546,
          6474,
          4488,
          23033,
          2209,
          2664,
          52,
          5842,
          1328,
          534,
          276,
          431,
          453,
          601,
          67,
          17821,
          1564,
          901,
          60,
          10746,
          1946,
          675,
          1079,
          2240,
          970,
          233,
          19,
          4020,
          1529,
          1617,
          35,
          29276,
          2991,
          705,
          133,
          28685,
          8214,
          1083,
          47,
          3528,
          1152,
          930,
          1117,
          6931,
          1360,
          865,
          487,
          3830,
          1642,
          1334,
          48,
          1749,
          105,
          71,
          38,
          2962,
          423,
          237,
          41,
          3742,
          1650,
          277,
          5,
          673,
          48,
          80,
          45,
          7848,
          1462,
          840,
          2000,
          7418,
          1158,
          231,
          464,
          67484,
          6483,
          1987,
          90,
          4320,
          1777,
          1594,
          554,
          1329,
          212,
          65,
          823,
          10459,
          10132,
          4660,
          3867,
          11171,
          2386,
          619,
          244,
          5866,
          1039,
          833,
          50,
          257,
          1456,
          1872,
          1259,
          1838,
          411,
          127,
          101,
          9563,
          6700,
          767,
          22,
          940,
          122,
          26,
          331,
          7664,
          1409,
          2608,
          394,
          53369,
          10349,
          5712,
          2794,
          2478,
          3927,
          2023,
          7,
          40,
          438,
          472,
          69,
          4072,
          1810,
          633,
          4646,
          1182,
          538,
          2715,
          2451,
          3391,
          196,
          37,
          3071,
          839,
          1093,
          183,
          771,
          19,
          67,
          3086,
          4055,
          1564,
          130
         ]
        }
       ],
       "layout": {
        "autosize": true,
        "coloraxis": {
         "cmin": 0,
         "colorbar": {
          "ticks": "outside",
          "title": {
           "text": "Cases Count"
          }
         },
         "colorscale": [
          [
           0,
           "rgb(255,245,235)"
          ],
          [
           0.125,
           "rgb(254,230,206)"
          ],
          [
           0.25,
           "rgb(253,208,162)"
          ],
          [
           0.375,
           "rgb(253,174,107)"
          ],
          [
           0.5,
           "rgb(253,141,60)"
          ],
          [
           0.625,
           "rgb(241,105,19)"
          ],
          [
           0.75,
           "rgb(217,72,1)"
          ],
          [
           0.875,
           "rgb(166,54,3)"
          ],
          [
           1,
           "rgb(127,39,4)"
          ]
         ]
        },
        "geo": {
         "center": {
          "lat": 35.90182543041657,
          "lon": -93.4390068181207
         },
         "domain": {
          "x": [
           0,
           1
          ],
          "y": [
           0,
           1
          ]
         },
         "projection": {
          "scale": 0.9377483517822459
         },
         "scope": "usa"
        },
        "legend": {
         "tracegroupgap": 0
        },
        "margin": {
         "t": 60
        },
        "template": {
         "data": {
          "candlestick": [
           {
            "decreasing": {
             "line": {
              "color": "#000033"
             }
            },
            "increasing": {
             "line": {
              "color": "#000032"
             }
            },
            "type": "candlestick"
           }
          ],
          "contour": [
           {
            "colorscale": [
             [
              0,
              "#000011"
             ],
             [
              0.1111111111111111,
              "#000012"
             ],
             [
              0.2222222222222222,
              "#000013"
             ],
             [
              0.3333333333333333,
              "#000014"
             ],
             [
              0.4444444444444444,
              "#000015"
             ],
             [
              0.5555555555555556,
              "#000016"
             ],
             [
              0.6666666666666666,
              "#000017"
             ],
             [
              0.7777777777777778,
              "#000018"
             ],
             [
              0.8888888888888888,
              "#000019"
             ],
             [
              1,
              "#000020"
             ]
            ],
            "type": "contour"
           }
          ],
          "contourcarpet": [
           {
            "colorscale": [
             [
              0,
              "#000011"
             ],
             [
              0.1111111111111111,
              "#000012"
             ],
             [
              0.2222222222222222,
              "#000013"
             ],
             [
              0.3333333333333333,
              "#000014"
             ],
             [
              0.4444444444444444,
              "#000015"
             ],
             [
              0.5555555555555556,
              "#000016"
             ],
             [
              0.6666666666666666,
              "#000017"
             ],
             [
              0.7777777777777778,
              "#000018"
             ],
             [
              0.8888888888888888,
              "#000019"
             ],
             [
              1,
              "#000020"
             ]
            ],
            "type": "contourcarpet"
           }
          ],
          "heatmap": [
           {
            "colorscale": [
             [
              0,
              "#000011"
             ],
             [
              0.1111111111111111,
              "#000012"
             ],
             [
              0.2222222222222222,
              "#000013"
             ],
             [
              0.3333333333333333,
              "#000014"
             ],
             [
              0.4444444444444444,
              "#000015"
             ],
             [
              0.5555555555555556,
              "#000016"
             ],
             [
              0.6666666666666666,
              "#000017"
             ],
             [
              0.7777777777777778,
              "#000018"
             ],
             [
              0.8888888888888888,
              "#000019"
             ],
             [
              1,
              "#000020"
             ]
            ],
            "type": "heatmap"
           }
          ],
          "histogram2d": [
           {
            "colorscale": [
             [
              0,
              "#000011"
             ],
             [
              0.1111111111111111,
              "#000012"
             ],
             [
              0.2222222222222222,
              "#000013"
             ],
             [
              0.3333333333333333,
              "#000014"
             ],
             [
              0.4444444444444444,
              "#000015"
             ],
             [
              0.5555555555555556,
              "#000016"
             ],
             [
              0.6666666666666666,
              "#000017"
             ],
             [
              0.7777777777777778,
              "#000018"
             ],
             [
              0.8888888888888888,
              "#000019"
             ],
             [
              1,
              "#000020"
             ]
            ],
            "type": "histogram2d"
           }
          ],
          "icicle": [
           {
            "textfont": {
             "color": "white"
            },
            "type": "icicle"
           }
          ],
          "sankey": [
           {
            "textfont": {
             "color": "#000036"
            },
            "type": "sankey"
           }
          ],
          "scatter": [
           {
            "marker": {
             "line": {
              "width": 0
             }
            },
            "type": "scatter"
           }
          ],
          "table": [
           {
            "cells": {
             "fill": {
              "color": "#000038"
             },
             "font": {
              "color": "#000037"
             },
             "line": {
              "color": "#000039"
             }
            },
            "header": {
             "fill": {
              "color": "#000040"
             },
             "font": {
              "color": "#000036"
             },
             "line": {
              "color": "#000039"
             }
            },
            "type": "table"
           }
          ],
          "waterfall": [
           {
            "connector": {
             "line": {
              "color": "#000036",
              "width": 2
             }
            },
            "decreasing": {
             "marker": {
              "color": "#000033"
             }
            },
            "increasing": {
             "marker": {
              "color": "#000032"
             }
            },
            "totals": {
             "marker": {
              "color": "#000034"
             }
            },
            "type": "waterfall"
           }
          ]
         },
         "layout": {
          "coloraxis": {
           "colorscale": [
            [
             0,
             "#000011"
            ],
            [
             0.1111111111111111,
             "#000012"
            ],
            [
             0.2222222222222222,
             "#000013"
            ],
            [
             0.3333333333333333,
             "#000014"
            ],
            [
             0.4444444444444444,
             "#000015"
            ],
            [
             0.5555555555555556,
             "#000016"
            ],
            [
             0.6666666666666666,
             "#000017"
            ],
            [
             0.7777777777777778,
             "#000018"
            ],
            [
             0.8888888888888888,
             "#000019"
            ],
            [
             1,
             "#000020"
            ]
           ]
          },
          "colorscale": {
           "diverging": [
            [
             0,
             "#000021"
            ],
            [
             0.1,
             "#000022"
            ],
            [
             0.2,
             "#000023"
            ],
            [
             0.3,
             "#000024"
            ],
            [
             0.4,
             "#000025"
            ],
            [
             0.5,
             "#000026"
            ],
            [
             0.6,
             "#000027"
            ],
            [
             0.7,
             "#000028"
            ],
            [
             0.8,
             "#000029"
            ],
            [
             0.9,
             "#000030"
            ],
            [
             1,
             "#000031"
            ]
           ],
           "sequential": [
            [
             0,
             "#000011"
            ],
            [
             0.1111111111111111,
             "#000012"
            ],
            [
             0.2222222222222222,
             "#000013"
            ],
            [
             0.3333333333333333,
             "#000014"
            ],
            [
             0.4444444444444444,
             "#000015"
            ],
            [
             0.5555555555555556,
             "#000016"
            ],
            [
             0.6666666666666666,
             "#000017"
            ],
            [
             0.7777777777777778,
             "#000018"
            ],
            [
             0.8888888888888888,
             "#000019"
            ],
            [
             1,
             "#000020"
            ]
           ],
           "sequentialminus": [
            [
             0,
             "#000011"
            ],
            [
             0.1111111111111111,
             "#000012"
            ],
            [
             0.2222222222222222,
             "#000013"
            ],
            [
             0.3333333333333333,
             "#000014"
            ],
            [
             0.4444444444444444,
             "#000015"
            ],
            [
             0.5555555555555556,
             "#000016"
            ],
            [
             0.6666666666666666,
             "#000017"
            ],
            [
             0.7777777777777778,
             "#000018"
            ],
            [
             0.8888888888888888,
             "#000019"
            ],
            [
             1,
             "#000020"
            ]
           ]
          },
          "colorway": [
           "#000001",
           "#000002",
           "#000003",
           "#000004",
           "#000005",
           "#000006",
           "#000007",
           "#000008",
           "#000009",
           "#000010"
          ]
         }
        }
       }
      },
      "image/png": "[encoded data removed]",
      "text/html": [
       "<div>                            <div id=\"db031c1c-034e-4a87-a881-a570e6cc0b9f\" class=\"plotly-graph-div\" style=\"height:525px; width:100%;\"></div>            <script type=\"text/javascript\">                require([\"plotly\"], function(Plotly) {                    window.PLOTLYENV=window.PLOTLYENV || {};                                    if (document.getElementById(\"db031c1c-034e-4a87-a881-a570e6cc0b9f\")) {                    Plotly.newPlot(                        \"db031c1c-034e-4a87-a881-a570e6cc0b9f\",                        [{\"coloraxis\":\"coloraxis\",\"customdata\":[[1136],[269],[40],[41952],[526281],[116365],[56940],[21],[3329],[4392],[1463],[718],[2442],[331],[155],[6],[11053],[1071],[346],[123],[6232],[2009],[1873],[9040],[62145],[6466],[3617],[313],[8225],[1149],[1008],[2036],[6107],[467],[389],[658],[466],[282],[108],[622],[24652],[4181],[2498],[5732],[20828],[2889],[926],[12],[253],[158],[66],[1248],[377],[63],[32],[21546],[6474],[4488],[23033],[2209],[2664],[52],[5842],[1328],[534],[276],[431],[453],[601],[67],[17821],[1564],[901],[60],[10746],[1946],[675],[1079],[2240],[970],[233],[19],[4020],[1529],[1617],[35],[29276],[2991],[705],[133],[28685],[8214],[1083],[47],[3528],[1152],[930],[1117],[6931],[1360],[865],[487],[3830],[1642],[1334],[48],[1749],[105],[71],[38],[2962],[423],[237],[41],[3742],[1650],[277],[5],[673],[48],[80],[45],[7848],[1462],[840],[2000],[7418],[1158],[231],[464],[67484],[6483],[1987],[90],[4320],[1777],[1594],[554],[1329],[212],[65],[823],[10459],[10132],[4660],[3867],[11171],[2386],[619],[244],[5866],[1039],[833],[50],[257],[1456],[1872],[1259],[1838],[411],[127],[101],[9563],[6700],[767],[22],[940],[122],[26],[331],[7664],[1409],[2608],[394],[53369],[10349],[5712],[2794],[2478],[3927],[2023],[7],[40],[438],[472],[69],[4072],[1810],[633],[4646],[1182],[538],[2715],[2451],[3391],[196],[37],[3071],[839],[1093],[183],[771],[19],[67],[3086],[4055],[1564],[130]],\"geo\":\"geo\",\"hovertemplate\":\"Location=%{location}\\u003cbr\\u003eCase Count=%{z}\\u003cextra\\u003e\\u003c\\u002fextra\\u003e\",\"locationmode\":\"USA-states\",\"locations\":[\"District of Columbia\",\"District of Columbia\",\"District of Columbia\",\"United States\",\"United States\",\"United States\",\"United States\",\"Alabama\",\"Alabama\",\"Alabama\",\"Alabama\",\"Alaska\",\"Alaska\",\"Alaska\",\"Alaska\",\"Arizona\",\"Arizona\",\"Arizona\",\"Arizona\",\"Arkansas\",\"Arkansas\",\"Arkansas\",\"Arkansas\",\"California\",\"California\",\"California\",\"California\",\"Colorado\",\"Colorado\",\"Colorado\",\"Colorado\",\"Connecticut\",\"Connecticut\",\"Connecticut\",\"Connecticut\",\"Delaware\",\"Delaware\",\"Delaware\",\"Delaware\",\"Florida\",\"Florida\",\"Florida\",\"Florida\",\"Georgia\",\"Georgia\",\"Georgia\",\"Georgia\",\"Hawaii\",\"Hawaii\",\"Hawaii\",\"Hawaii\",\"Idaho\",\"Idaho\",\"Idaho\",\"Illinois\",\"Illinois\",\"Illinois\",\"Illinois\",\"Indiana\",\"Indiana\",\"Indiana\",\"Iowa\",\"Iowa\",\"Iowa\",\"Iowa\",\"Kansas\",\"Kansas\",\"Kansas\",\"Kansas\",\"Kentucky\",\"Kentucky\",\"Kentucky\",\"Kentucky\",\"Louisiana\",\"Louisiana\",\"Louisiana\",\"Louisiana\",\"Maine\",\"Maine\",\"Maine\",\"Maine\",\"Maryland\",\"Maryland\",\"Maryland\",\"Maryland\",\"Massachusetts\",\"Massachusetts\",\"Massachusetts\",\"Massachusetts\",\"Michigan\",\"Michigan\",\"Michigan\",\"Michigan\",\"Minnesota\",\"Minnesota\",\"Minnesota\",\"Minnesota\",\"Mississippi\",\"Mississippi\",\"Mississippi\",\"Mississippi\",\"Missouri\",\"Missouri\",\"Missouri\",\"Missouri\",\"Montana\",\"Montana\",\"Montana\",\"Montana\",\"Nebraska\",\"Nebraska\",\"Nebraska\",\"Nebraska\",\"Nevada\",\"Nevada\",\"Nevada\",\"Nevada\",\"New Hampshire\",\"New Hampshire\",\"New Hampshire\",\"New Hampshire\",\"New Jersey\",\"New Jersey\",\"New Jersey\",\"New Jersey\",\"New Mexico\",\"New Mexico\",\"New Mexico\",\"New Mexico\",\"New York\",\"New York\",\"New York\",\"New York\",\"North Carolina\",\"North Carolina\",\"North Carolina\",\"North Carolina\",\"North Dakota\",\"North Dakota\",\"North Dakota\",\"North Dakota\",\"Ohio\",\"Ohio\",\"Ohio\",\"Ohio\",\"Oklahoma\",\"Oklahoma\",\"Oklahoma\",\"Oklahoma\",\"Oregon\",\"Oregon\",\"Oregon\",\"Oregon\",\"Pennsylvania\",\"Pennsylvania\",\"Pennsylvania\",\"Pennsylvania\",\"Rhode Island\",\"Rhode Island\",\"Rhode Island\",\"Rhode Island\",\"South Carolina\",\"South Carolina\",\"South Carolina\",\"South Carolina\",\"South Dakota\",\"South Dakota\",\"South Dakota\",\"South Dakota\",\"Tennessee\",\"Tennessee\",\"Tennessee\",\"Tennessee\",\"Texas\",\"Texas\",\"Texas\",\"Texas\",\"Utah\",\"Utah\",\"Utah\",\"Utah\",\"Vermont\",\"Vermont\",\"Vermont\",\"Vermont\",\"Virginia\",\"Virginia\",\"Virginia\",\"Virginia\",\"Washington\",\"Washington\",\"Washington\",\"West Virginia\",\"West Virginia\",\"West Virginia\",\"West Virginia\",\"Wisconsin\",\"Wisconsin\",\"Wisconsin\",\"Wisconsin\",\"Wyoming\",\"Wyoming\",\"Wyoming\",\"Wyoming\",\"Puerto Rico\",\"Puerto Rico\",\"Puerto Rico\",\"Puerto Rico\"],\"name\":\"\",\"z\":[1136,269,40,41952,526281,116365,56940,21,3329,4392,1463,718,2442,331,155,6,11053,1071,346,123,6232,2009,1873,9040,62145,6466,3617,313,8225,1149,1008,2036,6107,467,389,658,466,282,108,622,24652,4181,2498,5732,20828,2889,926,12,253,158,66,1248,377,63,32,21546,6474,4488,23033,2209,2664,52,5842,1328,534,276,431,453,601,67,17821,1564,901,60,10746,1946,675,1079,2240,970,233,19,4020,1529,1617,35,29276,2991,705,133,28685,8214,1083,47,3528,1152,930,1117,6931,1360,865,487,3830,1642,1334,48,1749,105,71,38,2962,423,237,41,3742,1650,277,5,673,48,80,45,7848,1462,840,2000,7418,1158,231,464,67484,6483,1987,90,4320,1777,1594,554,1329,212,65,823,10459,10132,4660,3867,11171,2386,619,244,5866,1039,833,50,257,1456,1872,1259,1838,411,127,101,9563,6700,767,22,940,122,26,331,7664,1409,2608,394,53369,10349,5712,2794,2478,3927,2023,7,40,438,472,69,4072,1810,633,4646,1182,538,2715,2451,3391,196,37,3071,839,1093,183,771,19,67,3086,4055,1564,130],\"type\":\"choropleth\"}],                        {\"template\":{\"data\":{\"candlestick\":[{\"decreasing\":{\"line\":{\"color\":\"#000033\"}},\"increasing\":{\"line\":{\"color\":\"#000032\"}},\"type\":\"candlestick\"}],\"contourcarpet\":[{\"colorscale\":[[0.0,\"#000011\"],[0.1111111111111111,\"#000012\"],[0.2222222222222222,\"#000013\"],[0.3333333333333333,\"#000014\"],[0.4444444444444444,\"#000015\"],[0.5555555555555556,\"#000016\"],[0.6666666666666666,\"#000017\"],[0.7777777777777778,\"#000018\"],[0.8888888888888888,\"#000019\"],[1.0,\"#000020\"]],\"type\":\"contourcarpet\"}],\"contour\":[{\"colorscale\":[[0.0,\"#000011\"],[0.1111111111111111,\"#000012\"],[0.2222222222222222,\"#000013\"],[0.3333333333333333,\"#000014\"],[0.4444444444444444,\"#000015\"],[0.5555555555555556,\"#000016\"],[0.6666666666666666,\"#000017\"],[0.7777777777777778,\"#000018\"],[0.8888888888888888,\"#000019\"],[1.0,\"#000020\"]],\"type\":\"contour\"}],\"heatmap\":[{\"colorscale\":[[0.0,\"#000011\"],[0.1111111111111111,\"#000012\"],[0.2222222222222222,\"#000013\"],[0.3333333333333333,\"#000014\"],[0.4444444444444444,\"#000015\"],[0.5555555555555556,\"#000016\"],[0.6666666666666666,\"#000017\"],[0.7777777777777778,\"#000018\"],[0.8888888888888888,\"#000019\"],[1.0,\"#000020\"]],\"type\":\"heatmap\"}],\"histogram2d\":[{\"colorscale\":[[0.0,\"#000011\"],[0.1111111111111111,\"#000012\"],[0.2222222222222222,\"#000013\"],[0.3333333333333333,\"#000014\"],[0.4444444444444444,\"#000015\"],[0.5555555555555556,\"#000016\"],[0.6666666666666666,\"#000017\"],[0.7777777777777778,\"#000018\"],[0.8888888888888888,\"#000019\"],[1.0,\"#000020\"]],\"type\":\"histogram2d\"}],\"icicle\":[{\"textfont\":{\"color\":\"white\"},\"type\":\"icicle\"}],\"sankey\":[{\"textfont\":{\"color\":\"#000036\"},\"type\":\"sankey\"}],\"scatter\":[{\"marker\":{\"line\":{\"width\":0}},\"type\":\"scatter\"}],\"table\":[{\"cells\":{\"fill\":{\"color\":\"#000038\"},\"font\":{\"color\":\"#000037\"},\"line\":{\"color\":\"#000039\"}},\"header\":{\"fill\":{\"color\":\"#000040\"},\"font\":{\"color\":\"#000036\"},\"line\":{\"color\":\"#000039\"}},\"type\":\"table\"}],\"waterfall\":[{\"connector\":{\"line\":{\"color\":\"#000036\",\"width\":2}},\"decreasing\":{\"marker\":{\"color\":\"#000033\"}},\"increasing\":{\"marker\":{\"color\":\"#000032\"}},\"totals\":{\"marker\":{\"color\":\"#000034\"}},\"type\":\"waterfall\"}]},\"layout\":{\"coloraxis\":{\"colorscale\":[[0.0,\"#000011\"],[0.1111111111111111,\"#000012\"],[0.2222222222222222,\"#000013\"],[0.3333333333333333,\"#000014\"],[0.4444444444444444,\"#000015\"],[0.5555555555555556,\"#000016\"],[0.6666666666666666,\"#000017\"],[0.7777777777777778,\"#000018\"],[0.8888888888888888,\"#000019\"],[1.0,\"#000020\"]]},\"colorscale\":{\"diverging\":[[0.0,\"#000021\"],[0.1,\"#000022\"],[0.2,\"#000023\"],[0.3,\"#000024\"],[0.4,\"#000025\"],[0.5,\"#000026\"],[0.6,\"#000027\"],[0.7,\"#000028\"],[0.8,\"#000029\"],[0.9,\"#000030\"],[1.0,\"#000031\"]],\"sequential\":[[0.0,\"#000011\"],[0.1111111111111111,\"#000012\"],[0.2222222222222222,\"#000013\"],[0.3333333333333333,\"#000014\"],[0.4444444444444444,\"#000015\"],[0.5555555555555556,\"#000016\"],[0.6666666666666666,\"#000017\"],[0.7777777777777778,\"#000018\"],[0.8888888888888888,\"#000019\"],[1.0,\"#000020\"]],\"sequentialminus\":[[0.0,\"#000011\"],[0.1111111111111111,\"#000012\"],[0.2222222222222222,\"#000013\"],[0.3333333333333333,\"#000014\"],[0.4444444444444444,\"#000015\"],[0.5555555555555556,\"#000016\"],[0.6666666666666666,\"#000017\"],[0.7777777777777778,\"#000018\"],[0.8888888888888888,\"#000019\"],[1.0,\"#000020\"]]},\"colorway\":[\"#000001\",\"#000002\",\"#000003\",\"#000004\",\"#000005\",\"#000006\",\"#000007\",\"#000008\",\"#000009\",\"#000010\"]}},\"geo\":{\"domain\":{\"x\":[0.0,1.0],\"y\":[0.0,1.0]},\"center\":{},\"scope\":\"usa\"},\"coloraxis\":{\"colorbar\":{\"title\":{\"text\":\"Cases Count\"},\"ticks\":\"outside\"},\"colorscale\":[[0.0,\"rgb(255,245,235)\"],[0.125,\"rgb(254,230,206)\"],[0.25,\"rgb(253,208,162)\"],[0.375,\"rgb(253,174,107)\"],[0.5,\"rgb(253,141,60)\"],[0.625,\"rgb(241,105,19)\"],[0.75,\"rgb(217,72,1)\"],[0.875,\"rgb(166,54,3)\"],[1.0,\"rgb(127,39,4)\"]],\"cmin\":0},\"legend\":{\"tracegroupgap\":0},\"margin\":{\"t\":60}},                        {\"responsive\": true}                    ).then(function(){\n",
       "                            \n",
       "var gd = document.getElementById('db031c1c-034e-4a87-a881-a570e6cc0b9f');\n",
       "var x = new MutationObserver(function (mutations, observer) {{\n",
       "        var display = window.getComputedStyle(gd).display;\n",
       "        if (!display || display === 'none') {{\n",
       "            console.log([gd, 'removed!']);\n",
       "            Plotly.purge(gd);\n",
       "            observer.disconnect();\n",
       "        }}\n",
       "}});\n",
       "\n",
       "// Listen for the removal of the full notebook cells\n",
       "var notebookContainer = gd.closest('#notebook-container');\n",
       "if (notebookContainer) {{\n",
       "    x.observe(notebookContainer, {childList: true});\n",
       "}}\n",
       "\n",
       "// Listen for the clearing of the current output cell\n",
       "var outputEl = gd.closest('.output');\n",
       "if (outputEl) {{\n",
       "    x.observe(outputEl, {childList: true});\n",
       "}}\n",
       "\n",
       "                        })                };                });            </script>        </div>"
      ]
     },
     "metadata": {},
     "output_type": "display_data"
    }
   ],
   "source": [
    "# Create choropleth map using Plotly Express\n",
    "fig = px.choropleth(dat15,  # Filtered DataFrame\n",
    "                    locations=\"Location\",  # Column containing state names or codes\n",
    "                    locationmode='USA-states',  # Set of locations match entries in `locations`\n",
    "                    color=\"Data\",  # Column containing the values to be mapped\n",
    "                    color_continuous_scale=\"Oranges\",  # Color scale\n",
    "                    hover_data={\"Category\", \"Data\"}, # Columns to add to hover info \n",
    "                    labels={'Data': 'Case Count'},  # Label for color axis\n",
    "                    scope=\"usa\",  # Set to plot only USA states\n",
    "                    )\n",
    "\n",
    "# Update layout to set the color bar title and range\n",
    "fig.update_layout(\n",
    "    coloraxis_colorbar=dict(title=\"Cases Count\"),  # Title for color bar\n",
    "    coloraxis_colorbar_ticks=\"outside\",  # Display color bar ticks outside the color bar\n",
    "    coloraxis=dict(cmin=0),  # Minimum value for the color axis\n",
    ")\n",
    "\n",
    "# Show the map\n",
    "fig.show()"
   ]
  },
  {
   "cell_type": "code",
   "execution_count": 179,
   "id": "ba365df4-a44e-4c2e-99d9-7782579f5203",
   "metadata": {},
   "outputs": [
    {
     "ename": "KeyError",
     "evalue": "\"None of [Index(['Neglect', 'Neglect', 'Neglect', 'Neglect', 'Neglect', 'Neglect',\\n       'Neglect', 'Neglect', 'Physical abuse', 'Physical abuse',\\n       ...\\n       'Physical abuse', 'Physical abuse', 'Physical abuse', 'Sexual abuse',\\n       'Sexual abuse', 'Sexual abuse', 'Sexual abuse', 'Sexual abuse',\\n       'Sexual abuse', 'Sexual abuse'],\\n      dtype='object', length=1648)] are in the [columns]\"",
     "output_type": "error",
     "traceback": [
      "\u001b[0;31m---------------------------------------------------------------------------\u001b[0m",
      "\u001b[0;31mKeyError\u001b[0m                                  Traceback (most recent call last)",
      "Cell \u001b[0;32mIn[179], line 6\u001b[0m\n\u001b[1;32m      3\u001b[0m \u001b[38;5;28;01mfor\u001b[39;00m col \u001b[38;5;129;01min\u001b[39;00m dat\u001b[38;5;241m.\u001b[39mcolumns:\n\u001b[1;32m      4\u001b[0m     dat[col] \u001b[38;5;241m=\u001b[39m dat[col]\u001b[38;5;241m.\u001b[39mastype(\u001b[38;5;28mstr\u001b[39m)\n\u001b[0;32m----> 6\u001b[0m dat[\u001b[38;5;124m'\u001b[39m\u001b[38;5;124mtext\u001b[39m\u001b[38;5;124m'\u001b[39m] \u001b[38;5;241m=\u001b[39m \u001b[43mdat\u001b[49m\u001b[43m[\u001b[49m\u001b[43mdat\u001b[49m\u001b[43m[\u001b[49m\u001b[38;5;124;43m'\u001b[39;49m\u001b[38;5;124;43mCategory\u001b[39;49m\u001b[38;5;124;43m'\u001b[39;49m\u001b[43m]\u001b[49m\u001b[43m]\u001b[49m \u001b[38;5;241m+\u001b[39m \u001b[38;5;124m'\u001b[39m\u001b[38;5;124m<br>\u001b[39m\u001b[38;5;124m'\u001b[39m \u001b[38;5;241m+\u001b[39m \\\n\u001b[1;32m      7\u001b[0m     \u001b[38;5;124m'\u001b[39m\u001b[38;5;124mEmotional Abuse\u001b[39m\u001b[38;5;124m'\u001b[39m \u001b[38;5;241m+\u001b[39m dat[dat[\u001b[38;5;124m'\u001b[39m\u001b[38;5;124mCategory\u001b[39m\u001b[38;5;124m'\u001b[39m] \u001b[38;5;241m==\u001b[39m \u001b[38;5;124m'\u001b[39m\u001b[38;5;124mEmotional Abuse\u001b[39m\u001b[38;5;124m'\u001b[39m] \u001b[38;5;241m+\u001b[39m \u001b[38;5;124m'\u001b[39m\u001b[38;5;124m<br>\u001b[39m\u001b[38;5;124m'\u001b[39m \u001b[38;5;241m+\u001b[39m \\\n\u001b[1;32m      8\u001b[0m     \u001b[38;5;124m'\u001b[39m\u001b[38;5;124mPhysical Abuse\u001b[39m\u001b[38;5;124m'\u001b[39m \u001b[38;5;241m+\u001b[39m dat[dat[\u001b[38;5;124m'\u001b[39m\u001b[38;5;124mCategory\u001b[39m\u001b[38;5;124m'\u001b[39m] \u001b[38;5;241m==\u001b[39m \u001b[38;5;124m'\u001b[39m\u001b[38;5;124mPhysical Abuse\u001b[39m\u001b[38;5;124m'\u001b[39m] \u001b[38;5;241m+\u001b[39m \u001b[38;5;124m'\u001b[39m\u001b[38;5;124m<br>\u001b[39m\u001b[38;5;124m'\u001b[39m \u001b[38;5;241m+\u001b[39m \\\n\u001b[1;32m      9\u001b[0m     \u001b[38;5;124m'\u001b[39m\u001b[38;5;124mSexual Abuse\u001b[39m\u001b[38;5;124m'\u001b[39m \u001b[38;5;241m+\u001b[39m dat[dat[\u001b[38;5;124m'\u001b[39m\u001b[38;5;124mCategory\u001b[39m\u001b[38;5;124m'\u001b[39m] \u001b[38;5;241m==\u001b[39m\u001b[38;5;124m'\u001b[39m\u001b[38;5;124mSexual Abuse\u001b[39m\u001b[38;5;124m'\u001b[39m] \u001b[38;5;241m+\u001b[39m \u001b[38;5;124m'\u001b[39m\u001b[38;5;124m<br>\u001b[39m\u001b[38;5;124m'\u001b[39m \u001b[38;5;241m+\u001b[39m \\\n\u001b[1;32m     10\u001b[0m     \u001b[38;5;124m'\u001b[39m\u001b[38;5;124mNeglect\u001b[39m\u001b[38;5;124m'\u001b[39m \u001b[38;5;241m+\u001b[39m dat[dat[\u001b[38;5;124m'\u001b[39m\u001b[38;5;124mCategory\u001b[39m\u001b[38;5;124m'\u001b[39m] \u001b[38;5;241m==\u001b[39m\u001b[38;5;124m'\u001b[39m\u001b[38;5;124mNeglect\u001b[39m\u001b[38;5;124m'\u001b[39m]\n\u001b[1;32m     12\u001b[0m fig \u001b[38;5;241m=\u001b[39m go\u001b[38;5;241m.\u001b[39mFigure(data\u001b[38;5;241m=\u001b[39mgo\u001b[38;5;241m.\u001b[39mChoropleth(\n\u001b[1;32m     13\u001b[0m     locations\u001b[38;5;241m=\u001b[39mdat[\u001b[38;5;124m'\u001b[39m\u001b[38;5;124mLocation\u001b[39m\u001b[38;5;124m'\u001b[39m],\n\u001b[1;32m     14\u001b[0m     z\u001b[38;5;241m=\u001b[39mdf[\u001b[38;5;124m'\u001b[39m\u001b[38;5;124mData\u001b[39m\u001b[38;5;124m'\u001b[39m]\u001b[38;5;241m.\u001b[39mastype(\u001b[38;5;28mfloat\u001b[39m),\n\u001b[0;32m   (...)\u001b[0m\n\u001b[1;32m     20\u001b[0m     colorbar_title\u001b[38;5;241m=\u001b[39m\u001b[38;5;124m\"\u001b[39m\u001b[38;5;124mCase Count\u001b[39m\u001b[38;5;124m\"\u001b[39m\n\u001b[1;32m     21\u001b[0m ))\n\u001b[1;32m     23\u001b[0m fig\u001b[38;5;241m.\u001b[39mupdate_layout(\n\u001b[1;32m     24\u001b[0m     title_text\u001b[38;5;241m=\u001b[39m\u001b[38;5;124m'\u001b[39m\u001b[38;5;124mUS Map of Child Maltreatment by Category<br>(Hover for breakdown)\u001b[39m\u001b[38;5;124m'\u001b[39m,\n\u001b[1;32m     25\u001b[0m     geo \u001b[38;5;241m=\u001b[39m \u001b[38;5;28mdict\u001b[39m(\n\u001b[0;32m   (...)\u001b[0m\n\u001b[1;32m     29\u001b[0m         lakecolor\u001b[38;5;241m=\u001b[39m\u001b[38;5;124m'\u001b[39m\u001b[38;5;124mrgb(255, 255, 255)\u001b[39m\u001b[38;5;124m'\u001b[39m),\n\u001b[1;32m     30\u001b[0m )\n",
      "File \u001b[0;32m~/.local/lib/python3.10/site-packages/pandas/core/frame.py:4096\u001b[0m, in \u001b[0;36mDataFrame.__getitem__\u001b[0;34m(self, key)\u001b[0m\n\u001b[1;32m   4094\u001b[0m     \u001b[38;5;28;01mif\u001b[39;00m is_iterator(key):\n\u001b[1;32m   4095\u001b[0m         key \u001b[38;5;241m=\u001b[39m \u001b[38;5;28mlist\u001b[39m(key)\n\u001b[0;32m-> 4096\u001b[0m     indexer \u001b[38;5;241m=\u001b[39m \u001b[38;5;28;43mself\u001b[39;49m\u001b[38;5;241;43m.\u001b[39;49m\u001b[43mcolumns\u001b[49m\u001b[38;5;241;43m.\u001b[39;49m\u001b[43m_get_indexer_strict\u001b[49m\u001b[43m(\u001b[49m\u001b[43mkey\u001b[49m\u001b[43m,\u001b[49m\u001b[43m \u001b[49m\u001b[38;5;124;43m\"\u001b[39;49m\u001b[38;5;124;43mcolumns\u001b[39;49m\u001b[38;5;124;43m\"\u001b[39;49m\u001b[43m)\u001b[49m[\u001b[38;5;241m1\u001b[39m]\n\u001b[1;32m   4098\u001b[0m \u001b[38;5;66;03m# take() does not accept boolean indexers\u001b[39;00m\n\u001b[1;32m   4099\u001b[0m \u001b[38;5;28;01mif\u001b[39;00m \u001b[38;5;28mgetattr\u001b[39m(indexer, \u001b[38;5;124m\"\u001b[39m\u001b[38;5;124mdtype\u001b[39m\u001b[38;5;124m\"\u001b[39m, \u001b[38;5;28;01mNone\u001b[39;00m) \u001b[38;5;241m==\u001b[39m \u001b[38;5;28mbool\u001b[39m:\n",
      "File \u001b[0;32m~/.local/lib/python3.10/site-packages/pandas/core/indexes/base.py:6200\u001b[0m, in \u001b[0;36mIndex._get_indexer_strict\u001b[0;34m(self, key, axis_name)\u001b[0m\n\u001b[1;32m   6197\u001b[0m \u001b[38;5;28;01melse\u001b[39;00m:\n\u001b[1;32m   6198\u001b[0m     keyarr, indexer, new_indexer \u001b[38;5;241m=\u001b[39m \u001b[38;5;28mself\u001b[39m\u001b[38;5;241m.\u001b[39m_reindex_non_unique(keyarr)\n\u001b[0;32m-> 6200\u001b[0m \u001b[38;5;28;43mself\u001b[39;49m\u001b[38;5;241;43m.\u001b[39;49m\u001b[43m_raise_if_missing\u001b[49m\u001b[43m(\u001b[49m\u001b[43mkeyarr\u001b[49m\u001b[43m,\u001b[49m\u001b[43m \u001b[49m\u001b[43mindexer\u001b[49m\u001b[43m,\u001b[49m\u001b[43m \u001b[49m\u001b[43maxis_name\u001b[49m\u001b[43m)\u001b[49m\n\u001b[1;32m   6202\u001b[0m keyarr \u001b[38;5;241m=\u001b[39m \u001b[38;5;28mself\u001b[39m\u001b[38;5;241m.\u001b[39mtake(indexer)\n\u001b[1;32m   6203\u001b[0m \u001b[38;5;28;01mif\u001b[39;00m \u001b[38;5;28misinstance\u001b[39m(key, Index):\n\u001b[1;32m   6204\u001b[0m     \u001b[38;5;66;03m# GH 42790 - Preserve name from an Index\u001b[39;00m\n",
      "File \u001b[0;32m~/.local/lib/python3.10/site-packages/pandas/core/indexes/base.py:6249\u001b[0m, in \u001b[0;36mIndex._raise_if_missing\u001b[0;34m(self, key, indexer, axis_name)\u001b[0m\n\u001b[1;32m   6247\u001b[0m \u001b[38;5;28;01mif\u001b[39;00m nmissing:\n\u001b[1;32m   6248\u001b[0m     \u001b[38;5;28;01mif\u001b[39;00m nmissing \u001b[38;5;241m==\u001b[39m \u001b[38;5;28mlen\u001b[39m(indexer):\n\u001b[0;32m-> 6249\u001b[0m         \u001b[38;5;28;01mraise\u001b[39;00m \u001b[38;5;167;01mKeyError\u001b[39;00m(\u001b[38;5;124mf\u001b[39m\u001b[38;5;124m\"\u001b[39m\u001b[38;5;124mNone of [\u001b[39m\u001b[38;5;132;01m{\u001b[39;00mkey\u001b[38;5;132;01m}\u001b[39;00m\u001b[38;5;124m] are in the [\u001b[39m\u001b[38;5;132;01m{\u001b[39;00maxis_name\u001b[38;5;132;01m}\u001b[39;00m\u001b[38;5;124m]\u001b[39m\u001b[38;5;124m\"\u001b[39m)\n\u001b[1;32m   6251\u001b[0m     not_found \u001b[38;5;241m=\u001b[39m \u001b[38;5;28mlist\u001b[39m(ensure_index(key)[missing_mask\u001b[38;5;241m.\u001b[39mnonzero()[\u001b[38;5;241m0\u001b[39m]]\u001b[38;5;241m.\u001b[39munique())\n\u001b[1;32m   6252\u001b[0m     \u001b[38;5;28;01mraise\u001b[39;00m \u001b[38;5;167;01mKeyError\u001b[39;00m(\u001b[38;5;124mf\u001b[39m\u001b[38;5;124m\"\u001b[39m\u001b[38;5;132;01m{\u001b[39;00mnot_found\u001b[38;5;132;01m}\u001b[39;00m\u001b[38;5;124m not in index\u001b[39m\u001b[38;5;124m\"\u001b[39m)\n",
      "\u001b[0;31mKeyError\u001b[0m: \"None of [Index(['Neglect', 'Neglect', 'Neglect', 'Neglect', 'Neglect', 'Neglect',\\n       'Neglect', 'Neglect', 'Physical abuse', 'Physical abuse',\\n       ...\\n       'Physical abuse', 'Physical abuse', 'Physical abuse', 'Sexual abuse',\\n       'Sexual abuse', 'Sexual abuse', 'Sexual abuse', 'Sexual abuse',\\n       'Sexual abuse', 'Sexual abuse'],\\n      dtype='object', length=1648)] are in the [columns]\""
     ]
    }
   ],
   "source": [
    "### NOT WORKING###\n",
    "import plotly.graph_objects as go\n",
    "\n",
    "for col in dat.columns:\n",
    "    dat[col] = dat[col].astype(str)\n",
    "\n",
    "dat['text'] = dat[dat['Category']] + '<br>' + \\\n",
    "    'Emotional Abuse' + dat[dat['Category'] == 'Emotional Abuse'] + '<br>' + \\\n",
    "    'Physical Abuse' + dat[dat['Category'] == 'Physical Abuse'] + '<br>' + \\\n",
    "    'Sexual Abuse' + dat[dat['Category'] =='Sexual Abuse'] + '<br>' + \\\n",
    "    'Neglect' + dat[dat['Category'] =='Neglect']\n",
    "\n",
    "fig = go.Figure(data=go.Choropleth(\n",
    "    locations=dat['Location'],\n",
    "    z=df['Data'].astype(float),\n",
    "    locationmode='USA-states',\n",
    "    colorscale='Oranges',\n",
    "    autocolorscale=False,\n",
    "    text=df['text'], # hover text\n",
    "    marker_line_color='white', # line markers between states\n",
    "    colorbar_title=\"Case Count\"\n",
    "))\n",
    "\n",
    "fig.update_layout(\n",
    "    title_text='US Map of Child Maltreatment by Category<br>(Hover for breakdown)',\n",
    "    geo = dict(\n",
    "        scope='usa',\n",
    "        projection=go.layout.geo.Projection(type = 'albers usa'),\n",
    "        showlakes=True, # lakes\n",
    "        lakecolor='rgb(255, 255, 255)'),\n",
    ")\n",
    "\n",
    "fig.show()\n"
   ]
  },
  {
   "cell_type": "code",
   "execution_count": 96,
   "id": "baf6b454-9c0d-4cfe-b3a6-f63b31f448fa",
   "metadata": {},
   "outputs": [
    {
     "data": {
      "application/vnd.plotly.v1+json": {
       "config": {
        "plotlyServerURL": "https://plot.ly"
       },
       "data": [
        {
         "colorbar": {
          "title": {
           "text": "Count"
          }
         },
         "colorscale": [
          [
           0,
           "#440154"
          ],
          [
           0.1111111111111111,
           "#482878"
          ],
          [
           0.2222222222222222,
           "#3e4989"
          ],
          [
           0.3333333333333333,
           "#31688e"
          ],
          [
           0.4444444444444444,
           "#26828e"
          ],
          [
           0.5555555555555556,
           "#1f9e89"
          ],
          [
           0.6666666666666666,
           "#35b779"
          ],
          [
           0.7777777777777778,
           "#6ece58"
          ],
          [
           0.8888888888888888,
           "#b5de2b"
          ],
          [
           1,
           "#fde725"
          ]
         ],
         "locationmode": "USA-states",
         "locations": [
          "District of Columbia",
          "United States",
          "Alabama",
          "Alaska",
          "Arizona",
          "Arkansas",
          "California",
          "Colorado",
          "Connecticut",
          "Delaware",
          "Florida",
          "Georgia",
          "Hawaii",
          "Idaho",
          "Illinois",
          "Indiana",
          "Iowa",
          "Kansas",
          "Kentucky",
          "Louisiana",
          "Maine",
          "Maryland",
          "Massachusetts",
          "Michigan",
          "Minnesota",
          "Mississippi",
          "Missouri",
          "Montana",
          "Nebraska",
          "Nevada",
          "New Hampshire",
          "New Jersey",
          "New Mexico",
          "New York",
          "North Carolina",
          "North Dakota",
          "Ohio",
          "Oklahoma",
          "Oregon",
          "Pennsylvania",
          "Rhode Island",
          "South Carolina",
          "South Dakota",
          "Tennessee",
          "Texas",
          "Utah",
          "Vermont",
          "Virginia",
          "Washington",
          "West Virginia",
          "Wisconsin",
          "Wyoming",
          "Puerto Rico"
         ],
         "name": "Neglect (2015)",
         "text": [
          "Neglect",
          "Neglect",
          "Neglect",
          "Neglect",
          "Neglect",
          "Neglect",
          "Neglect",
          "Neglect",
          "Neglect",
          "Neglect",
          "Neglect",
          "Neglect",
          "Neglect",
          "Neglect",
          "Neglect",
          "Neglect",
          "Neglect",
          "Neglect",
          "Neglect",
          "Neglect",
          "Neglect",
          "Neglect",
          "Neglect",
          "Neglect",
          "Neglect",
          "Neglect",
          "Neglect",
          "Neglect",
          "Neglect",
          "Neglect",
          "Neglect",
          "Neglect",
          "Neglect",
          "Neglect",
          "Neglect",
          "Neglect",
          "Neglect",
          "Neglect",
          "Neglect",
          "Neglect",
          "Neglect",
          "Neglect",
          "Neglect",
          "Neglect",
          "Neglect",
          "Neglect",
          "Neglect",
          "Neglect",
          "Neglect",
          "Neglect",
          "Neglect",
          "Neglect",
          "Neglect"
         ],
         "type": "choropleth",
         "visible": false,
         "z": [
          1136,
          526281,
          3329,
          2442,
          11053,
          6232,
          62145,
          8225,
          6107,
          466,
          24652,
          20828,
          253,
          1248,
          21546,
          23033,
          5842,
          431,
          17821,
          10746,
          2240,
          4020,
          29276,
          28685,
          3528,
          6931,
          3830,
          1749,
          2962,
          3742,
          673,
          7848,
          7418,
          67484,
          4320,
          1329,
          10459,
          11171,
          5866,
          257,
          1838,
          9563,
          940,
          7664,
          53369,
          2478,
          40,
          4072,
          4646,
          2451,
          3071,
          771,
          4055
         ]
        },
        {
         "colorbar": {
          "title": {
           "text": "Count"
          }
         },
         "colorscale": [
          [
           0,
           "#440154"
          ],
          [
           0.1111111111111111,
           "#482878"
          ],
          [
           0.2222222222222222,
           "#3e4989"
          ],
          [
           0.3333333333333333,
           "#31688e"
          ],
          [
           0.4444444444444444,
           "#26828e"
          ],
          [
           0.5555555555555556,
           "#1f9e89"
          ],
          [
           0.6666666666666666,
           "#35b779"
          ],
          [
           0.7777777777777778,
           "#6ece58"
          ],
          [
           0.8888888888888888,
           "#b5de2b"
          ],
          [
           1,
           "#fde725"
          ]
         ],
         "locationmode": "USA-states",
         "locations": [
          "District of Columbia",
          "United States",
          "Alabama",
          "Alaska",
          "Arizona",
          "Arkansas",
          "California",
          "Colorado",
          "Connecticut",
          "Delaware",
          "Florida",
          "Georgia",
          "Hawaii",
          "Idaho",
          "Illinois",
          "Indiana",
          "Iowa",
          "Kansas",
          "Kentucky",
          "Louisiana",
          "Maine",
          "Maryland",
          "Massachusetts",
          "Michigan",
          "Minnesota",
          "Mississippi",
          "Missouri",
          "Montana",
          "Nebraska",
          "Nevada",
          "New Hampshire",
          "New Jersey",
          "New Mexico",
          "New York",
          "North Carolina",
          "North Dakota",
          "Ohio",
          "Oklahoma",
          "Oregon",
          "Pennsylvania",
          "Rhode Island",
          "South Carolina",
          "South Dakota",
          "Tennessee",
          "Texas",
          "Utah",
          "Vermont",
          "Virginia",
          "Washington",
          "West Virginia",
          "Wisconsin",
          "Wyoming"
         ],
         "name": "Neglect (2016)",
         "text": [
          "Neglect",
          "Neglect",
          "Neglect",
          "Neglect",
          "Neglect",
          "Neglect",
          "Neglect",
          "Neglect",
          "Neglect",
          "Neglect",
          "Neglect",
          "Neglect",
          "Neglect",
          "Neglect",
          "Neglect",
          "Neglect",
          "Neglect",
          "Neglect",
          "Neglect",
          "Neglect",
          "Neglect",
          "Neglect",
          "Neglect",
          "Neglect",
          "Neglect",
          "Neglect",
          "Neglect",
          "Neglect",
          "Neglect",
          "Neglect",
          "Neglect",
          "Neglect",
          "Neglect",
          "Neglect",
          "Neglect",
          "Neglect",
          "Neglect",
          "Neglect",
          "Neglect",
          "Neglect",
          "Neglect",
          "Neglect",
          "Neglect",
          "Neglect",
          "Neglect",
          "Neglect",
          "Neglect",
          "Neglect",
          "Neglect",
          "Neglect",
          "Neglect",
          "Neglect"
         ],
         "type": "choropleth",
         "visible": false,
         "z": [
          1160,
          513980,
          4152,
          2455,
          10002,
          6704,
          59201,
          9166,
          6815,
          475,
          24406,
          16783,
          225,
          1467,
          20749,
          25239,
          7121,
          456,
          19102,
          9648,
          2176,
          4155,
          30382,
          30714,
          5008,
          8151,
          3602,
          2990,
          2385,
          3998,
          801,
          6711,
          6361,
          65759,
          3800,
          1391,
          10854,
          11456,
          6391,
          437,
          1650,
          10560,
          1106,
          2595,
          48119,
          2760,
          23,
          3855,
          3674,
          2859,
          3202,
          729
         ]
        },
        {
         "colorbar": {
          "title": {
           "text": "Count"
          }
         },
         "colorscale": [
          [
           0,
           "#440154"
          ],
          [
           0.1111111111111111,
           "#482878"
          ],
          [
           0.2222222222222222,
           "#3e4989"
          ],
          [
           0.3333333333333333,
           "#31688e"
          ],
          [
           0.4444444444444444,
           "#26828e"
          ],
          [
           0.5555555555555556,
           "#1f9e89"
          ],
          [
           0.6666666666666666,
           "#35b779"
          ],
          [
           0.7777777777777778,
           "#6ece58"
          ],
          [
           0.8888888888888888,
           "#b5de2b"
          ],
          [
           1,
           "#fde725"
          ]
         ],
         "locationmode": "USA-states",
         "locations": [
          "District of Columbia",
          "United States",
          "Alabama",
          "Alaska",
          "Arizona",
          "Arkansas",
          "California",
          "Colorado",
          "Connecticut",
          "Delaware",
          "Florida",
          "Georgia",
          "Hawaii",
          "Idaho",
          "Illinois",
          "Indiana",
          "Iowa",
          "Kansas",
          "Kentucky",
          "Louisiana",
          "Maine",
          "Maryland",
          "Massachusetts",
          "Michigan",
          "Minnesota",
          "Mississippi",
          "Missouri",
          "Montana",
          "Nebraska",
          "Nevada",
          "New Hampshire",
          "New Jersey",
          "New Mexico",
          "New York",
          "North Carolina",
          "North Dakota",
          "Ohio",
          "Oklahoma",
          "Oregon",
          "Pennsylvania",
          "Rhode Island",
          "South Carolina",
          "South Dakota",
          "Tennessee",
          "Texas",
          "Utah",
          "Vermont",
          "Virginia",
          "Washington",
          "West Virginia",
          "Wisconsin",
          "Wyoming",
          "Puerto Rico"
         ],
         "name": "Neglect (2017)",
         "text": [
          "Neglect",
          "Neglect",
          "Neglect",
          "Neglect",
          "Neglect",
          "Neglect",
          "Neglect",
          "Neglect",
          "Neglect",
          "Neglect",
          "Neglect",
          "Neglect",
          "Neglect",
          "Neglect",
          "Neglect",
          "Neglect",
          "Neglect",
          "Neglect",
          "Neglect",
          "Neglect",
          "Neglect",
          "Neglect",
          "Neglect",
          "Neglect",
          "Neglect",
          "Neglect",
          "Neglect",
          "Neglect",
          "Neglect",
          "Neglect",
          "Neglect",
          "Neglect",
          "Neglect",
          "Neglect",
          "Neglect",
          "Neglect",
          "Neglect",
          "Neglect",
          "Neglect",
          "Neglect",
          "Neglect",
          "Neglect",
          "Neglect",
          "Neglect",
          "Neglect",
          "Neglect",
          "Neglect",
          "Neglect",
          "Neglect",
          "Neglect",
          "Neglect",
          "Neglect",
          "Neglect"
         ],
         "type": "choropleth",
         "visible": false,
         "z": [
          1399,
          517004,
          4734,
          2138,
          9112,
          6405,
          57091,
          9607,
          7424,
          464,
          24126,
          8291,
          179,
          1433,
          21286,
          25899,
          8699,
          889,
          21731,
          8874,
          2190,
          4568,
          23520,
          30865,
          5656,
          8223,
          2826,
          3426,
          2756,
          4083,
          1037,
          5334,
          7116,
          72019,
          3897,
          1523,
          11631,
          11479,
          6440,
          607,
          1829,
          9870,
          1189,
          2316,
          51569,
          2950,
          32,
          4173,
          3463,
          2904,
          3265,
          719,
          3748
         ]
        },
        {
         "colorbar": {
          "title": {
           "text": "Count"
          }
         },
         "colorscale": [
          [
           0,
           "#440154"
          ],
          [
           0.1111111111111111,
           "#482878"
          ],
          [
           0.2222222222222222,
           "#3e4989"
          ],
          [
           0.3333333333333333,
           "#31688e"
          ],
          [
           0.4444444444444444,
           "#26828e"
          ],
          [
           0.5555555555555556,
           "#1f9e89"
          ],
          [
           0.6666666666666666,
           "#35b779"
          ],
          [
           0.7777777777777778,
           "#6ece58"
          ],
          [
           0.8888888888888888,
           "#b5de2b"
          ],
          [
           1,
           "#fde725"
          ]
         ],
         "locationmode": "USA-states",
         "locations": [
          "District of Columbia",
          "United States",
          "Alabama",
          "Alaska",
          "Arizona",
          "Arkansas",
          "California",
          "Colorado",
          "Connecticut",
          "Delaware",
          "Florida",
          "Georgia",
          "Hawaii",
          "Idaho",
          "Illinois",
          "Indiana",
          "Iowa",
          "Kansas",
          "Kentucky",
          "Louisiana",
          "Maine",
          "Maryland",
          "Massachusetts",
          "Michigan",
          "Minnesota",
          "Mississippi",
          "Missouri",
          "Montana",
          "Nebraska",
          "Nevada",
          "New Hampshire",
          "New Jersey",
          "New Mexico",
          "New York",
          "North Carolina",
          "North Dakota",
          "Ohio",
          "Oklahoma",
          "Oregon",
          "Pennsylvania",
          "Rhode Island",
          "South Carolina",
          "South Dakota",
          "Tennessee",
          "Texas",
          "Utah",
          "Vermont",
          "Virginia",
          "Washington",
          "West Virginia",
          "Wisconsin",
          "Wyoming",
          "Puerto Rico"
         ],
         "name": "Neglect (2018)",
         "text": [
          "Neglect",
          "Neglect",
          "Neglect",
          "Neglect",
          "Neglect",
          "Neglect",
          "Neglect",
          "Neglect",
          "Neglect",
          "Neglect",
          "Neglect",
          "Neglect",
          "Neglect",
          "Neglect",
          "Neglect",
          "Neglect",
          "Neglect",
          "Neglect",
          "Neglect",
          "Neglect",
          "Neglect",
          "Neglect",
          "Neglect",
          "Neglect",
          "Neglect",
          "Neglect",
          "Neglect",
          "Neglect",
          "Neglect",
          "Neglect",
          "Neglect",
          "Neglect",
          "Neglect",
          "Neglect",
          "Neglect",
          "Neglect",
          "Neglect",
          "Neglect",
          "Neglect",
          "Neglect",
          "Neglect",
          "Neglect",
          "Neglect",
          "Neglect",
          "Neglect",
          "Neglect",
          "Neglect",
          "Neglect",
          "Neglect",
          "Neglect",
          "Neglect",
          "Neglect",
          "Neglect"
         ],
         "type": "choropleth",
         "visible": false,
         "z": [
          1435,
          519886,
          5148,
          2080,
          14185,
          5380,
          56016,
          9974,
          6739,
          749,
          22638,
          8133,
          175,
          1533,
          23560,
          22432,
          8649,
          1572,
          23081,
          8104,
          2093,
          4779,
          24206,
          30874,
          5308,
          7799,
          3269,
          3647,
          2122,
          4382,
          1196,
          4672,
          6619,
          69758,
          3302,
          1617,
          11627,
          11812,
          6623,
          604,
          2147,
          11632,
          1305,
          2153,
          53686,
          2972,
          27,
          4125,
          3491,
          3123,
          3363,
          838,
          3132
         ]
        },
        {
         "colorbar": {
          "title": {
           "text": "Count"
          }
         },
         "colorscale": [
          [
           0,
           "#440154"
          ],
          [
           0.1111111111111111,
           "#482878"
          ],
          [
           0.2222222222222222,
           "#3e4989"
          ],
          [
           0.3333333333333333,
           "#31688e"
          ],
          [
           0.4444444444444444,
           "#26828e"
          ],
          [
           0.5555555555555556,
           "#1f9e89"
          ],
          [
           0.6666666666666666,
           "#35b779"
          ],
          [
           0.7777777777777778,
           "#6ece58"
          ],
          [
           0.8888888888888888,
           "#b5de2b"
          ],
          [
           1,
           "#fde725"
          ]
         ],
         "locationmode": "USA-states",
         "locations": [
          "District of Columbia",
          "United States",
          "Alabama",
          "Alaska",
          "Arizona",
          "Arkansas",
          "California",
          "Colorado",
          "Connecticut",
          "Delaware",
          "Florida",
          "Georgia",
          "Hawaii",
          "Idaho",
          "Illinois",
          "Indiana",
          "Iowa",
          "Kansas",
          "Kentucky",
          "Louisiana",
          "Maine",
          "Maryland",
          "Massachusetts",
          "Michigan",
          "Minnesota",
          "Mississippi",
          "Missouri",
          "Montana",
          "Nebraska",
          "Nevada",
          "New Hampshire",
          "New Jersey",
          "New Mexico",
          "New York",
          "North Carolina",
          "North Dakota",
          "Ohio",
          "Oklahoma",
          "Oregon",
          "Pennsylvania",
          "Rhode Island",
          "South Carolina",
          "South Dakota",
          "Tennessee",
          "Texas",
          "Utah",
          "Vermont",
          "Virginia",
          "Washington",
          "West Virginia",
          "Wisconsin",
          "Wyoming",
          "Puerto Rico"
         ],
         "name": "Neglect (2019)",
         "text": [
          "Neglect",
          "Neglect",
          "Neglect",
          "Neglect",
          "Neglect",
          "Neglect",
          "Neglect",
          "Neglect",
          "Neglect",
          "Neglect",
          "Neglect",
          "Neglect",
          "Neglect",
          "Neglect",
          "Neglect",
          "Neglect",
          "Neglect",
          "Neglect",
          "Neglect",
          "Neglect",
          "Neglect",
          "Neglect",
          "Neglect",
          "Neglect",
          "Neglect",
          "Neglect",
          "Neglect",
          "Neglect",
          "Neglect",
          "Neglect",
          "Neglect",
          "Neglect",
          "Neglect",
          "Neglect",
          "Neglect",
          "Neglect",
          "Neglect",
          "Neglect",
          "Neglect",
          "Neglect",
          "Neglect",
          "Neglect",
          "Neglect",
          "Neglect",
          "Neglect",
          "Neglect",
          "Neglect",
          "Neglect",
          "Neglect",
          "Neglect",
          "Neglect",
          "Neglect",
          "Neglect"
         ],
         "type": "choropleth",
         "visible": false,
         "z": [
          1605,
          504072,
          4625,
          2376,
          11736,
          5657,
          57017,
          10219,
          7138,
          376,
          20271,
          7017,
          227,
          1459,
          25572,
          19966,
          8416,
          1421,
          19536,
          7359,
          2740,
          4648,
          23480,
          29519,
          4665,
          7163,
          2635,
          3629,
          2339,
          4265,
          1100,
          3915,
          6799,
          68367,
          2570,
          1422,
          12052,
          11522,
          6902,
          680,
          1922,
          10566,
          1409,
          2579,
          54145,
          2981,
          43,
          4079,
          3282,
          3011,
          3164,
          835,
          3651
         ]
        },
        {
         "colorbar": {
          "title": {
           "text": "Count"
          }
         },
         "colorscale": [
          [
           0,
           "#440154"
          ],
          [
           0.1111111111111111,
           "#482878"
          ],
          [
           0.2222222222222222,
           "#3e4989"
          ],
          [
           0.3333333333333333,
           "#31688e"
          ],
          [
           0.4444444444444444,
           "#26828e"
          ],
          [
           0.5555555555555556,
           "#1f9e89"
          ],
          [
           0.6666666666666666,
           "#35b779"
          ],
          [
           0.7777777777777778,
           "#6ece58"
          ],
          [
           0.8888888888888888,
           "#b5de2b"
          ],
          [
           1,
           "#fde725"
          ]
         ],
         "locationmode": "USA-states",
         "locations": [
          "District of Columbia",
          "United States",
          "Alabama",
          "Alaska",
          "Arizona",
          "Arkansas",
          "California",
          "Colorado",
          "Connecticut",
          "Delaware",
          "Florida",
          "Georgia",
          "Hawaii",
          "Idaho",
          "Illinois",
          "Indiana",
          "Iowa",
          "Kansas",
          "Kentucky",
          "Louisiana",
          "Maine",
          "Maryland",
          "Massachusetts",
          "Michigan",
          "Minnesota",
          "Mississippi",
          "Missouri",
          "Montana",
          "Nebraska",
          "Nevada",
          "New Hampshire",
          "New Jersey",
          "New Mexico",
          "New York",
          "North Carolina",
          "North Dakota",
          "Ohio",
          "Oklahoma",
          "Oregon",
          "Pennsylvania",
          "Rhode Island",
          "South Carolina",
          "South Dakota",
          "Tennessee",
          "Texas",
          "Utah",
          "Vermont",
          "Virginia",
          "Washington",
          "West Virginia",
          "Wisconsin",
          "Wyoming",
          "Puerto Rico"
         ],
         "name": "Neglect (2020)",
         "text": [
          "Neglect",
          "Neglect",
          "Neglect",
          "Neglect",
          "Neglect",
          "Neglect",
          "Neglect",
          "Neglect",
          "Neglect",
          "Neglect",
          "Neglect",
          "Neglect",
          "Neglect",
          "Neglect",
          "Neglect",
          "Neglect",
          "Neglect",
          "Neglect",
          "Neglect",
          "Neglect",
          "Neglect",
          "Neglect",
          "Neglect",
          "Neglect",
          "Neglect",
          "Neglect",
          "Neglect",
          "Neglect",
          "Neglect",
          "Neglect",
          "Neglect",
          "Neglect",
          "Neglect",
          "Neglect",
          "Neglect",
          "Neglect",
          "Neglect",
          "Neglect",
          "Neglect",
          "Neglect",
          "Neglect",
          "Neglect",
          "Neglect",
          "Neglect",
          "Neglect",
          "Neglect",
          "Neglect",
          "Neglect",
          "Neglect",
          "Neglect",
          "Neglect",
          "Neglect",
          "Neglect"
         ],
         "type": "choropleth",
         "visible": false,
         "z": [
          1398,
          480068,
          5048,
          2387,
          9102,
          6570,
          53694,
          9792,
          5544,
          376,
          17695,
          5483,
          289,
          1065,
          27728,
          19557,
          9285,
          1095,
          15898,
          6009,
          2912,
          4220,
          21161,
          23939,
          4604,
          6069,
          2324,
          3639,
          1909,
          4212,
          1038,
          2658,
          5909,
          59722,
          20749,
          1252,
          10580,
          10860,
          5591,
          578,
          1589,
          8474,
          1411,
          2299,
          55634,
          2611,
          15,
          3865,
          3046,
          2829,
          2809,
          763,
          2782
         ]
        },
        {
         "colorbar": {
          "title": {
           "text": "Count"
          }
         },
         "colorscale": [
          [
           0,
           "#440154"
          ],
          [
           0.1111111111111111,
           "#482878"
          ],
          [
           0.2222222222222222,
           "#3e4989"
          ],
          [
           0.3333333333333333,
           "#31688e"
          ],
          [
           0.4444444444444444,
           "#26828e"
          ],
          [
           0.5555555555555556,
           "#1f9e89"
          ],
          [
           0.6666666666666666,
           "#35b779"
          ],
          [
           0.7777777777777778,
           "#6ece58"
          ],
          [
           0.8888888888888888,
           "#b5de2b"
          ],
          [
           1,
           "#fde725"
          ]
         ],
         "locationmode": "USA-states",
         "locations": [
          "District of Columbia",
          "United States",
          "Alabama",
          "Alaska",
          "Arkansas",
          "California",
          "Colorado",
          "Connecticut",
          "Delaware",
          "Florida",
          "Georgia",
          "Hawaii",
          "Idaho",
          "Illinois",
          "Indiana",
          "Iowa",
          "Kansas",
          "Kentucky",
          "Louisiana",
          "Maine",
          "Maryland",
          "Massachusetts",
          "Michigan",
          "Minnesota",
          "Mississippi",
          "Missouri",
          "Montana",
          "Nebraska",
          "Nevada",
          "New Hampshire",
          "New Jersey",
          "New Mexico",
          "New York",
          "North Carolina",
          "North Dakota",
          "Ohio",
          "Oklahoma",
          "Oregon",
          "Pennsylvania",
          "Rhode Island",
          "South Carolina",
          "South Dakota",
          "Tennessee",
          "Texas",
          "Utah",
          "Vermont",
          "Virginia",
          "Washington",
          "West Virginia",
          "Wisconsin",
          "Wyoming",
          "Puerto Rico"
         ],
         "name": "Neglect (2021)",
         "text": [
          "Neglect",
          "Neglect",
          "Neglect",
          "Neglect",
          "Neglect",
          "Neglect",
          "Neglect",
          "Neglect",
          "Neglect",
          "Neglect",
          "Neglect",
          "Neglect",
          "Neglect",
          "Neglect",
          "Neglect",
          "Neglect",
          "Neglect",
          "Neglect",
          "Neglect",
          "Neglect",
          "Neglect",
          "Neglect",
          "Neglect",
          "Neglect",
          "Neglect",
          "Neglect",
          "Neglect",
          "Neglect",
          "Neglect",
          "Neglect",
          "Neglect",
          "Neglect",
          "Neglect",
          "Neglect",
          "Neglect",
          "Neglect",
          "Neglect",
          "Neglect",
          "Neglect",
          "Neglect",
          "Neglect",
          "Neglect",
          "Neglect",
          "Neglect",
          "Neglect",
          "Neglect",
          "Neglect",
          "Neglect",
          "Neglect",
          "Neglect",
          "Neglect",
          "Neglect"
         ],
         "type": "choropleth",
         "visible": false,
         "z": [
          1514,
          455734,
          5090,
          2119,
          6810,
          49069,
          9316,
          4976,
          281,
          17099,
          6419,
          259,
          1718,
          28985,
          18558,
          9898,
          985,
          14010,
          5712,
          2533,
          3491,
          21361,
          21543,
          3836,
          6363,
          2326,
          2956,
          2014,
          4742,
          866,
          2350,
          5040,
          58226,
          19148,
          1062,
          11529,
          10322,
          4551,
          617,
          1592,
          9487,
          1302,
          1854,
          55080,
          2452,
          15,
          3405,
          2656,
          2938,
          2847,
          699,
          3713
         ]
        },
        {
         "colorbar": {
          "title": {
           "text": "Count"
          }
         },
         "colorscale": [
          [
           0,
           "#440154"
          ],
          [
           0.1111111111111111,
           "#482878"
          ],
          [
           0.2222222222222222,
           "#3e4989"
          ],
          [
           0.3333333333333333,
           "#31688e"
          ],
          [
           0.4444444444444444,
           "#26828e"
          ],
          [
           0.5555555555555556,
           "#1f9e89"
          ],
          [
           0.6666666666666666,
           "#35b779"
          ],
          [
           0.7777777777777778,
           "#6ece58"
          ],
          [
           0.8888888888888888,
           "#b5de2b"
          ],
          [
           1,
           "#fde725"
          ]
         ],
         "locationmode": "USA-states",
         "locations": [
          "District of Columbia",
          "United States",
          "Alabama",
          "Alaska",
          "Arizona",
          "Arkansas",
          "California",
          "Colorado",
          "Connecticut",
          "Delaware",
          "Florida",
          "Georgia",
          "Hawaii",
          "Idaho",
          "Illinois",
          "Indiana",
          "Iowa",
          "Kansas",
          "Kentucky",
          "Louisiana",
          "Maine",
          "Maryland",
          "Massachusetts",
          "Michigan",
          "Minnesota",
          "Mississippi",
          "Missouri",
          "Montana",
          "Nebraska",
          "Nevada",
          "New Hampshire",
          "New Jersey",
          "New Mexico",
          "New York",
          "North Carolina",
          "North Dakota",
          "Ohio",
          "Oklahoma",
          "Oregon",
          "Pennsylvania",
          "Rhode Island",
          "South Carolina",
          "South Dakota",
          "Tennessee",
          "Texas",
          "Utah",
          "Vermont",
          "Virginia",
          "Washington",
          "West Virginia",
          "Wisconsin",
          "Wyoming",
          "Puerto Rico"
         ],
         "name": "Neglect (2022)",
         "text": [
          "Neglect",
          "Neglect",
          "Neglect",
          "Neglect",
          "Neglect",
          "Neglect",
          "Neglect",
          "Neglect",
          "Neglect",
          "Neglect",
          "Neglect",
          "Neglect",
          "Neglect",
          "Neglect",
          "Neglect",
          "Neglect",
          "Neglect",
          "Neglect",
          "Neglect",
          "Neglect",
          "Neglect",
          "Neglect",
          "Neglect",
          "Neglect",
          "Neglect",
          "Neglect",
          "Neglect",
          "Neglect",
          "Neglect",
          "Neglect",
          "Neglect",
          "Neglect",
          "Neglect",
          "Neglect",
          "Neglect",
          "Neglect",
          "Neglect",
          "Neglect",
          "Neglect",
          "Neglect",
          "Neglect",
          "Neglect",
          "Neglect",
          "Neglect",
          "Neglect",
          "Neglect",
          "Neglect",
          "Neglect",
          "Neglect",
          "Neglect",
          "Neglect",
          "Neglect",
          "Neglect"
         ],
         "type": "choropleth",
         "visible": false,
         "z": [
          1411,
          423844,
          4843,
          1965,
          11006,
          6034,
          45053,
          8102,
          4421,
          335,
          15221,
          7326,
          241,
          1538,
          25992,
          16448,
          9798,
          918,
          11239,
          6726,
          2446,
          3691,
          20588,
          20446,
          3584,
          6665,
          2160,
          2620,
          1691,
          5055,
          948,
          2161,
          4939,
          51292,
          15982,
          985,
          10346,
          10140,
          4336,
          689,
          1446,
          8505,
          1287,
          1758,
          44234,
          2186,
          46,
          3003,
          2513,
          2750,
          2620,
          662,
          3453
         ]
        },
        {
         "colorbar": {
          "title": {
           "text": "Count"
          }
         },
         "colorscale": [
          [
           0,
           "#440154"
          ],
          [
           0.1111111111111111,
           "#482878"
          ],
          [
           0.2222222222222222,
           "#3e4989"
          ],
          [
           0.3333333333333333,
           "#31688e"
          ],
          [
           0.4444444444444444,
           "#26828e"
          ],
          [
           0.5555555555555556,
           "#1f9e89"
          ],
          [
           0.6666666666666666,
           "#35b779"
          ],
          [
           0.7777777777777778,
           "#6ece58"
          ],
          [
           0.8888888888888888,
           "#b5de2b"
          ],
          [
           1,
           "#fde725"
          ]
         ],
         "locationmode": "USA-states",
         "locations": [
          "District of Columbia",
          "United States",
          "Alabama",
          "Alaska",
          "Arizona",
          "Arkansas",
          "California",
          "Colorado",
          "Connecticut",
          "Delaware",
          "Florida",
          "Georgia",
          "Hawaii",
          "Idaho",
          "Illinois",
          "Indiana",
          "Iowa",
          "Kansas",
          "Kentucky",
          "Louisiana",
          "Maine",
          "Maryland",
          "Massachusetts",
          "Michigan",
          "Minnesota",
          "Mississippi",
          "Missouri",
          "Montana",
          "Nebraska",
          "Nevada",
          "New Hampshire",
          "New Jersey",
          "New Mexico",
          "New York",
          "North Carolina",
          "North Dakota",
          "Ohio",
          "Oklahoma",
          "Oregon",
          "Pennsylvania",
          "Rhode Island",
          "South Carolina",
          "South Dakota",
          "Tennessee",
          "Texas",
          "Utah",
          "Vermont",
          "Virginia",
          "Washington",
          "West Virginia",
          "Wisconsin",
          "Wyoming",
          "Puerto Rico"
         ],
         "name": "Physical abuse (2015)",
         "text": [
          "Physical abuse",
          "Physical abuse",
          "Physical abuse",
          "Physical abuse",
          "Physical abuse",
          "Physical abuse",
          "Physical abuse",
          "Physical abuse",
          "Physical abuse",
          "Physical abuse",
          "Physical abuse",
          "Physical abuse",
          "Physical abuse",
          "Physical abuse",
          "Physical abuse",
          "Physical abuse",
          "Physical abuse",
          "Physical abuse",
          "Physical abuse",
          "Physical abuse",
          "Physical abuse",
          "Physical abuse",
          "Physical abuse",
          "Physical abuse",
          "Physical abuse",
          "Physical abuse",
          "Physical abuse",
          "Physical abuse",
          "Physical abuse",
          "Physical abuse",
          "Physical abuse",
          "Physical abuse",
          "Physical abuse",
          "Physical abuse",
          "Physical abuse",
          "Physical abuse",
          "Physical abuse",
          "Physical abuse",
          "Physical abuse",
          "Physical abuse",
          "Physical abuse",
          "Physical abuse",
          "Physical abuse",
          "Physical abuse",
          "Physical abuse",
          "Physical abuse",
          "Physical abuse",
          "Physical abuse",
          "Physical abuse",
          "Physical abuse",
          "Physical abuse",
          "Physical abuse",
          "Physical abuse"
         ],
         "type": "choropleth",
         "visible": false,
         "z": [
          269,
          116365,
          4392,
          331,
          1071,
          2009,
          6466,
          1149,
          467,
          282,
          4181,
          2889,
          158,
          377,
          6474,
          2209,
          1328,
          453,
          1564,
          1946,
          970,
          1529,
          2991,
          8214,
          1152,
          1360,
          1642,
          105,
          423,
          1650,
          48,
          1462,
          1158,
          6483,
          1777,
          212,
          10132,
          2386,
          1039,
          1456,
          411,
          6700,
          122,
          1409,
          10349,
          3927,
          438,
          1810,
          1182,
          3391,
          839,
          19,
          1564
         ]
        },
        {
         "colorbar": {
          "title": {
           "text": "Count"
          }
         },
         "colorscale": [
          [
           0,
           "#440154"
          ],
          [
           0.1111111111111111,
           "#482878"
          ],
          [
           0.2222222222222222,
           "#3e4989"
          ],
          [
           0.3333333333333333,
           "#31688e"
          ],
          [
           0.4444444444444444,
           "#26828e"
          ],
          [
           0.5555555555555556,
           "#1f9e89"
          ],
          [
           0.6666666666666666,
           "#35b779"
          ],
          [
           0.7777777777777778,
           "#6ece58"
          ],
          [
           0.8888888888888888,
           "#b5de2b"
          ],
          [
           1,
           "#fde725"
          ]
         ],
         "locationmode": "USA-states",
         "locations": [
          "District of Columbia",
          "United States",
          "Alabama",
          "Alaska",
          "Arizona",
          "Arkansas",
          "California",
          "Colorado",
          "Connecticut",
          "Delaware",
          "Florida",
          "Georgia",
          "Hawaii",
          "Idaho",
          "Illinois",
          "Indiana",
          "Iowa",
          "Kansas",
          "Kentucky",
          "Louisiana",
          "Maine",
          "Maryland",
          "Massachusetts",
          "Michigan",
          "Minnesota",
          "Mississippi",
          "Missouri",
          "Montana",
          "Nebraska",
          "Nevada",
          "New Hampshire",
          "New Jersey",
          "New Mexico",
          "New York",
          "North Carolina",
          "North Dakota",
          "Ohio",
          "Oklahoma",
          "Oregon",
          "Pennsylvania",
          "Rhode Island",
          "South Carolina",
          "South Dakota",
          "Tennessee",
          "Texas",
          "Utah",
          "Vermont",
          "Virginia",
          "Washington",
          "West Virginia",
          "Wisconsin",
          "Wyoming"
         ],
         "name": "Physical abuse (2016)",
         "text": [
          "Physical abuse",
          "Physical abuse",
          "Physical abuse",
          "Physical abuse",
          "Physical abuse",
          "Physical abuse",
          "Physical abuse",
          "Physical abuse",
          "Physical abuse",
          "Physical abuse",
          "Physical abuse",
          "Physical abuse",
          "Physical abuse",
          "Physical abuse",
          "Physical abuse",
          "Physical abuse",
          "Physical abuse",
          "Physical abuse",
          "Physical abuse",
          "Physical abuse",
          "Physical abuse",
          "Physical abuse",
          "Physical abuse",
          "Physical abuse",
          "Physical abuse",
          "Physical abuse",
          "Physical abuse",
          "Physical abuse",
          "Physical abuse",
          "Physical abuse",
          "Physical abuse",
          "Physical abuse",
          "Physical abuse",
          "Physical abuse",
          "Physical abuse",
          "Physical abuse",
          "Physical abuse",
          "Physical abuse",
          "Physical abuse",
          "Physical abuse",
          "Physical abuse",
          "Physical abuse",
          "Physical abuse",
          "Physical abuse",
          "Physical abuse",
          "Physical abuse",
          "Physical abuse",
          "Physical abuse",
          "Physical abuse",
          "Physical abuse",
          "Physical abuse",
          "Physical abuse"
         ],
         "type": "choropleth",
         "visible": false,
         "z": [
          261,
          120672,
          5364,
          376,
          884,
          2002,
          5935,
          1272,
          516,
          301,
          3600,
          2191,
          152,
          389,
          6460,
          2041,
          1184,
          524,
          1561,
          1679,
          1063,
          1587,
          2854,
          8707,
          2520,
          1514,
          1645,
          128,
          327,
          1273,
          76,
          1106,
          927,
          6223,
          1787,
          174,
          10670,
          2074,
          1260,
          1796,
          420,
          8802,
          133,
          5719,
          8183,
          4349,
          436,
          1779,
          1024,
          4574,
          821,
          29
         ]
        },
        {
         "colorbar": {
          "title": {
           "text": "Count"
          }
         },
         "colorscale": [
          [
           0,
           "#440154"
          ],
          [
           0.1111111111111111,
           "#482878"
          ],
          [
           0.2222222222222222,
           "#3e4989"
          ],
          [
           0.3333333333333333,
           "#31688e"
          ],
          [
           0.4444444444444444,
           "#26828e"
          ],
          [
           0.5555555555555556,
           "#1f9e89"
          ],
          [
           0.6666666666666666,
           "#35b779"
          ],
          [
           0.7777777777777778,
           "#6ece58"
          ],
          [
           0.8888888888888888,
           "#b5de2b"
          ],
          [
           1,
           "#fde725"
          ]
         ],
         "locationmode": "USA-states",
         "locations": [
          "District of Columbia",
          "United States",
          "Alabama",
          "Alaska",
          "Arizona",
          "Arkansas",
          "California",
          "Colorado",
          "Connecticut",
          "Delaware",
          "Florida",
          "Georgia",
          "Hawaii",
          "Idaho",
          "Illinois",
          "Indiana",
          "Iowa",
          "Kansas",
          "Kentucky",
          "Louisiana",
          "Maine",
          "Maryland",
          "Massachusetts",
          "Michigan",
          "Minnesota",
          "Mississippi",
          "Missouri",
          "Montana",
          "Nebraska",
          "Nevada",
          "New Hampshire",
          "New Jersey",
          "New Mexico",
          "New York",
          "North Carolina",
          "North Dakota",
          "Ohio",
          "Oklahoma",
          "Oregon",
          "Pennsylvania",
          "Rhode Island",
          "South Carolina",
          "South Dakota",
          "Tennessee",
          "Texas",
          "Utah",
          "Vermont",
          "Virginia",
          "Washington",
          "West Virginia",
          "Wisconsin",
          "Wyoming",
          "Puerto Rico"
         ],
         "name": "Physical abuse (2017)",
         "text": [
          "Physical abuse",
          "Physical abuse",
          "Physical abuse",
          "Physical abuse",
          "Physical abuse",
          "Physical abuse",
          "Physical abuse",
          "Physical abuse",
          "Physical abuse",
          "Physical abuse",
          "Physical abuse",
          "Physical abuse",
          "Physical abuse",
          "Physical abuse",
          "Physical abuse",
          "Physical abuse",
          "Physical abuse",
          "Physical abuse",
          "Physical abuse",
          "Physical abuse",
          "Physical abuse",
          "Physical abuse",
          "Physical abuse",
          "Physical abuse",
          "Physical abuse",
          "Physical abuse",
          "Physical abuse",
          "Physical abuse",
          "Physical abuse",
          "Physical abuse",
          "Physical abuse",
          "Physical abuse",
          "Physical abuse",
          "Physical abuse",
          "Physical abuse",
          "Physical abuse",
          "Physical abuse",
          "Physical abuse",
          "Physical abuse",
          "Physical abuse",
          "Physical abuse",
          "Physical abuse",
          "Physical abuse",
          "Physical abuse",
          "Physical abuse",
          "Physical abuse",
          "Physical abuse",
          "Physical abuse",
          "Physical abuse",
          "Physical abuse",
          "Physical abuse",
          "Physical abuse",
          "Physical abuse"
         ],
         "type": "choropleth",
         "visible": false,
         "z": [
          290,
          121701,
          5685,
          393,
          797,
          2020,
          5321,
          1287,
          510,
          291,
          3222,
          1032,
          109,
          399,
          5631,
          1836,
          1274,
          1002,
          1529,
          1561,
          1020,
          1680,
          2211,
          9426,
          2632,
          1544,
          1342,
          138,
          376,
          1050,
          97,
          911,
          1040,
          6868,
          1808,
          156,
          11825,
          2013,
          1161,
          1929,
          451,
          8776,
          150,
          5328,
          8646,
          4468,
          508,
          1821,
          914,
          5052,
          776,
          14,
          1381
         ]
        },
        {
         "colorbar": {
          "title": {
           "text": "Count"
          }
         },
         "colorscale": [
          [
           0,
           "#440154"
          ],
          [
           0.1111111111111111,
           "#482878"
          ],
          [
           0.2222222222222222,
           "#3e4989"
          ],
          [
           0.3333333333333333,
           "#31688e"
          ],
          [
           0.4444444444444444,
           "#26828e"
          ],
          [
           0.5555555555555556,
           "#1f9e89"
          ],
          [
           0.6666666666666666,
           "#35b779"
          ],
          [
           0.7777777777777778,
           "#6ece58"
          ],
          [
           0.8888888888888888,
           "#b5de2b"
          ],
          [
           1,
           "#fde725"
          ]
         ],
         "locationmode": "USA-states",
         "locations": [
          "District of Columbia",
          "United States",
          "Alabama",
          "Alaska",
          "Arizona",
          "Arkansas",
          "California",
          "Colorado",
          "Connecticut",
          "Delaware",
          "Florida",
          "Georgia",
          "Hawaii",
          "Idaho",
          "Illinois",
          "Indiana",
          "Iowa",
          "Kansas",
          "Kentucky",
          "Louisiana",
          "Maine",
          "Maryland",
          "Massachusetts",
          "Michigan",
          "Minnesota",
          "Mississippi",
          "Missouri",
          "Montana",
          "Nebraska",
          "Nevada",
          "New Hampshire",
          "New Jersey",
          "New Mexico",
          "New York",
          "North Carolina",
          "North Dakota",
          "Ohio",
          "Oklahoma",
          "Oregon",
          "Pennsylvania",
          "Rhode Island",
          "South Carolina",
          "South Dakota",
          "Tennessee",
          "Texas",
          "Utah",
          "Vermont",
          "Virginia",
          "Washington",
          "West Virginia",
          "Wisconsin",
          "Wyoming",
          "Puerto Rico"
         ],
         "name": "Physical abuse (2018)",
         "text": [
          "Physical abuse",
          "Physical abuse",
          "Physical abuse",
          "Physical abuse",
          "Physical abuse",
          "Physical abuse",
          "Physical abuse",
          "Physical abuse",
          "Physical abuse",
          "Physical abuse",
          "Physical abuse",
          "Physical abuse",
          "Physical abuse",
          "Physical abuse",
          "Physical abuse",
          "Physical abuse",
          "Physical abuse",
          "Physical abuse",
          "Physical abuse",
          "Physical abuse",
          "Physical abuse",
          "Physical abuse",
          "Physical abuse",
          "Physical abuse",
          "Physical abuse",
          "Physical abuse",
          "Physical abuse",
          "Physical abuse",
          "Physical abuse",
          "Physical abuse",
          "Physical abuse",
          "Physical abuse",
          "Physical abuse",
          "Physical abuse",
          "Physical abuse",
          "Physical abuse",
          "Physical abuse",
          "Physical abuse",
          "Physical abuse",
          "Physical abuse",
          "Physical abuse",
          "Physical abuse",
          "Physical abuse",
          "Physical abuse",
          "Physical abuse",
          "Physical abuse",
          "Physical abuse",
          "Physical abuse",
          "Physical abuse",
          "Physical abuse",
          "Physical abuse",
          "Physical abuse",
          "Physical abuse"
         ],
         "type": "choropleth",
         "visible": false,
         "z": [
          292,
          120739,
          6324,
          427,
          1237,
          2473,
          4883,
          1227,
          408,
          258,
          3041,
          1222,
          101,
          370,
          5859,
          1729,
          1289,
          750,
          1448,
          1355,
          1051,
          1507,
          2191,
          8923,
          1541,
          1531,
          1630,
          130,
          338,
          985,
          111,
          779,
          979,
          6458,
          1751,
          193,
          11484,
          1866,
          1450,
          1993,
          521,
          9772,
          115,
          5553,
          8084,
          4550,
          556,
          1743,
          923,
          5453,
          772,
          14,
          1099
         ]
        },
        {
         "colorbar": {
          "title": {
           "text": "Count"
          }
         },
         "colorscale": [
          [
           0,
           "#440154"
          ],
          [
           0.1111111111111111,
           "#482878"
          ],
          [
           0.2222222222222222,
           "#3e4989"
          ],
          [
           0.3333333333333333,
           "#31688e"
          ],
          [
           0.4444444444444444,
           "#26828e"
          ],
          [
           0.5555555555555556,
           "#1f9e89"
          ],
          [
           0.6666666666666666,
           "#35b779"
          ],
          [
           0.7777777777777778,
           "#6ece58"
          ],
          [
           0.8888888888888888,
           "#b5de2b"
          ],
          [
           1,
           "#fde725"
          ]
         ],
         "locationmode": "USA-states",
         "locations": [
          "District of Columbia",
          "United States",
          "Alabama",
          "Alaska",
          "Arizona",
          "Arkansas",
          "California",
          "Colorado",
          "Connecticut",
          "Delaware",
          "Florida",
          "Georgia",
          "Hawaii",
          "Idaho",
          "Illinois",
          "Indiana",
          "Iowa",
          "Kansas",
          "Kentucky",
          "Louisiana",
          "Maine",
          "Maryland",
          "Massachusetts",
          "Michigan",
          "Minnesota",
          "Mississippi",
          "Missouri",
          "Montana",
          "Nebraska",
          "Nevada",
          "New Hampshire",
          "New Jersey",
          "New Mexico",
          "New York",
          "North Carolina",
          "North Dakota",
          "Ohio",
          "Oklahoma",
          "Oregon",
          "Pennsylvania",
          "Rhode Island",
          "South Carolina",
          "South Dakota",
          "Tennessee",
          "Texas",
          "Utah",
          "Vermont",
          "Virginia",
          "Washington",
          "West Virginia",
          "Wisconsin",
          "Wyoming",
          "Puerto Rico"
         ],
         "name": "Physical abuse (2019)",
         "text": [
          "Physical abuse",
          "Physical abuse",
          "Physical abuse",
          "Physical abuse",
          "Physical abuse",
          "Physical abuse",
          "Physical abuse",
          "Physical abuse",
          "Physical abuse",
          "Physical abuse",
          "Physical abuse",
          "Physical abuse",
          "Physical abuse",
          "Physical abuse",
          "Physical abuse",
          "Physical abuse",
          "Physical abuse",
          "Physical abuse",
          "Physical abuse",
          "Physical abuse",
          "Physical abuse",
          "Physical abuse",
          "Physical abuse",
          "Physical abuse",
          "Physical abuse",
          "Physical abuse",
          "Physical abuse",
          "Physical abuse",
          "Physical abuse",
          "Physical abuse",
          "Physical abuse",
          "Physical abuse",
          "Physical abuse",
          "Physical abuse",
          "Physical abuse",
          "Physical abuse",
          "Physical abuse",
          "Physical abuse",
          "Physical abuse",
          "Physical abuse",
          "Physical abuse",
          "Physical abuse",
          "Physical abuse",
          "Physical abuse",
          "Physical abuse",
          "Physical abuse",
          "Physical abuse",
          "Physical abuse",
          "Physical abuse",
          "Physical abuse",
          "Physical abuse",
          "Physical abuse",
          "Physical abuse"
         ],
         "type": "choropleth",
         "visible": false,
         "z": [
          275,
          113653,
          6249,
          487,
          1005,
          2011,
          4582,
          1213,
          433,
          215,
          2763,
          1175,
          139,
          376,
          6019,
          1547,
          1183,
          715,
          1341,
          1041,
          1305,
          1554,
          1990,
          5065,
          986,
          1479,
          1396,
          168,
          357,
          951,
          106,
          657,
          959,
          6106,
          1610,
          127,
          11462,
          1883,
          1651,
          2093,
          426,
          9994,
          141,
          5869,
          7685,
          4555,
          490,
          1719,
          928,
          5316,
          713,
          21,
          1122
         ]
        },
        {
         "colorbar": {
          "title": {
           "text": "Count"
          }
         },
         "colorscale": [
          [
           0,
           "#440154"
          ],
          [
           0.1111111111111111,
           "#482878"
          ],
          [
           0.2222222222222222,
           "#3e4989"
          ],
          [
           0.3333333333333333,
           "#31688e"
          ],
          [
           0.4444444444444444,
           "#26828e"
          ],
          [
           0.5555555555555556,
           "#1f9e89"
          ],
          [
           0.6666666666666666,
           "#35b779"
          ],
          [
           0.7777777777777778,
           "#6ece58"
          ],
          [
           0.8888888888888888,
           "#b5de2b"
          ],
          [
           1,
           "#fde725"
          ]
         ],
         "locationmode": "USA-states",
         "locations": [
          "District of Columbia",
          "United States",
          "Alabama",
          "Alaska",
          "Arizona",
          "Arkansas",
          "California",
          "Colorado",
          "Connecticut",
          "Delaware",
          "Florida",
          "Georgia",
          "Hawaii",
          "Idaho",
          "Illinois",
          "Indiana",
          "Iowa",
          "Kansas",
          "Kentucky",
          "Louisiana",
          "Maine",
          "Maryland",
          "Massachusetts",
          "Michigan",
          "Minnesota",
          "Mississippi",
          "Missouri",
          "Montana",
          "Nebraska",
          "Nevada",
          "New Hampshire",
          "New Jersey",
          "New Mexico",
          "New York",
          "North Carolina",
          "North Dakota",
          "Ohio",
          "Oklahoma",
          "Oregon",
          "Pennsylvania",
          "Rhode Island",
          "South Carolina",
          "South Dakota",
          "Tennessee",
          "Texas",
          "Utah",
          "Vermont",
          "Virginia",
          "Washington",
          "West Virginia",
          "Wisconsin",
          "Wyoming",
          "Puerto Rico"
         ],
         "name": "Physical abuse (2020)",
         "text": [
          "Physical abuse",
          "Physical abuse",
          "Physical abuse",
          "Physical abuse",
          "Physical abuse",
          "Physical abuse",
          "Physical abuse",
          "Physical abuse",
          "Physical abuse",
          "Physical abuse",
          "Physical abuse",
          "Physical abuse",
          "Physical abuse",
          "Physical abuse",
          "Physical abuse",
          "Physical abuse",
          "Physical abuse",
          "Physical abuse",
          "Physical abuse",
          "Physical abuse",
          "Physical abuse",
          "Physical abuse",
          "Physical abuse",
          "Physical abuse",
          "Physical abuse",
          "Physical abuse",
          "Physical abuse",
          "Physical abuse",
          "Physical abuse",
          "Physical abuse",
          "Physical abuse",
          "Physical abuse",
          "Physical abuse",
          "Physical abuse",
          "Physical abuse",
          "Physical abuse",
          "Physical abuse",
          "Physical abuse",
          "Physical abuse",
          "Physical abuse",
          "Physical abuse",
          "Physical abuse",
          "Physical abuse",
          "Physical abuse",
          "Physical abuse",
          "Physical abuse",
          "Physical abuse",
          "Physical abuse",
          "Physical abuse",
          "Physical abuse",
          "Physical abuse",
          "Physical abuse",
          "Physical abuse"
         ],
         "type": "choropleth",
         "visible": false,
         "z": [
          206,
          100928,
          5712,
          683,
          829,
          1789,
          4131,
          1157,
          350,
          199,
          2319,
          1092,
          123,
          844,
          6093,
          1576,
          1096,
          596,
          1224,
          772,
          1331,
          1407,
          1765,
          4009,
          911,
          1271,
          1369,
          183,
          316,
          1027,
          82,
          516,
          940,
          5273,
          1101,
          134,
          11243,
          1931,
          1378,
          1981,
          360,
          6319,
          148,
          5029,
          7292,
          3702,
          394,
          1499,
          859,
          4875,
          625,
          23,
          844
         ]
        },
        {
         "colorbar": {
          "title": {
           "text": "Count"
          }
         },
         "colorscale": [
          [
           0,
           "#440154"
          ],
          [
           0.1111111111111111,
           "#482878"
          ],
          [
           0.2222222222222222,
           "#3e4989"
          ],
          [
           0.3333333333333333,
           "#31688e"
          ],
          [
           0.4444444444444444,
           "#26828e"
          ],
          [
           0.5555555555555556,
           "#1f9e89"
          ],
          [
           0.6666666666666666,
           "#35b779"
          ],
          [
           0.7777777777777778,
           "#6ece58"
          ],
          [
           0.8888888888888888,
           "#b5de2b"
          ],
          [
           1,
           "#fde725"
          ]
         ],
         "locationmode": "USA-states",
         "locations": [
          "District of Columbia",
          "United States",
          "Alabama",
          "Alaska",
          "Arkansas",
          "California",
          "Colorado",
          "Connecticut",
          "Delaware",
          "Florida",
          "Georgia",
          "Hawaii",
          "Idaho",
          "Illinois",
          "Indiana",
          "Iowa",
          "Kansas",
          "Kentucky",
          "Louisiana",
          "Maine",
          "Maryland",
          "Massachusetts",
          "Michigan",
          "Minnesota",
          "Mississippi",
          "Missouri",
          "Montana",
          "Nebraska",
          "Nevada",
          "New Hampshire",
          "New Jersey",
          "New Mexico",
          "New York",
          "North Carolina",
          "North Dakota",
          "Ohio",
          "Oklahoma",
          "Oregon",
          "Pennsylvania",
          "Rhode Island",
          "South Carolina",
          "South Dakota",
          "Tennessee",
          "Texas",
          "Utah",
          "Vermont",
          "Virginia",
          "Washington",
          "West Virginia",
          "Wisconsin",
          "Wyoming",
          "Puerto Rico"
         ],
         "name": "Physical abuse (2021)",
         "text": [
          "Physical abuse",
          "Physical abuse",
          "Physical abuse",
          "Physical abuse",
          "Physical abuse",
          "Physical abuse",
          "Physical abuse",
          "Physical abuse",
          "Physical abuse",
          "Physical abuse",
          "Physical abuse",
          "Physical abuse",
          "Physical abuse",
          "Physical abuse",
          "Physical abuse",
          "Physical abuse",
          "Physical abuse",
          "Physical abuse",
          "Physical abuse",
          "Physical abuse",
          "Physical abuse",
          "Physical abuse",
          "Physical abuse",
          "Physical abuse",
          "Physical abuse",
          "Physical abuse",
          "Physical abuse",
          "Physical abuse",
          "Physical abuse",
          "Physical abuse",
          "Physical abuse",
          "Physical abuse",
          "Physical abuse",
          "Physical abuse",
          "Physical abuse",
          "Physical abuse",
          "Physical abuse",
          "Physical abuse",
          "Physical abuse",
          "Physical abuse",
          "Physical abuse",
          "Physical abuse",
          "Physical abuse",
          "Physical abuse",
          "Physical abuse",
          "Physical abuse",
          "Physical abuse",
          "Physical abuse",
          "Physical abuse",
          "Physical abuse",
          "Physical abuse",
          "Physical abuse"
         ],
         "type": "choropleth",
         "visible": false,
         "z": [
          205,
          93021,
          6062,
          567,
          1720,
          3602,
          1081,
          256,
          210,
          2195,
          1091,
          72,
          431,
          5640,
          1350,
          1200,
          526,
          1080,
          623,
          1024,
          1159,
          1614,
          3645,
          608,
          1233,
          1268,
          152,
          354,
          947,
          101,
          366,
          708,
          4184,
          1038,
          105,
          11089,
          1749,
          1208,
          2042,
          309,
          6653,
          136,
          4383,
          6968,
          3786,
          292,
          1192,
          684,
          4704,
          547,
          18,
          844
         ]
        },
        {
         "colorbar": {
          "title": {
           "text": "Count"
          }
         },
         "colorscale": [
          [
           0,
           "#440154"
          ],
          [
           0.1111111111111111,
           "#482878"
          ],
          [
           0.2222222222222222,
           "#3e4989"
          ],
          [
           0.3333333333333333,
           "#31688e"
          ],
          [
           0.4444444444444444,
           "#26828e"
          ],
          [
           0.5555555555555556,
           "#1f9e89"
          ],
          [
           0.6666666666666666,
           "#35b779"
          ],
          [
           0.7777777777777778,
           "#6ece58"
          ],
          [
           0.8888888888888888,
           "#b5de2b"
          ],
          [
           1,
           "#fde725"
          ]
         ],
         "locationmode": "USA-states",
         "locations": [
          "District of Columbia",
          "United States",
          "Alabama",
          "Alaska",
          "Arizona",
          "Arkansas",
          "California",
          "Colorado",
          "Connecticut",
          "Delaware",
          "Florida",
          "Georgia",
          "Hawaii",
          "Idaho",
          "Illinois",
          "Indiana",
          "Iowa",
          "Kansas",
          "Kentucky",
          "Louisiana",
          "Maine",
          "Maryland",
          "Massachusetts",
          "Michigan",
          "Minnesota",
          "Mississippi",
          "Missouri",
          "Montana",
          "Nebraska",
          "Nevada",
          "New Hampshire",
          "New Jersey",
          "New Mexico",
          "New York",
          "North Carolina",
          "North Dakota",
          "Ohio",
          "Oklahoma",
          "Oregon",
          "Pennsylvania",
          "Rhode Island",
          "South Carolina",
          "South Dakota",
          "Tennessee",
          "Texas",
          "Utah",
          "Vermont",
          "Virginia",
          "Washington",
          "West Virginia",
          "Wisconsin",
          "Wyoming",
          "Puerto Rico"
         ],
         "name": "Physical abuse (2022)",
         "text": [
          "Physical abuse",
          "Physical abuse",
          "Physical abuse",
          "Physical abuse",
          "Physical abuse",
          "Physical abuse",
          "Physical abuse",
          "Physical abuse",
          "Physical abuse",
          "Physical abuse",
          "Physical abuse",
          "Physical abuse",
          "Physical abuse",
          "Physical abuse",
          "Physical abuse",
          "Physical abuse",
          "Physical abuse",
          "Physical abuse",
          "Physical abuse",
          "Physical abuse",
          "Physical abuse",
          "Physical abuse",
          "Physical abuse",
          "Physical abuse",
          "Physical abuse",
          "Physical abuse",
          "Physical abuse",
          "Physical abuse",
          "Physical abuse",
          "Physical abuse",
          "Physical abuse",
          "Physical abuse",
          "Physical abuse",
          "Physical abuse",
          "Physical abuse",
          "Physical abuse",
          "Physical abuse",
          "Physical abuse",
          "Physical abuse",
          "Physical abuse",
          "Physical abuse",
          "Physical abuse",
          "Physical abuse",
          "Physical abuse",
          "Physical abuse",
          "Physical abuse",
          "Physical abuse",
          "Physical abuse",
          "Physical abuse",
          "Physical abuse",
          "Physical abuse",
          "Physical abuse",
          "Physical abuse"
         ],
         "type": "choropleth",
         "visible": false,
         "z": [
          214,
          94066,
          6143,
          606,
          1294,
          1568,
          3496,
          935,
          303,
          233,
          2166,
          1458,
          99,
          366,
          5231,
          1303,
          1169,
          403,
          1138,
          755,
          927,
          1306,
          1796,
          3758,
          700,
          1420,
          1216,
          166,
          246,
          934,
          102,
          435,
          733,
          4697,
          2428,
          96,
          10389,
          1753,
          1226,
          2266,
          334,
          6873,
          151,
          3527,
          6309,
          3485,
          394,
          1100,
          767,
          4175,
          605,
          15,
          857
         ]
        },
        {
         "colorbar": {
          "title": {
           "text": "Count"
          }
         },
         "colorscale": [
          [
           0,
           "#440154"
          ],
          [
           0.1111111111111111,
           "#482878"
          ],
          [
           0.2222222222222222,
           "#3e4989"
          ],
          [
           0.3333333333333333,
           "#31688e"
          ],
          [
           0.4444444444444444,
           "#26828e"
          ],
          [
           0.5555555555555556,
           "#1f9e89"
          ],
          [
           0.6666666666666666,
           "#35b779"
          ],
          [
           0.7777777777777778,
           "#6ece58"
          ],
          [
           0.8888888888888888,
           "#b5de2b"
          ],
          [
           1,
           "#fde725"
          ]
         ],
         "locationmode": "USA-states",
         "locations": [
          "District of Columbia",
          "United States",
          "Alabama",
          "Alaska",
          "Arizona",
          "Arkansas",
          "California",
          "Colorado",
          "Connecticut",
          "Delaware",
          "Florida",
          "Georgia",
          "Hawaii",
          "Idaho",
          "Illinois",
          "Indiana",
          "Iowa",
          "Kansas",
          "Kentucky",
          "Louisiana",
          "Maine",
          "Maryland",
          "Massachusetts",
          "Michigan",
          "Minnesota",
          "Mississippi",
          "Missouri",
          "Montana",
          "Nebraska",
          "Nevada",
          "New Hampshire",
          "New Jersey",
          "New Mexico",
          "New York",
          "North Carolina",
          "North Dakota",
          "Ohio",
          "Oklahoma",
          "Oregon",
          "Pennsylvania",
          "Rhode Island",
          "South Carolina",
          "South Dakota",
          "Tennessee",
          "Texas",
          "Utah",
          "Vermont",
          "Virginia",
          "Washington",
          "West Virginia",
          "Wisconsin",
          "Wyoming",
          "Puerto Rico"
         ],
         "name": "Sexual abuse (2015)",
         "text": [
          "Sexual abuse",
          "Sexual abuse",
          "Sexual abuse",
          "Sexual abuse",
          "Sexual abuse",
          "Sexual abuse",
          "Sexual abuse",
          "Sexual abuse",
          "Sexual abuse",
          "Sexual abuse",
          "Sexual abuse",
          "Sexual abuse",
          "Sexual abuse",
          "Sexual abuse",
          "Sexual abuse",
          "Sexual abuse",
          "Sexual abuse",
          "Sexual abuse",
          "Sexual abuse",
          "Sexual abuse",
          "Sexual abuse",
          "Sexual abuse",
          "Sexual abuse",
          "Sexual abuse",
          "Sexual abuse",
          "Sexual abuse",
          "Sexual abuse",
          "Sexual abuse",
          "Sexual abuse",
          "Sexual abuse",
          "Sexual abuse",
          "Sexual abuse",
          "Sexual abuse",
          "Sexual abuse",
          "Sexual abuse",
          "Sexual abuse",
          "Sexual abuse",
          "Sexual abuse",
          "Sexual abuse",
          "Sexual abuse",
          "Sexual abuse",
          "Sexual abuse",
          "Sexual abuse",
          "Sexual abuse",
          "Sexual abuse",
          "Sexual abuse",
          "Sexual abuse",
          "Sexual abuse",
          "Sexual abuse",
          "Sexual abuse",
          "Sexual abuse",
          "Sexual abuse",
          "Sexual abuse"
         ],
         "type": "choropleth",
         "visible": false,
         "z": [
          40,
          56940,
          1463,
          155,
          346,
          1873,
          3617,
          1008,
          389,
          108,
          2498,
          926,
          66,
          63,
          4488,
          2664,
          534,
          601,
          901,
          675,
          233,
          1617,
          705,
          1083,
          930,
          865,
          1334,
          71,
          237,
          277,
          80,
          840,
          231,
          1987,
          1594,
          65,
          4660,
          619,
          833,
          1872,
          127,
          767,
          26,
          2608,
          5712,
          2023,
          472,
          633,
          538,
          196,
          1093,
          67,
          130
         ]
        },
        {
         "colorbar": {
          "title": {
           "text": "Count"
          }
         },
         "colorscale": [
          [
           0,
           "#440154"
          ],
          [
           0.1111111111111111,
           "#482878"
          ],
          [
           0.2222222222222222,
           "#3e4989"
          ],
          [
           0.3333333333333333,
           "#31688e"
          ],
          [
           0.4444444444444444,
           "#26828e"
          ],
          [
           0.5555555555555556,
           "#1f9e89"
          ],
          [
           0.6666666666666666,
           "#35b779"
          ],
          [
           0.7777777777777778,
           "#6ece58"
          ],
          [
           0.8888888888888888,
           "#b5de2b"
          ],
          [
           1,
           "#fde725"
          ]
         ],
         "locationmode": "USA-states",
         "locations": [
          "District of Columbia",
          "United States",
          "Alabama",
          "Alaska",
          "Arizona",
          "Arkansas",
          "California",
          "Colorado",
          "Connecticut",
          "Delaware",
          "Florida",
          "Georgia",
          "Hawaii",
          "Idaho",
          "Illinois",
          "Indiana",
          "Iowa",
          "Kansas",
          "Kentucky",
          "Louisiana",
          "Maine",
          "Maryland",
          "Massachusetts",
          "Michigan",
          "Minnesota",
          "Mississippi",
          "Missouri",
          "Montana",
          "Nebraska",
          "Nevada",
          "New Hampshire",
          "New Jersey",
          "New Mexico",
          "New York",
          "North Carolina",
          "North Dakota",
          "Ohio",
          "Oklahoma",
          "Oregon",
          "Pennsylvania",
          "Rhode Island",
          "South Carolina",
          "South Dakota",
          "Tennessee",
          "Texas",
          "Utah",
          "Vermont",
          "Virginia",
          "Washington",
          "West Virginia",
          "Wisconsin",
          "Wyoming"
         ],
         "name": "Sexual abuse (2016)",
         "text": [
          "Sexual abuse",
          "Sexual abuse",
          "Sexual abuse",
          "Sexual abuse",
          "Sexual abuse",
          "Sexual abuse",
          "Sexual abuse",
          "Sexual abuse",
          "Sexual abuse",
          "Sexual abuse",
          "Sexual abuse",
          "Sexual abuse",
          "Sexual abuse",
          "Sexual abuse",
          "Sexual abuse",
          "Sexual abuse",
          "Sexual abuse",
          "Sexual abuse",
          "Sexual abuse",
          "Sexual abuse",
          "Sexual abuse",
          "Sexual abuse",
          "Sexual abuse",
          "Sexual abuse",
          "Sexual abuse",
          "Sexual abuse",
          "Sexual abuse",
          "Sexual abuse",
          "Sexual abuse",
          "Sexual abuse",
          "Sexual abuse",
          "Sexual abuse",
          "Sexual abuse",
          "Sexual abuse",
          "Sexual abuse",
          "Sexual abuse",
          "Sexual abuse",
          "Sexual abuse",
          "Sexual abuse",
          "Sexual abuse",
          "Sexual abuse",
          "Sexual abuse",
          "Sexual abuse",
          "Sexual abuse",
          "Sexual abuse",
          "Sexual abuse",
          "Sexual abuse",
          "Sexual abuse",
          "Sexual abuse",
          "Sexual abuse",
          "Sexual abuse",
          "Sexual abuse"
         ],
         "type": "choropleth",
         "visible": false,
         "z": [
          72,
          57064,
          1552,
          181,
          380,
          1962,
          3615,
          1062,
          364,
          141,
          2610,
          876,
          74,
          69,
          4331,
          2593,
          570,
          645,
          779,
          601,
          276,
          1693,
          763,
          1130,
          1288,
          999,
          1326,
          95,
          176,
          269,
          79,
          820,
          194,
          2084,
          1376,
          52,
          4479,
          641,
          1045,
          2041,
          129,
          761,
          54,
          2594,
          5685,
          1671,
          378,
          683,
          474,
          256,
          999,
          77
         ]
        },
        {
         "colorbar": {
          "title": {
           "text": "Count"
          }
         },
         "colorscale": [
          [
           0,
           "#440154"
          ],
          [
           0.1111111111111111,
           "#482878"
          ],
          [
           0.2222222222222222,
           "#3e4989"
          ],
          [
           0.3333333333333333,
           "#31688e"
          ],
          [
           0.4444444444444444,
           "#26828e"
          ],
          [
           0.5555555555555556,
           "#1f9e89"
          ],
          [
           0.6666666666666666,
           "#35b779"
          ],
          [
           0.7777777777777778,
           "#6ece58"
          ],
          [
           0.8888888888888888,
           "#b5de2b"
          ],
          [
           1,
           "#fde725"
          ]
         ],
         "locationmode": "USA-states",
         "locations": [
          "District of Columbia",
          "United States",
          "Alabama",
          "Alaska",
          "Arizona",
          "Arkansas",
          "California",
          "Colorado",
          "Connecticut",
          "Delaware",
          "Florida",
          "Georgia",
          "Hawaii",
          "Idaho",
          "Illinois",
          "Indiana",
          "Iowa",
          "Kansas",
          "Kentucky",
          "Louisiana",
          "Maine",
          "Maryland",
          "Massachusetts",
          "Michigan",
          "Minnesota",
          "Mississippi",
          "Missouri",
          "Montana",
          "Nebraska",
          "Nevada",
          "New Hampshire",
          "New Jersey",
          "New Mexico",
          "New York",
          "North Carolina",
          "North Dakota",
          "Ohio",
          "Oklahoma",
          "Oregon",
          "Pennsylvania",
          "Rhode Island",
          "South Carolina",
          "South Dakota",
          "Tennessee",
          "Texas",
          "Utah",
          "Vermont",
          "Virginia",
          "Washington",
          "West Virginia",
          "Wisconsin",
          "Wyoming",
          "Puerto Rico"
         ],
         "name": "Sexual abuse (2017)",
         "text": [
          "Sexual abuse",
          "Sexual abuse",
          "Sexual abuse",
          "Sexual abuse",
          "Sexual abuse",
          "Sexual abuse",
          "Sexual abuse",
          "Sexual abuse",
          "Sexual abuse",
          "Sexual abuse",
          "Sexual abuse",
          "Sexual abuse",
          "Sexual abuse",
          "Sexual abuse",
          "Sexual abuse",
          "Sexual abuse",
          "Sexual abuse",
          "Sexual abuse",
          "Sexual abuse",
          "Sexual abuse",
          "Sexual abuse",
          "Sexual abuse",
          "Sexual abuse",
          "Sexual abuse",
          "Sexual abuse",
          "Sexual abuse",
          "Sexual abuse",
          "Sexual abuse",
          "Sexual abuse",
          "Sexual abuse",
          "Sexual abuse",
          "Sexual abuse",
          "Sexual abuse",
          "Sexual abuse",
          "Sexual abuse",
          "Sexual abuse",
          "Sexual abuse",
          "Sexual abuse",
          "Sexual abuse",
          "Sexual abuse",
          "Sexual abuse",
          "Sexual abuse",
          "Sexual abuse",
          "Sexual abuse",
          "Sexual abuse",
          "Sexual abuse",
          "Sexual abuse",
          "Sexual abuse",
          "Sexual abuse",
          "Sexual abuse",
          "Sexual abuse",
          "Sexual abuse",
          "Sexual abuse"
         ],
         "type": "choropleth",
         "visible": false,
         "z": [
          63,
          57836,
          1583,
          148,
          319,
          1769,
          3494,
          1065,
          392,
          108,
          2768,
          622,
          60,
          79,
          4137,
          2673,
          785,
          761,
          849,
          543,
          284,
          1770,
          860,
          1408,
          1524,
          1161,
          1245,
          97,
          235,
          250,
          78,
          708,
          220,
          2152,
          1433,
          45,
          4318,
          692,
          869,
          2043,
          101,
          835,
          57,
          2492,
          6094,
          1712,
          364,
          675,
          466,
          228,
          1005,
          61,
          136
         ]
        },
        {
         "colorbar": {
          "title": {
           "text": "Count"
          }
         },
         "colorscale": [
          [
           0,
           "#440154"
          ],
          [
           0.1111111111111111,
           "#482878"
          ],
          [
           0.2222222222222222,
           "#3e4989"
          ],
          [
           0.3333333333333333,
           "#31688e"
          ],
          [
           0.4444444444444444,
           "#26828e"
          ],
          [
           0.5555555555555556,
           "#1f9e89"
          ],
          [
           0.6666666666666666,
           "#35b779"
          ],
          [
           0.7777777777777778,
           "#6ece58"
          ],
          [
           0.8888888888888888,
           "#b5de2b"
          ],
          [
           1,
           "#fde725"
          ]
         ],
         "locationmode": "USA-states",
         "locations": [
          "District of Columbia",
          "United States",
          "Alabama",
          "Alaska",
          "Arizona",
          "Arkansas",
          "California",
          "Colorado",
          "Connecticut",
          "Delaware",
          "Florida",
          "Georgia",
          "Hawaii",
          "Idaho",
          "Illinois",
          "Indiana",
          "Iowa",
          "Kansas",
          "Kentucky",
          "Louisiana",
          "Maine",
          "Maryland",
          "Massachusetts",
          "Michigan",
          "Minnesota",
          "Mississippi",
          "Missouri",
          "Montana",
          "Nebraska",
          "Nevada",
          "New Hampshire",
          "New Jersey",
          "New Mexico",
          "New York",
          "North Carolina",
          "North Dakota",
          "Ohio",
          "Oklahoma",
          "Oregon",
          "Pennsylvania",
          "Rhode Island",
          "South Carolina",
          "South Dakota",
          "Tennessee",
          "Texas",
          "Utah",
          "Vermont",
          "Virginia",
          "Washington",
          "West Virginia",
          "Wisconsin",
          "Wyoming",
          "Puerto Rico"
         ],
         "name": "Sexual abuse (2018)",
         "text": [
          "Sexual abuse",
          "Sexual abuse",
          "Sexual abuse",
          "Sexual abuse",
          "Sexual abuse",
          "Sexual abuse",
          "Sexual abuse",
          "Sexual abuse",
          "Sexual abuse",
          "Sexual abuse",
          "Sexual abuse",
          "Sexual abuse",
          "Sexual abuse",
          "Sexual abuse",
          "Sexual abuse",
          "Sexual abuse",
          "Sexual abuse",
          "Sexual abuse",
          "Sexual abuse",
          "Sexual abuse",
          "Sexual abuse",
          "Sexual abuse",
          "Sexual abuse",
          "Sexual abuse",
          "Sexual abuse",
          "Sexual abuse",
          "Sexual abuse",
          "Sexual abuse",
          "Sexual abuse",
          "Sexual abuse",
          "Sexual abuse",
          "Sexual abuse",
          "Sexual abuse",
          "Sexual abuse",
          "Sexual abuse",
          "Sexual abuse",
          "Sexual abuse",
          "Sexual abuse",
          "Sexual abuse",
          "Sexual abuse",
          "Sexual abuse",
          "Sexual abuse",
          "Sexual abuse",
          "Sexual abuse",
          "Sexual abuse",
          "Sexual abuse",
          "Sexual abuse",
          "Sexual abuse",
          "Sexual abuse",
          "Sexual abuse",
          "Sexual abuse",
          "Sexual abuse",
          "Sexual abuse"
         ],
         "type": "choropleth",
         "visible": false,
         "z": [
          61,
          60868,
          1981,
          201,
          617,
          1683,
          3347,
          1009,
          380,
          127,
          2804,
          726,
          74,
          104,
          4698,
          2662,
          723,
          589,
          931,
          472,
          301,
          1888,
          825,
          1406,
          1591,
          1204,
          1786,
          119,
          295,
          335,
          98,
          799,
          292,
          2362,
          1267,
          63,
          4400,
          710,
          944,
          2057,
          171,
          940,
          39,
          2482,
          6494,
          1715,
          393,
          689,
          523,
          222,
          1100,
          67,
          102
         ]
        },
        {
         "colorbar": {
          "title": {
           "text": "Count"
          }
         },
         "colorscale": [
          [
           0,
           "#440154"
          ],
          [
           0.1111111111111111,
           "#482878"
          ],
          [
           0.2222222222222222,
           "#3e4989"
          ],
          [
           0.3333333333333333,
           "#31688e"
          ],
          [
           0.4444444444444444,
           "#26828e"
          ],
          [
           0.5555555555555556,
           "#1f9e89"
          ],
          [
           0.6666666666666666,
           "#35b779"
          ],
          [
           0.7777777777777778,
           "#6ece58"
          ],
          [
           0.8888888888888888,
           "#b5de2b"
          ],
          [
           1,
           "#fde725"
          ]
         ],
         "locationmode": "USA-states",
         "locations": [
          "District of Columbia",
          "United States",
          "Alabama",
          "Alaska",
          "Arizona",
          "Arkansas",
          "California",
          "Colorado",
          "Connecticut",
          "Delaware",
          "Florida",
          "Georgia",
          "Hawaii",
          "Idaho",
          "Illinois",
          "Indiana",
          "Iowa",
          "Kansas",
          "Kentucky",
          "Louisiana",
          "Maine",
          "Maryland",
          "Massachusetts",
          "Michigan",
          "Minnesota",
          "Mississippi",
          "Missouri",
          "Montana",
          "Nebraska",
          "Nevada",
          "New Hampshire",
          "New Jersey",
          "New Mexico",
          "New York",
          "North Carolina",
          "North Dakota",
          "Ohio",
          "Oklahoma",
          "Oregon",
          "Pennsylvania",
          "Rhode Island",
          "South Carolina",
          "South Dakota",
          "Tennessee",
          "Texas",
          "Utah",
          "Vermont",
          "Virginia",
          "Washington",
          "West Virginia",
          "Wisconsin",
          "Wyoming",
          "Puerto Rico"
         ],
         "name": "Sexual abuse (2019)",
         "text": [
          "Sexual abuse",
          "Sexual abuse",
          "Sexual abuse",
          "Sexual abuse",
          "Sexual abuse",
          "Sexual abuse",
          "Sexual abuse",
          "Sexual abuse",
          "Sexual abuse",
          "Sexual abuse",
          "Sexual abuse",
          "Sexual abuse",
          "Sexual abuse",
          "Sexual abuse",
          "Sexual abuse",
          "Sexual abuse",
          "Sexual abuse",
          "Sexual abuse",
          "Sexual abuse",
          "Sexual abuse",
          "Sexual abuse",
          "Sexual abuse",
          "Sexual abuse",
          "Sexual abuse",
          "Sexual abuse",
          "Sexual abuse",
          "Sexual abuse",
          "Sexual abuse",
          "Sexual abuse",
          "Sexual abuse",
          "Sexual abuse",
          "Sexual abuse",
          "Sexual abuse",
          "Sexual abuse",
          "Sexual abuse",
          "Sexual abuse",
          "Sexual abuse",
          "Sexual abuse",
          "Sexual abuse",
          "Sexual abuse",
          "Sexual abuse",
          "Sexual abuse",
          "Sexual abuse",
          "Sexual abuse",
          "Sexual abuse",
          "Sexual abuse",
          "Sexual abuse",
          "Sexual abuse",
          "Sexual abuse",
          "Sexual abuse",
          "Sexual abuse",
          "Sexual abuse",
          "Sexual abuse"
         ],
         "type": "choropleth",
         "visible": false,
         "z": [
          64,
          60623,
          2035,
          279,
          494,
          1603,
          3413,
          1163,
          371,
          132,
          2881,
          846,
          77,
          128,
          4576,
          2455,
          705,
          582,
          784,
          436,
          357,
          1912,
          796,
          1304,
          1578,
          1268,
          1566,
          91,
          252,
          290,
          100,
          769,
          217,
          2259,
          1213,
          67,
          4479,
          706,
          1075,
          2030,
          139,
          943,
          59,
          2426,
          6915,
          1840,
          336,
          738,
          484,
          236,
          967,
          72,
          115
         ]
        },
        {
         "colorbar": {
          "title": {
           "text": "Count"
          }
         },
         "colorscale": [
          [
           0,
           "#440154"
          ],
          [
           0.1111111111111111,
           "#482878"
          ],
          [
           0.2222222222222222,
           "#3e4989"
          ],
          [
           0.3333333333333333,
           "#31688e"
          ],
          [
           0.4444444444444444,
           "#26828e"
          ],
          [
           0.5555555555555556,
           "#1f9e89"
          ],
          [
           0.6666666666666666,
           "#35b779"
          ],
          [
           0.7777777777777778,
           "#6ece58"
          ],
          [
           0.8888888888888888,
           "#b5de2b"
          ],
          [
           1,
           "#fde725"
          ]
         ],
         "locationmode": "USA-states",
         "locations": [
          "District of Columbia",
          "United States",
          "Alabama",
          "Alaska",
          "Arizona",
          "Arkansas",
          "California",
          "Colorado",
          "Connecticut",
          "Delaware",
          "Florida",
          "Georgia",
          "Hawaii",
          "Idaho",
          "Illinois",
          "Indiana",
          "Iowa",
          "Kansas",
          "Kentucky",
          "Louisiana",
          "Maine",
          "Maryland",
          "Massachusetts",
          "Michigan",
          "Minnesota",
          "Mississippi",
          "Missouri",
          "Montana",
          "Nebraska",
          "Nevada",
          "New Hampshire",
          "New Jersey",
          "New Mexico",
          "New York",
          "North Carolina",
          "North Dakota",
          "Ohio",
          "Oklahoma",
          "Oregon",
          "Pennsylvania",
          "Rhode Island",
          "South Carolina",
          "South Dakota",
          "Tennessee",
          "Texas",
          "Utah",
          "Vermont",
          "Virginia",
          "Washington",
          "West Virginia",
          "Wisconsin",
          "Wyoming",
          "Puerto Rico"
         ],
         "name": "Sexual abuse (2020)",
         "text": [
          "Sexual abuse",
          "Sexual abuse",
          "Sexual abuse",
          "Sexual abuse",
          "Sexual abuse",
          "Sexual abuse",
          "Sexual abuse",
          "Sexual abuse",
          "Sexual abuse",
          "Sexual abuse",
          "Sexual abuse",
          "Sexual abuse",
          "Sexual abuse",
          "Sexual abuse",
          "Sexual abuse",
          "Sexual abuse",
          "Sexual abuse",
          "Sexual abuse",
          "Sexual abuse",
          "Sexual abuse",
          "Sexual abuse",
          "Sexual abuse",
          "Sexual abuse",
          "Sexual abuse",
          "Sexual abuse",
          "Sexual abuse",
          "Sexual abuse",
          "Sexual abuse",
          "Sexual abuse",
          "Sexual abuse",
          "Sexual abuse",
          "Sexual abuse",
          "Sexual abuse",
          "Sexual abuse",
          "Sexual abuse",
          "Sexual abuse",
          "Sexual abuse",
          "Sexual abuse",
          "Sexual abuse",
          "Sexual abuse",
          "Sexual abuse",
          "Sexual abuse",
          "Sexual abuse",
          "Sexual abuse",
          "Sexual abuse",
          "Sexual abuse",
          "Sexual abuse",
          "Sexual abuse",
          "Sexual abuse",
          "Sexual abuse",
          "Sexual abuse",
          "Sexual abuse",
          "Sexual abuse"
         ],
         "type": "choropleth",
         "visible": false,
         "z": [
          36,
          57641,
          2164,
          295,
          382,
          1741,
          3256,
          1035,
          372,
          149,
          2315,
          763,
          90,
          160,
          4771,
          2540,
          669,
          488,
          709,
          410,
          381,
          2056,
          732,
          1197,
          1634,
          1086,
          1456,
          106,
          243,
          365,
          119,
          633,
          257,
          2168,
          994,
          50,
          4220,
          791,
          763,
          2001,
          131,
          741,
          84,
          2281,
          6571,
          1650,
          124,
          689,
          464,
          239,
          932,
          46,
          92
         ]
        },
        {
         "colorbar": {
          "title": {
           "text": "Count"
          }
         },
         "colorscale": [
          [
           0,
           "#440154"
          ],
          [
           0.1111111111111111,
           "#482878"
          ],
          [
           0.2222222222222222,
           "#3e4989"
          ],
          [
           0.3333333333333333,
           "#31688e"
          ],
          [
           0.4444444444444444,
           "#26828e"
          ],
          [
           0.5555555555555556,
           "#1f9e89"
          ],
          [
           0.6666666666666666,
           "#35b779"
          ],
          [
           0.7777777777777778,
           "#6ece58"
          ],
          [
           0.8888888888888888,
           "#b5de2b"
          ],
          [
           1,
           "#fde725"
          ]
         ],
         "locationmode": "USA-states",
         "locations": [
          "District of Columbia",
          "United States",
          "Alabama",
          "Alaska",
          "Arkansas",
          "California",
          "Colorado",
          "Connecticut",
          "Delaware",
          "Florida",
          "Georgia",
          "Hawaii",
          "Idaho",
          "Illinois",
          "Indiana",
          "Iowa",
          "Kansas",
          "Kentucky",
          "Louisiana",
          "Maine",
          "Maryland",
          "Massachusetts",
          "Michigan",
          "Minnesota",
          "Mississippi",
          "Missouri",
          "Montana",
          "Nebraska",
          "Nevada",
          "New Hampshire",
          "New Jersey",
          "New Mexico",
          "New York",
          "North Carolina",
          "North Dakota",
          "Ohio",
          "Oklahoma",
          "Oregon",
          "Pennsylvania",
          "Rhode Island",
          "South Carolina",
          "South Dakota",
          "Tennessee",
          "Texas",
          "Utah",
          "Vermont",
          "Virginia",
          "Washington",
          "West Virginia",
          "Wisconsin",
          "Wyoming",
          "Puerto Rico"
         ],
         "name": "Sexual abuse (2021)",
         "text": [
          "Sexual abuse",
          "Sexual abuse",
          "Sexual abuse",
          "Sexual abuse",
          "Sexual abuse",
          "Sexual abuse",
          "Sexual abuse",
          "Sexual abuse",
          "Sexual abuse",
          "Sexual abuse",
          "Sexual abuse",
          "Sexual abuse",
          "Sexual abuse",
          "Sexual abuse",
          "Sexual abuse",
          "Sexual abuse",
          "Sexual abuse",
          "Sexual abuse",
          "Sexual abuse",
          "Sexual abuse",
          "Sexual abuse",
          "Sexual abuse",
          "Sexual abuse",
          "Sexual abuse",
          "Sexual abuse",
          "Sexual abuse",
          "Sexual abuse",
          "Sexual abuse",
          "Sexual abuse",
          "Sexual abuse",
          "Sexual abuse",
          "Sexual abuse",
          "Sexual abuse",
          "Sexual abuse",
          "Sexual abuse",
          "Sexual abuse",
          "Sexual abuse",
          "Sexual abuse",
          "Sexual abuse",
          "Sexual abuse",
          "Sexual abuse",
          "Sexual abuse",
          "Sexual abuse",
          "Sexual abuse",
          "Sexual abuse",
          "Sexual abuse",
          "Sexual abuse",
          "Sexual abuse",
          "Sexual abuse",
          "Sexual abuse",
          "Sexual abuse",
          "Sexual abuse"
         ],
         "type": "choropleth",
         "visible": false,
         "z": [
          35,
          59015,
          2103,
          227,
          1750,
          3821,
          1169,
          385,
          217,
          2558,
          720,
          73,
          230,
          4271,
          2555,
          673,
          484,
          830,
          331,
          303,
          2046,
          793,
          1368,
          1442,
          1220,
          1340,
          88,
          217,
          396,
          80,
          603,
          218,
          2166,
          1081,
          62,
          4338,
          749,
          953,
          2042,
          130,
          792,
          80,
          2355,
          7562,
          1331,
          104,
          727,
          516,
          243,
          1018,
          46,
          174
         ]
        },
        {
         "colorbar": {
          "title": {
           "text": "Count"
          }
         },
         "colorscale": [
          [
           0,
           "#440154"
          ],
          [
           0.1111111111111111,
           "#482878"
          ],
          [
           0.2222222222222222,
           "#3e4989"
          ],
          [
           0.3333333333333333,
           "#31688e"
          ],
          [
           0.4444444444444444,
           "#26828e"
          ],
          [
           0.5555555555555556,
           "#1f9e89"
          ],
          [
           0.6666666666666666,
           "#35b779"
          ],
          [
           0.7777777777777778,
           "#6ece58"
          ],
          [
           0.8888888888888888,
           "#b5de2b"
          ],
          [
           1,
           "#fde725"
          ]
         ],
         "locationmode": "USA-states",
         "locations": [
          "District of Columbia",
          "United States",
          "Alabama",
          "Alaska",
          "Arizona",
          "Arkansas",
          "California",
          "Colorado",
          "Connecticut",
          "Delaware",
          "Florida",
          "Georgia",
          "Hawaii",
          "Idaho",
          "Illinois",
          "Indiana",
          "Iowa",
          "Kansas",
          "Kentucky",
          "Louisiana",
          "Maine",
          "Maryland",
          "Massachusetts",
          "Michigan",
          "Minnesota",
          "Mississippi",
          "Missouri",
          "Montana",
          "Nebraska",
          "Nevada",
          "New Hampshire",
          "New Jersey",
          "New Mexico",
          "New York",
          "North Carolina",
          "North Dakota",
          "Ohio",
          "Oklahoma",
          "Oregon",
          "Pennsylvania",
          "Rhode Island",
          "South Carolina",
          "South Dakota",
          "Tennessee",
          "Texas",
          "Utah",
          "Vermont",
          "Virginia",
          "Washington",
          "West Virginia",
          "Wisconsin",
          "Wyoming",
          "Puerto Rico"
         ],
         "name": "Sexual abuse (2022)",
         "text": [
          "Sexual abuse",
          "Sexual abuse",
          "Sexual abuse",
          "Sexual abuse",
          "Sexual abuse",
          "Sexual abuse",
          "Sexual abuse",
          "Sexual abuse",
          "Sexual abuse",
          "Sexual abuse",
          "Sexual abuse",
          "Sexual abuse",
          "Sexual abuse",
          "Sexual abuse",
          "Sexual abuse",
          "Sexual abuse",
          "Sexual abuse",
          "Sexual abuse",
          "Sexual abuse",
          "Sexual abuse",
          "Sexual abuse",
          "Sexual abuse",
          "Sexual abuse",
          "Sexual abuse",
          "Sexual abuse",
          "Sexual abuse",
          "Sexual abuse",
          "Sexual abuse",
          "Sexual abuse",
          "Sexual abuse",
          "Sexual abuse",
          "Sexual abuse",
          "Sexual abuse",
          "Sexual abuse",
          "Sexual abuse",
          "Sexual abuse",
          "Sexual abuse",
          "Sexual abuse",
          "Sexual abuse",
          "Sexual abuse",
          "Sexual abuse",
          "Sexual abuse",
          "Sexual abuse",
          "Sexual abuse",
          "Sexual abuse",
          "Sexual abuse",
          "Sexual abuse",
          "Sexual abuse",
          "Sexual abuse",
          "Sexual abuse",
          "Sexual abuse",
          "Sexual abuse",
          "Sexual abuse"
         ],
         "type": "choropleth",
         "visible": false,
         "z": [
          38,
          58764,
          2001,
          252,
          581,
          1832,
          3448,
          1061,
          410,
          195,
          2386,
          651,
          82,
          187,
          3815,
          2276,
          648,
          401,
          754,
          406,
          238,
          1971,
          792,
          1282,
          1404,
          1293,
          1246,
          107,
          162,
          458,
          68,
          645,
          206,
          2160,
          1961,
          26,
          4098,
          704,
          1192,
          2082,
          109,
          776,
          80,
          2429,
          7140,
          1684,
          262,
          684,
          476,
          271,
          1052,
          64,
          218
         ]
        },
        {
         "colorbar": {
          "title": {
           "text": "Count"
          }
         },
         "colorscale": [
          [
           0,
           "#440154"
          ],
          [
           0.1111111111111111,
           "#482878"
          ],
          [
           0.2222222222222222,
           "#3e4989"
          ],
          [
           0.3333333333333333,
           "#31688e"
          ],
          [
           0.4444444444444444,
           "#26828e"
          ],
          [
           0.5555555555555556,
           "#1f9e89"
          ],
          [
           0.6666666666666666,
           "#35b779"
          ],
          [
           0.7777777777777778,
           "#6ece58"
          ],
          [
           0.8888888888888888,
           "#b5de2b"
          ],
          [
           1,
           "#fde725"
          ]
         ],
         "locationmode": "USA-states",
         "locations": [
          "United States",
          "Alabama",
          "Alaska",
          "Arizona",
          "Arkansas",
          "California",
          "Colorado",
          "Connecticut",
          "Delaware",
          "Florida",
          "Georgia",
          "Hawaii",
          "Illinois",
          "Iowa",
          "Kansas",
          "Kentucky",
          "Louisiana",
          "Maine",
          "Maryland",
          "Massachusetts",
          "Michigan",
          "Minnesota",
          "Mississippi",
          "Missouri",
          "Montana",
          "Nebraska",
          "Nevada",
          "New Hampshire",
          "New Jersey",
          "New Mexico",
          "New York",
          "North Carolina",
          "North Dakota",
          "Ohio",
          "Oklahoma",
          "Oregon",
          "Pennsylvania",
          "Rhode Island",
          "South Carolina",
          "South Dakota",
          "Tennessee",
          "Texas",
          "Utah",
          "Vermont",
          "Virginia",
          "West Virginia",
          "Wisconsin",
          "Wyoming",
          "Puerto Rico"
         ],
         "name": "Emotional abuse (2015)",
         "text": [
          "Emotional abuse",
          "Emotional abuse",
          "Emotional abuse",
          "Emotional abuse",
          "Emotional abuse",
          "Emotional abuse",
          "Emotional abuse",
          "Emotional abuse",
          "Emotional abuse",
          "Emotional abuse",
          "Emotional abuse",
          "Emotional abuse",
          "Emotional abuse",
          "Emotional abuse",
          "Emotional abuse",
          "Emotional abuse",
          "Emotional abuse",
          "Emotional abuse",
          "Emotional abuse",
          "Emotional abuse",
          "Emotional abuse",
          "Emotional abuse",
          "Emotional abuse",
          "Emotional abuse",
          "Emotional abuse",
          "Emotional abuse",
          "Emotional abuse",
          "Emotional abuse",
          "Emotional abuse",
          "Emotional abuse",
          "Emotional abuse",
          "Emotional abuse",
          "Emotional abuse",
          "Emotional abuse",
          "Emotional abuse",
          "Emotional abuse",
          "Emotional abuse",
          "Emotional abuse",
          "Emotional abuse",
          "Emotional abuse",
          "Emotional abuse",
          "Emotional abuse",
          "Emotional abuse",
          "Emotional abuse",
          "Emotional abuse",
          "Emotional abuse",
          "Emotional abuse",
          "Emotional abuse",
          "Emotional abuse"
         ],
         "type": "choropleth",
         "visible": false,
         "z": [
          41952,
          21,
          718,
          6,
          123,
          9040,
          313,
          2036,
          658,
          622,
          5732,
          12,
          32,
          52,
          276,
          67,
          60,
          1079,
          19,
          35,
          133,
          47,
          1117,
          487,
          48,
          38,
          41,
          5,
          45,
          2000,
          464,
          90,
          554,
          823,
          3867,
          244,
          50,
          1259,
          101,
          22,
          331,
          394,
          2794,
          7,
          69,
          2715,
          37,
          183,
          3086
         ]
        },
        {
         "colorbar": {
          "title": {
           "text": "Count"
          }
         },
         "colorscale": [
          [
           0,
           "#440154"
          ],
          [
           0.1111111111111111,
           "#482878"
          ],
          [
           0.2222222222222222,
           "#3e4989"
          ],
          [
           0.3333333333333333,
           "#31688e"
          ],
          [
           0.4444444444444444,
           "#26828e"
          ],
          [
           0.5555555555555556,
           "#1f9e89"
          ],
          [
           0.6666666666666666,
           "#35b779"
          ],
          [
           0.7777777777777778,
           "#6ece58"
          ],
          [
           0.8888888888888888,
           "#b5de2b"
          ],
          [
           1,
           "#fde725"
          ]
         ],
         "locationmode": "USA-states",
         "locations": [
          "United States",
          "Alabama",
          "Alaska",
          "Arizona",
          "Arkansas",
          "California",
          "Colorado",
          "Connecticut",
          "Delaware",
          "Florida",
          "Georgia",
          "Hawaii",
          "Illinois",
          "Iowa",
          "Kansas",
          "Kentucky",
          "Louisiana",
          "Maine",
          "Maryland",
          "Massachusetts",
          "Michigan",
          "Minnesota",
          "Mississippi",
          "Missouri",
          "Montana",
          "Nebraska",
          "Nevada",
          "New Hampshire",
          "New Jersey",
          "New Mexico",
          "New York",
          "North Carolina",
          "North Dakota",
          "Ohio",
          "Oklahoma",
          "Oregon",
          "Pennsylvania",
          "Rhode Island",
          "South Carolina",
          "South Dakota",
          "Tennessee",
          "Texas",
          "Utah",
          "Vermont",
          "Virginia",
          "West Virginia",
          "Wisconsin",
          "Wyoming"
         ],
         "name": "Emotional abuse (2016)",
         "text": [
          "Emotional abuse",
          "Emotional abuse",
          "Emotional abuse",
          "Emotional abuse",
          "Emotional abuse",
          "Emotional abuse",
          "Emotional abuse",
          "Emotional abuse",
          "Emotional abuse",
          "Emotional abuse",
          "Emotional abuse",
          "Emotional abuse",
          "Emotional abuse",
          "Emotional abuse",
          "Emotional abuse",
          "Emotional abuse",
          "Emotional abuse",
          "Emotional abuse",
          "Emotional abuse",
          "Emotional abuse",
          "Emotional abuse",
          "Emotional abuse",
          "Emotional abuse",
          "Emotional abuse",
          "Emotional abuse",
          "Emotional abuse",
          "Emotional abuse",
          "Emotional abuse",
          "Emotional abuse",
          "Emotional abuse",
          "Emotional abuse",
          "Emotional abuse",
          "Emotional abuse",
          "Emotional abuse",
          "Emotional abuse",
          "Emotional abuse",
          "Emotional abuse",
          "Emotional abuse",
          "Emotional abuse",
          "Emotional abuse",
          "Emotional abuse",
          "Emotional abuse",
          "Emotional abuse",
          "Emotional abuse",
          "Emotional abuse",
          "Emotional abuse",
          "Emotional abuse",
          "Emotional abuse"
         ],
         "type": "choropleth",
         "visible": false,
         "z": [
          37751,
          34,
          985,
          11,
          118,
          8027,
          317,
          2300,
          604,
          496,
          4426,
          11,
          28,
          62,
          345,
          42,
          48,
          1152,
          14,
          30,
          156,
          70,
          1338,
          578,
          59,
          28,
          24,
          14,
          46,
          1752,
          470,
          73,
          579,
          791,
          3634,
          247,
          71,
          1120,
          144,
          27,
          260,
          335,
          2850,
          1,
          78,
          3709,
          22,
          225
         ]
        },
        {
         "colorbar": {
          "title": {
           "text": "Count"
          }
         },
         "colorscale": [
          [
           0,
           "#440154"
          ],
          [
           0.1111111111111111,
           "#482878"
          ],
          [
           0.2222222222222222,
           "#3e4989"
          ],
          [
           0.3333333333333333,
           "#31688e"
          ],
          [
           0.4444444444444444,
           "#26828e"
          ],
          [
           0.5555555555555556,
           "#1f9e89"
          ],
          [
           0.6666666666666666,
           "#35b779"
          ],
          [
           0.7777777777777778,
           "#6ece58"
          ],
          [
           0.8888888888888888,
           "#b5de2b"
          ],
          [
           1,
           "#fde725"
          ]
         ],
         "locationmode": "USA-states",
         "locations": [
          "United States",
          "Alabama",
          "Alaska",
          "Arizona",
          "Arkansas",
          "California",
          "Colorado",
          "Connecticut",
          "Delaware",
          "Florida",
          "Georgia",
          "Hawaii",
          "Illinois",
          "Iowa",
          "Kansas",
          "Kentucky",
          "Louisiana",
          "Maine",
          "Maryland",
          "Michigan",
          "Minnesota",
          "Mississippi",
          "Missouri",
          "Montana",
          "Nebraska",
          "Nevada",
          "New Hampshire",
          "New Jersey",
          "New Mexico",
          "New York",
          "North Carolina",
          "North Dakota",
          "Ohio",
          "Oklahoma",
          "Oregon",
          "Pennsylvania",
          "Rhode Island",
          "South Carolina",
          "South Dakota",
          "Tennessee",
          "Texas",
          "Utah",
          "Virginia",
          "West Virginia",
          "Wisconsin",
          "Wyoming",
          "Puerto Rico"
         ],
         "name": "Emotional abuse (2017)",
         "text": [
          "Emotional abuse",
          "Emotional abuse",
          "Emotional abuse",
          "Emotional abuse",
          "Emotional abuse",
          "Emotional abuse",
          "Emotional abuse",
          "Emotional abuse",
          "Emotional abuse",
          "Emotional abuse",
          "Emotional abuse",
          "Emotional abuse",
          "Emotional abuse",
          "Emotional abuse",
          "Emotional abuse",
          "Emotional abuse",
          "Emotional abuse",
          "Emotional abuse",
          "Emotional abuse",
          "Emotional abuse",
          "Emotional abuse",
          "Emotional abuse",
          "Emotional abuse",
          "Emotional abuse",
          "Emotional abuse",
          "Emotional abuse",
          "Emotional abuse",
          "Emotional abuse",
          "Emotional abuse",
          "Emotional abuse",
          "Emotional abuse",
          "Emotional abuse",
          "Emotional abuse",
          "Emotional abuse",
          "Emotional abuse",
          "Emotional abuse",
          "Emotional abuse",
          "Emotional abuse",
          "Emotional abuse",
          "Emotional abuse",
          "Emotional abuse",
          "Emotional abuse",
          "Emotional abuse",
          "Emotional abuse",
          "Emotional abuse",
          "Emotional abuse",
          "Emotional abuse"
         ],
         "type": "choropleth",
         "visible": false,
         "z": [
          38413,
          41,
          770,
          2,
          150,
          6857,
          268,
          2434,
          591,
          438,
          1592,
          18,
          50,
          72,
          741,
          44,
          37,
          1195,
          10,
          132,
          135,
          1549,
          477,
          31,
          26,
          10,
          8,
          52,
          2332,
          561,
          118,
          783,
          912,
          3836,
          177,
          57,
          1091,
          130,
          18,
          196,
          375,
          2806,
          84,
          4035,
          40,
          285,
          2847
         ]
        },
        {
         "colorbar": {
          "title": {
           "text": "Count"
          }
         },
         "colorscale": [
          [
           0,
           "#440154"
          ],
          [
           0.1111111111111111,
           "#482878"
          ],
          [
           0.2222222222222222,
           "#3e4989"
          ],
          [
           0.3333333333333333,
           "#31688e"
          ],
          [
           0.4444444444444444,
           "#26828e"
          ],
          [
           0.5555555555555556,
           "#1f9e89"
          ],
          [
           0.6666666666666666,
           "#35b779"
          ],
          [
           0.7777777777777778,
           "#6ece58"
          ],
          [
           0.8888888888888888,
           "#b5de2b"
          ],
          [
           1,
           "#fde725"
          ]
         ],
         "locationmode": "USA-states",
         "locations": [
          "United States",
          "Alabama",
          "Alaska",
          "Arizona",
          "Arkansas",
          "California",
          "Colorado",
          "Connecticut",
          "Florida",
          "Georgia",
          "Hawaii",
          "Illinois",
          "Iowa",
          "Kansas",
          "Kentucky",
          "Louisiana",
          "Maine",
          "Maryland",
          "Michigan",
          "Minnesota",
          "Mississippi",
          "Missouri",
          "Montana",
          "Nebraska",
          "Nevada",
          "New Hampshire",
          "New Jersey",
          "New Mexico",
          "New York",
          "North Carolina",
          "North Dakota",
          "Ohio",
          "Oklahoma",
          "Oregon",
          "Pennsylvania",
          "Rhode Island",
          "South Carolina",
          "South Dakota",
          "Tennessee",
          "Texas",
          "Utah",
          "Vermont",
          "Virginia",
          "West Virginia",
          "Wisconsin",
          "Wyoming",
          "Puerto Rico"
         ],
         "name": "Emotional abuse (2018)",
         "text": [
          "Emotional abuse",
          "Emotional abuse",
          "Emotional abuse",
          "Emotional abuse",
          "Emotional abuse",
          "Emotional abuse",
          "Emotional abuse",
          "Emotional abuse",
          "Emotional abuse",
          "Emotional abuse",
          "Emotional abuse",
          "Emotional abuse",
          "Emotional abuse",
          "Emotional abuse",
          "Emotional abuse",
          "Emotional abuse",
          "Emotional abuse",
          "Emotional abuse",
          "Emotional abuse",
          "Emotional abuse",
          "Emotional abuse",
          "Emotional abuse",
          "Emotional abuse",
          "Emotional abuse",
          "Emotional abuse",
          "Emotional abuse",
          "Emotional abuse",
          "Emotional abuse",
          "Emotional abuse",
          "Emotional abuse",
          "Emotional abuse",
          "Emotional abuse",
          "Emotional abuse",
          "Emotional abuse",
          "Emotional abuse",
          "Emotional abuse",
          "Emotional abuse",
          "Emotional abuse",
          "Emotional abuse",
          "Emotional abuse",
          "Emotional abuse",
          "Emotional abuse",
          "Emotional abuse",
          "Emotional abuse",
          "Emotional abuse",
          "Emotional abuse",
          "Emotional abuse"
         ],
         "type": "choropleth",
         "visible": false,
         "z": [
          39015,
          38,
          684,
          9,
          106,
          6435,
          236,
          2383,
          452,
          2135,
          5,
          44,
          94,
          572,
          56,
          21,
          1194,
          20,
          225,
          126,
          1637,
          601,
          20,
          16,
          17,
          26,
          45,
          2249,
          521,
          101,
          810,
          1443,
          4665,
          263,
          60,
          1301,
          147,
          36,
          280,
          346,
          2861,
          6,
          94,
          4231,
          28,
          344,
          2032
         ]
        },
        {
         "colorbar": {
          "title": {
           "text": "Count"
          }
         },
         "colorscale": [
          [
           0,
           "#440154"
          ],
          [
           0.1111111111111111,
           "#482878"
          ],
          [
           0.2222222222222222,
           "#3e4989"
          ],
          [
           0.3333333333333333,
           "#31688e"
          ],
          [
           0.4444444444444444,
           "#26828e"
          ],
          [
           0.5555555555555556,
           "#1f9e89"
          ],
          [
           0.6666666666666666,
           "#35b779"
          ],
          [
           0.7777777777777778,
           "#6ece58"
          ],
          [
           0.8888888888888888,
           "#b5de2b"
          ],
          [
           1,
           "#fde725"
          ]
         ],
         "locationmode": "USA-states",
         "locations": [
          "United States",
          "Alabama",
          "Alaska",
          "Arizona",
          "Arkansas",
          "California",
          "Colorado",
          "Connecticut",
          "Delaware",
          "Florida",
          "Georgia",
          "Hawaii",
          "Illinois",
          "Iowa",
          "Kansas",
          "Kentucky",
          "Louisiana",
          "Maine",
          "Maryland",
          "Michigan",
          "Minnesota",
          "Mississippi",
          "Missouri",
          "Montana",
          "Nebraska",
          "Nevada",
          "New Hampshire",
          "New Jersey",
          "New Mexico",
          "New York",
          "North Carolina",
          "North Dakota",
          "Ohio",
          "Oklahoma",
          "Oregon",
          "Pennsylvania",
          "Rhode Island",
          "South Carolina",
          "South Dakota",
          "Tennessee",
          "Texas",
          "Utah",
          "Vermont",
          "Virginia",
          "West Virginia",
          "Wisconsin",
          "Wyoming",
          "Puerto Rico"
         ],
         "name": "Emotional abuse (2019)",
         "text": [
          "Emotional abuse",
          "Emotional abuse",
          "Emotional abuse",
          "Emotional abuse",
          "Emotional abuse",
          "Emotional abuse",
          "Emotional abuse",
          "Emotional abuse",
          "Emotional abuse",
          "Emotional abuse",
          "Emotional abuse",
          "Emotional abuse",
          "Emotional abuse",
          "Emotional abuse",
          "Emotional abuse",
          "Emotional abuse",
          "Emotional abuse",
          "Emotional abuse",
          "Emotional abuse",
          "Emotional abuse",
          "Emotional abuse",
          "Emotional abuse",
          "Emotional abuse",
          "Emotional abuse",
          "Emotional abuse",
          "Emotional abuse",
          "Emotional abuse",
          "Emotional abuse",
          "Emotional abuse",
          "Emotional abuse",
          "Emotional abuse",
          "Emotional abuse",
          "Emotional abuse",
          "Emotional abuse",
          "Emotional abuse",
          "Emotional abuse",
          "Emotional abuse",
          "Emotional abuse",
          "Emotional abuse",
          "Emotional abuse",
          "Emotional abuse",
          "Emotional abuse",
          "Emotional abuse",
          "Emotional abuse",
          "Emotional abuse",
          "Emotional abuse",
          "Emotional abuse",
          "Emotional abuse"
         ],
         "type": "choropleth",
         "visible": false,
         "z": [
          39726,
          24,
          994,
          8,
          90,
          5846,
          254,
          2560,
          480,
          429,
          1957,
          14,
          52,
          74,
          466,
          36,
          17,
          1475,
          12,
          209,
          133,
          1552,
          583,
          22,
          12,
          4,
          20,
          71,
          2165,
          509,
          109,
          497,
          1615,
          4975,
          266,
          58,
          1118,
          109,
          19,
          387,
          355,
          3241,
          14,
          67,
          4187,
          31,
          349,
          2261
         ]
        },
        {
         "colorbar": {
          "title": {
           "text": "Count"
          }
         },
         "colorscale": [
          [
           0,
           "#440154"
          ],
          [
           0.1111111111111111,
           "#482878"
          ],
          [
           0.2222222222222222,
           "#3e4989"
          ],
          [
           0.3333333333333333,
           "#31688e"
          ],
          [
           0.4444444444444444,
           "#26828e"
          ],
          [
           0.5555555555555556,
           "#1f9e89"
          ],
          [
           0.6666666666666666,
           "#35b779"
          ],
          [
           0.7777777777777778,
           "#6ece58"
          ],
          [
           0.8888888888888888,
           "#b5de2b"
          ],
          [
           1,
           "#fde725"
          ]
         ],
         "locationmode": "USA-states",
         "locations": [
          "United States",
          "Alabama",
          "Alaska",
          "Arizona",
          "Arkansas",
          "California",
          "Colorado",
          "Connecticut",
          "Delaware",
          "Florida",
          "Georgia",
          "Hawaii",
          "Illinois",
          "Iowa",
          "Kansas",
          "Kentucky",
          "Louisiana",
          "Maine",
          "Maryland",
          "Michigan",
          "Minnesota",
          "Mississippi",
          "Missouri",
          "Montana",
          "Nebraska",
          "Nevada",
          "New Hampshire",
          "New Jersey",
          "New Mexico",
          "New York",
          "North Carolina",
          "North Dakota",
          "Ohio",
          "Oklahoma",
          "Oregon",
          "Pennsylvania",
          "Rhode Island",
          "South Carolina",
          "South Dakota",
          "Tennessee",
          "Texas",
          "Utah",
          "Vermont",
          "Virginia",
          "West Virginia",
          "Wisconsin",
          "Wyoming",
          "Puerto Rico"
         ],
         "name": "Emotional abuse (2020)",
         "text": [
          "Emotional abuse",
          "Emotional abuse",
          "Emotional abuse",
          "Emotional abuse",
          "Emotional abuse",
          "Emotional abuse",
          "Emotional abuse",
          "Emotional abuse",
          "Emotional abuse",
          "Emotional abuse",
          "Emotional abuse",
          "Emotional abuse",
          "Emotional abuse",
          "Emotional abuse",
          "Emotional abuse",
          "Emotional abuse",
          "Emotional abuse",
          "Emotional abuse",
          "Emotional abuse",
          "Emotional abuse",
          "Emotional abuse",
          "Emotional abuse",
          "Emotional abuse",
          "Emotional abuse",
          "Emotional abuse",
          "Emotional abuse",
          "Emotional abuse",
          "Emotional abuse",
          "Emotional abuse",
          "Emotional abuse",
          "Emotional abuse",
          "Emotional abuse",
          "Emotional abuse",
          "Emotional abuse",
          "Emotional abuse",
          "Emotional abuse",
          "Emotional abuse",
          "Emotional abuse",
          "Emotional abuse",
          "Emotional abuse",
          "Emotional abuse",
          "Emotional abuse",
          "Emotional abuse",
          "Emotional abuse",
          "Emotional abuse",
          "Emotional abuse",
          "Emotional abuse",
          "Emotional abuse"
         ],
         "type": "choropleth",
         "visible": false,
         "z": [
          39529,
          21,
          1068,
          5,
          175,
          5422,
          216,
          1933,
          454,
          284,
          2232,
          27,
          68,
          93,
          380,
          37,
          20,
          1811,
          16,
          166,
          174,
          1504,
          645,
          24,
          10,
          18,
          45,
          46,
          1950,
          576,
          158,
          460,
          1571,
          4997,
          220,
          44,
          1030,
          1040,
          40,
          460,
          322,
          3534,
          2,
          94,
          3966,
          24,
          342,
          1805
         ]
        },
        {
         "colorbar": {
          "title": {
           "text": "Count"
          }
         },
         "colorscale": [
          [
           0,
           "#440154"
          ],
          [
           0.1111111111111111,
           "#482878"
          ],
          [
           0.2222222222222222,
           "#3e4989"
          ],
          [
           0.3333333333333333,
           "#31688e"
          ],
          [
           0.4444444444444444,
           "#26828e"
          ],
          [
           0.5555555555555556,
           "#1f9e89"
          ],
          [
           0.6666666666666666,
           "#35b779"
          ],
          [
           0.7777777777777778,
           "#6ece58"
          ],
          [
           0.8888888888888888,
           "#b5de2b"
          ],
          [
           1,
           "#fde725"
          ]
         ],
         "locationmode": "USA-states",
         "locations": [
          "United States",
          "Alabama",
          "Alaska",
          "Arkansas",
          "California",
          "Colorado",
          "Connecticut",
          "Delaware",
          "Florida",
          "Georgia",
          "Hawaii",
          "Illinois",
          "Iowa",
          "Kansas",
          "Kentucky",
          "Louisiana",
          "Maine",
          "Maryland",
          "Michigan",
          "Minnesota",
          "Mississippi",
          "Missouri",
          "Montana",
          "Nebraska",
          "Nevada",
          "New Hampshire",
          "New Jersey",
          "New Mexico",
          "New York",
          "North Carolina",
          "North Dakota",
          "Ohio",
          "Oklahoma",
          "Oregon",
          "Pennsylvania",
          "Rhode Island",
          "South Carolina",
          "South Dakota",
          "Tennessee",
          "Texas",
          "Utah",
          "Vermont",
          "Virginia",
          "West Virginia",
          "Wisconsin",
          "Wyoming",
          "Puerto Rico"
         ],
         "name": "Emotional abuse (2021)",
         "text": [
          "Emotional abuse",
          "Emotional abuse",
          "Emotional abuse",
          "Emotional abuse",
          "Emotional abuse",
          "Emotional abuse",
          "Emotional abuse",
          "Emotional abuse",
          "Emotional abuse",
          "Emotional abuse",
          "Emotional abuse",
          "Emotional abuse",
          "Emotional abuse",
          "Emotional abuse",
          "Emotional abuse",
          "Emotional abuse",
          "Emotional abuse",
          "Emotional abuse",
          "Emotional abuse",
          "Emotional abuse",
          "Emotional abuse",
          "Emotional abuse",
          "Emotional abuse",
          "Emotional abuse",
          "Emotional abuse",
          "Emotional abuse",
          "Emotional abuse",
          "Emotional abuse",
          "Emotional abuse",
          "Emotional abuse",
          "Emotional abuse",
          "Emotional abuse",
          "Emotional abuse",
          "Emotional abuse",
          "Emotional abuse",
          "Emotional abuse",
          "Emotional abuse",
          "Emotional abuse",
          "Emotional abuse",
          "Emotional abuse",
          "Emotional abuse",
          "Emotional abuse",
          "Emotional abuse",
          "Emotional abuse",
          "Emotional abuse",
          "Emotional abuse",
          "Emotional abuse"
         ],
         "type": "choropleth",
         "visible": false,
         "z": [
          37242,
          19,
          894,
          142,
          4501,
          224,
          1493,
          375,
          348,
          2292,
          4,
          81,
          107,
          307,
          59,
          6,
          1619,
          4,
          187,
          117,
          1402,
          581,
          34,
          24,
          11,
          40,
          27,
          1751,
          474,
          733,
          288,
          1624,
          4411,
          183,
          55,
          938,
          847,
          57,
          294,
          329,
          3561,
          2,
          65,
          3942,
          44,
          310,
          2436
         ]
        },
        {
         "colorbar": {
          "title": {
           "text": "Count"
          }
         },
         "colorscale": [
          [
           0,
           "#440154"
          ],
          [
           0.1111111111111111,
           "#482878"
          ],
          [
           0.2222222222222222,
           "#3e4989"
          ],
          [
           0.3333333333333333,
           "#31688e"
          ],
          [
           0.4444444444444444,
           "#26828e"
          ],
          [
           0.5555555555555556,
           "#1f9e89"
          ],
          [
           0.6666666666666666,
           "#35b779"
          ],
          [
           0.7777777777777778,
           "#6ece58"
          ],
          [
           0.8888888888888888,
           "#b5de2b"
          ],
          [
           1,
           "#fde725"
          ]
         ],
         "locationmode": "USA-states",
         "locations": [
          "United States",
          "Alabama",
          "Alaska",
          "Arizona",
          "Arkansas",
          "California",
          "Colorado",
          "Connecticut",
          "Delaware",
          "Florida",
          "Georgia",
          "Hawaii",
          "Illinois",
          "Iowa",
          "Kansas",
          "Kentucky",
          "Louisiana",
          "Maine",
          "Maryland",
          "Michigan",
          "Minnesota",
          "Mississippi",
          "Missouri",
          "Montana",
          "Nebraska",
          "Nevada",
          "New Hampshire",
          "New Jersey",
          "New Mexico",
          "New York",
          "North Carolina",
          "North Dakota",
          "Ohio",
          "Oklahoma",
          "Oregon",
          "Pennsylvania",
          "Rhode Island",
          "South Carolina",
          "South Dakota",
          "Tennessee",
          "Texas",
          "Utah",
          "Vermont",
          "Virginia",
          "West Virginia",
          "Wisconsin",
          "Wyoming",
          "Puerto Rico"
         ],
         "name": "Emotional abuse (2022)",
         "text": [
          "Emotional abuse",
          "Emotional abuse",
          "Emotional abuse",
          "Emotional abuse",
          "Emotional abuse",
          "Emotional abuse",
          "Emotional abuse",
          "Emotional abuse",
          "Emotional abuse",
          "Emotional abuse",
          "Emotional abuse",
          "Emotional abuse",
          "Emotional abuse",
          "Emotional abuse",
          "Emotional abuse",
          "Emotional abuse",
          "Emotional abuse",
          "Emotional abuse",
          "Emotional abuse",
          "Emotional abuse",
          "Emotional abuse",
          "Emotional abuse",
          "Emotional abuse",
          "Emotional abuse",
          "Emotional abuse",
          "Emotional abuse",
          "Emotional abuse",
          "Emotional abuse",
          "Emotional abuse",
          "Emotional abuse",
          "Emotional abuse",
          "Emotional abuse",
          "Emotional abuse",
          "Emotional abuse",
          "Emotional abuse",
          "Emotional abuse",
          "Emotional abuse",
          "Emotional abuse",
          "Emotional abuse",
          "Emotional abuse",
          "Emotional abuse",
          "Emotional abuse",
          "Emotional abuse",
          "Emotional abuse",
          "Emotional abuse",
          "Emotional abuse",
          "Emotional abuse",
          "Emotional abuse"
         ],
         "type": "choropleth",
         "visible": false,
         "z": [
          37901,
          14,
          887,
          850,
          184,
          3963,
          211,
          1336,
          301,
          312,
          2047,
          12,
          81,
          115,
          287,
          89,
          19,
          1252,
          12,
          156,
          125,
          1635,
          500,
          12,
          15,
          6,
          64,
          18,
          1388,
          432,
          3726,
          78,
          1437,
          4596,
          181,
          45,
          901,
          775,
          28,
          169,
          308,
          3233,
          2,
          74,
          3495,
          17,
          275,
          2238
         ]
        }
       ],
       "frames": [
        {
         "data": [
          {
           "type": "choropleth",
           "visible": true
          },
          {
           "type": "choropleth",
           "visible": false
          },
          {
           "type": "choropleth",
           "visible": false
          },
          {
           "type": "choropleth",
           "visible": false
          },
          {
           "type": "choropleth",
           "visible": false
          },
          {
           "type": "choropleth",
           "visible": false
          },
          {
           "type": "choropleth",
           "visible": false
          },
          {
           "type": "choropleth",
           "visible": false
          },
          {
           "type": "choropleth",
           "visible": false
          },
          {
           "type": "choropleth",
           "visible": false
          },
          {
           "type": "choropleth",
           "visible": false
          },
          {
           "type": "choropleth",
           "visible": false
          },
          {
           "type": "choropleth",
           "visible": false
          },
          {
           "type": "choropleth",
           "visible": false
          },
          {
           "type": "choropleth",
           "visible": false
          },
          {
           "type": "choropleth",
           "visible": false
          },
          {
           "type": "choropleth",
           "visible": false
          },
          {
           "type": "choropleth",
           "visible": false
          },
          {
           "type": "choropleth",
           "visible": false
          },
          {
           "type": "choropleth",
           "visible": false
          },
          {
           "type": "choropleth",
           "visible": false
          },
          {
           "type": "choropleth",
           "visible": false
          },
          {
           "type": "choropleth",
           "visible": false
          },
          {
           "type": "choropleth",
           "visible": false
          },
          {
           "type": "choropleth",
           "visible": false
          },
          {
           "type": "choropleth",
           "visible": false
          },
          {
           "type": "choropleth",
           "visible": false
          },
          {
           "type": "choropleth",
           "visible": false
          },
          {
           "type": "choropleth",
           "visible": false
          },
          {
           "type": "choropleth",
           "visible": false
          },
          {
           "type": "choropleth",
           "visible": false
          },
          {
           "type": "choropleth",
           "visible": false
          }
         ]
        },
        {
         "data": [
          {
           "type": "choropleth",
           "visible": false
          },
          {
           "type": "choropleth",
           "visible": false
          },
          {
           "type": "choropleth",
           "visible": false
          },
          {
           "type": "choropleth",
           "visible": false
          },
          {
           "type": "choropleth",
           "visible": false
          },
          {
           "type": "choropleth",
           "visible": false
          },
          {
           "type": "choropleth",
           "visible": false
          },
          {
           "type": "choropleth",
           "visible": false
          },
          {
           "type": "choropleth",
           "visible": true
          },
          {
           "type": "choropleth",
           "visible": false
          },
          {
           "type": "choropleth",
           "visible": false
          },
          {
           "type": "choropleth",
           "visible": false
          },
          {
           "type": "choropleth",
           "visible": false
          },
          {
           "type": "choropleth",
           "visible": false
          },
          {
           "type": "choropleth",
           "visible": false
          },
          {
           "type": "choropleth",
           "visible": false
          },
          {
           "type": "choropleth",
           "visible": false
          },
          {
           "type": "choropleth",
           "visible": false
          },
          {
           "type": "choropleth",
           "visible": false
          },
          {
           "type": "choropleth",
           "visible": false
          },
          {
           "type": "choropleth",
           "visible": false
          },
          {
           "type": "choropleth",
           "visible": false
          },
          {
           "type": "choropleth",
           "visible": false
          },
          {
           "type": "choropleth",
           "visible": false
          },
          {
           "type": "choropleth",
           "visible": false
          },
          {
           "type": "choropleth",
           "visible": false
          },
          {
           "type": "choropleth",
           "visible": false
          },
          {
           "type": "choropleth",
           "visible": false
          },
          {
           "type": "choropleth",
           "visible": false
          },
          {
           "type": "choropleth",
           "visible": false
          },
          {
           "type": "choropleth",
           "visible": false
          },
          {
           "type": "choropleth",
           "visible": false
          }
         ]
        },
        {
         "data": [
          {
           "type": "choropleth",
           "visible": false
          },
          {
           "type": "choropleth",
           "visible": false
          },
          {
           "type": "choropleth",
           "visible": false
          },
          {
           "type": "choropleth",
           "visible": false
          },
          {
           "type": "choropleth",
           "visible": false
          },
          {
           "type": "choropleth",
           "visible": false
          },
          {
           "type": "choropleth",
           "visible": false
          },
          {
           "type": "choropleth",
           "visible": false
          },
          {
           "type": "choropleth",
           "visible": false
          },
          {
           "type": "choropleth",
           "visible": false
          },
          {
           "type": "choropleth",
           "visible": false
          },
          {
           "type": "choropleth",
           "visible": false
          },
          {
           "type": "choropleth",
           "visible": false
          },
          {
           "type": "choropleth",
           "visible": false
          },
          {
           "type": "choropleth",
           "visible": false
          },
          {
           "type": "choropleth",
           "visible": false
          },
          {
           "type": "choropleth",
           "visible": true
          },
          {
           "type": "choropleth",
           "visible": false
          },
          {
           "type": "choropleth",
           "visible": false
          },
          {
           "type": "choropleth",
           "visible": false
          },
          {
           "type": "choropleth",
           "visible": false
          },
          {
           "type": "choropleth",
           "visible": false
          },
          {
           "type": "choropleth",
           "visible": false
          },
          {
           "type": "choropleth",
           "visible": false
          },
          {
           "type": "choropleth",
           "visible": false
          },
          {
           "type": "choropleth",
           "visible": false
          },
          {
           "type": "choropleth",
           "visible": false
          },
          {
           "type": "choropleth",
           "visible": false
          },
          {
           "type": "choropleth",
           "visible": false
          },
          {
           "type": "choropleth",
           "visible": false
          },
          {
           "type": "choropleth",
           "visible": false
          },
          {
           "type": "choropleth",
           "visible": false
          }
         ]
        },
        {
         "data": [
          {
           "type": "choropleth",
           "visible": false
          },
          {
           "type": "choropleth",
           "visible": false
          },
          {
           "type": "choropleth",
           "visible": false
          },
          {
           "type": "choropleth",
           "visible": false
          },
          {
           "type": "choropleth",
           "visible": false
          },
          {
           "type": "choropleth",
           "visible": false
          },
          {
           "type": "choropleth",
           "visible": false
          },
          {
           "type": "choropleth",
           "visible": false
          },
          {
           "type": "choropleth",
           "visible": false
          },
          {
           "type": "choropleth",
           "visible": false
          },
          {
           "type": "choropleth",
           "visible": false
          },
          {
           "type": "choropleth",
           "visible": false
          },
          {
           "type": "choropleth",
           "visible": false
          },
          {
           "type": "choropleth",
           "visible": false
          },
          {
           "type": "choropleth",
           "visible": false
          },
          {
           "type": "choropleth",
           "visible": false
          },
          {
           "type": "choropleth",
           "visible": false
          },
          {
           "type": "choropleth",
           "visible": false
          },
          {
           "type": "choropleth",
           "visible": false
          },
          {
           "type": "choropleth",
           "visible": false
          },
          {
           "type": "choropleth",
           "visible": false
          },
          {
           "type": "choropleth",
           "visible": false
          },
          {
           "type": "choropleth",
           "visible": false
          },
          {
           "type": "choropleth",
           "visible": false
          },
          {
           "type": "choropleth",
           "visible": true
          },
          {
           "type": "choropleth",
           "visible": false
          },
          {
           "type": "choropleth",
           "visible": false
          },
          {
           "type": "choropleth",
           "visible": false
          },
          {
           "type": "choropleth",
           "visible": false
          },
          {
           "type": "choropleth",
           "visible": false
          },
          {
           "type": "choropleth",
           "visible": false
          },
          {
           "type": "choropleth",
           "visible": false
          }
         ]
        },
        {
         "data": [
          {
           "type": "choropleth",
           "visible": false
          },
          {
           "type": "choropleth",
           "visible": false
          },
          {
           "type": "choropleth",
           "visible": false
          },
          {
           "type": "choropleth",
           "visible": false
          },
          {
           "type": "choropleth",
           "visible": false
          },
          {
           "type": "choropleth",
           "visible": false
          },
          {
           "type": "choropleth",
           "visible": false
          },
          {
           "type": "choropleth",
           "visible": false
          },
          {
           "type": "choropleth",
           "visible": false
          },
          {
           "type": "choropleth",
           "visible": false
          },
          {
           "type": "choropleth",
           "visible": false
          },
          {
           "type": "choropleth",
           "visible": false
          },
          {
           "type": "choropleth",
           "visible": false
          },
          {
           "type": "choropleth",
           "visible": false
          },
          {
           "type": "choropleth",
           "visible": false
          },
          {
           "type": "choropleth",
           "visible": false
          },
          {
           "type": "choropleth",
           "visible": false
          },
          {
           "type": "choropleth",
           "visible": false
          },
          {
           "type": "choropleth",
           "visible": false
          },
          {
           "type": "choropleth",
           "visible": false
          },
          {
           "type": "choropleth",
           "visible": false
          },
          {
           "type": "choropleth",
           "visible": false
          },
          {
           "type": "choropleth",
           "visible": false
          },
          {
           "type": "choropleth",
           "visible": false
          },
          {
           "type": "choropleth",
           "visible": false
          },
          {
           "type": "choropleth",
           "visible": false
          },
          {
           "type": "choropleth",
           "visible": false
          },
          {
           "type": "choropleth",
           "visible": false
          },
          {
           "type": "choropleth",
           "visible": false
          },
          {
           "type": "choropleth",
           "visible": false
          },
          {
           "type": "choropleth",
           "visible": false
          },
          {
           "type": "choropleth",
           "visible": false
          }
         ]
        },
        {
         "data": [
          {
           "type": "choropleth",
           "visible": false
          },
          {
           "type": "choropleth",
           "visible": false
          },
          {
           "type": "choropleth",
           "visible": false
          },
          {
           "type": "choropleth",
           "visible": false
          },
          {
           "type": "choropleth",
           "visible": false
          },
          {
           "type": "choropleth",
           "visible": false
          },
          {
           "type": "choropleth",
           "visible": false
          },
          {
           "type": "choropleth",
           "visible": false
          },
          {
           "type": "choropleth",
           "visible": false
          },
          {
           "type": "choropleth",
           "visible": false
          },
          {
           "type": "choropleth",
           "visible": false
          },
          {
           "type": "choropleth",
           "visible": false
          },
          {
           "type": "choropleth",
           "visible": false
          },
          {
           "type": "choropleth",
           "visible": false
          },
          {
           "type": "choropleth",
           "visible": false
          },
          {
           "type": "choropleth",
           "visible": false
          },
          {
           "type": "choropleth",
           "visible": false
          },
          {
           "type": "choropleth",
           "visible": false
          },
          {
           "type": "choropleth",
           "visible": false
          },
          {
           "type": "choropleth",
           "visible": false
          },
          {
           "type": "choropleth",
           "visible": false
          },
          {
           "type": "choropleth",
           "visible": false
          },
          {
           "type": "choropleth",
           "visible": false
          },
          {
           "type": "choropleth",
           "visible": false
          },
          {
           "type": "choropleth",
           "visible": false
          },
          {
           "type": "choropleth",
           "visible": false
          },
          {
           "type": "choropleth",
           "visible": false
          },
          {
           "type": "choropleth",
           "visible": false
          },
          {
           "type": "choropleth",
           "visible": false
          },
          {
           "type": "choropleth",
           "visible": false
          },
          {
           "type": "choropleth",
           "visible": false
          },
          {
           "type": "choropleth",
           "visible": false
          }
         ]
        },
        {
         "data": [
          {
           "type": "choropleth",
           "visible": false
          },
          {
           "type": "choropleth",
           "visible": false
          },
          {
           "type": "choropleth",
           "visible": false
          },
          {
           "type": "choropleth",
           "visible": false
          },
          {
           "type": "choropleth",
           "visible": false
          },
          {
           "type": "choropleth",
           "visible": false
          },
          {
           "type": "choropleth",
           "visible": false
          },
          {
           "type": "choropleth",
           "visible": false
          },
          {
           "type": "choropleth",
           "visible": false
          },
          {
           "type": "choropleth",
           "visible": false
          },
          {
           "type": "choropleth",
           "visible": false
          },
          {
           "type": "choropleth",
           "visible": false
          },
          {
           "type": "choropleth",
           "visible": false
          },
          {
           "type": "choropleth",
           "visible": false
          },
          {
           "type": "choropleth",
           "visible": false
          },
          {
           "type": "choropleth",
           "visible": false
          },
          {
           "type": "choropleth",
           "visible": false
          },
          {
           "type": "choropleth",
           "visible": false
          },
          {
           "type": "choropleth",
           "visible": false
          },
          {
           "type": "choropleth",
           "visible": false
          },
          {
           "type": "choropleth",
           "visible": false
          },
          {
           "type": "choropleth",
           "visible": false
          },
          {
           "type": "choropleth",
           "visible": false
          },
          {
           "type": "choropleth",
           "visible": false
          },
          {
           "type": "choropleth",
           "visible": false
          },
          {
           "type": "choropleth",
           "visible": false
          },
          {
           "type": "choropleth",
           "visible": false
          },
          {
           "type": "choropleth",
           "visible": false
          },
          {
           "type": "choropleth",
           "visible": false
          },
          {
           "type": "choropleth",
           "visible": false
          },
          {
           "type": "choropleth",
           "visible": false
          },
          {
           "type": "choropleth",
           "visible": false
          }
         ]
        },
        {
         "data": [
          {
           "type": "choropleth",
           "visible": false
          },
          {
           "type": "choropleth",
           "visible": false
          },
          {
           "type": "choropleth",
           "visible": false
          },
          {
           "type": "choropleth",
           "visible": false
          },
          {
           "type": "choropleth",
           "visible": false
          },
          {
           "type": "choropleth",
           "visible": false
          },
          {
           "type": "choropleth",
           "visible": false
          },
          {
           "type": "choropleth",
           "visible": false
          },
          {
           "type": "choropleth",
           "visible": false
          },
          {
           "type": "choropleth",
           "visible": false
          },
          {
           "type": "choropleth",
           "visible": false
          },
          {
           "type": "choropleth",
           "visible": false
          },
          {
           "type": "choropleth",
           "visible": false
          },
          {
           "type": "choropleth",
           "visible": false
          },
          {
           "type": "choropleth",
           "visible": false
          },
          {
           "type": "choropleth",
           "visible": false
          },
          {
           "type": "choropleth",
           "visible": false
          },
          {
           "type": "choropleth",
           "visible": false
          },
          {
           "type": "choropleth",
           "visible": false
          },
          {
           "type": "choropleth",
           "visible": false
          },
          {
           "type": "choropleth",
           "visible": false
          },
          {
           "type": "choropleth",
           "visible": false
          },
          {
           "type": "choropleth",
           "visible": false
          },
          {
           "type": "choropleth",
           "visible": false
          },
          {
           "type": "choropleth",
           "visible": false
          },
          {
           "type": "choropleth",
           "visible": false
          },
          {
           "type": "choropleth",
           "visible": false
          },
          {
           "type": "choropleth",
           "visible": false
          },
          {
           "type": "choropleth",
           "visible": false
          },
          {
           "type": "choropleth",
           "visible": false
          },
          {
           "type": "choropleth",
           "visible": false
          },
          {
           "type": "choropleth",
           "visible": false
          }
         ]
        }
       ],
       "layout": {
        "autosize": true,
        "geo": {
         "scope": "usa"
        },
        "template": {
         "data": {
          "candlestick": [
           {
            "decreasing": {
             "line": {
              "color": "#000033"
             }
            },
            "increasing": {
             "line": {
              "color": "#000032"
             }
            },
            "type": "candlestick"
           }
          ],
          "contour": [
           {
            "colorscale": [
             [
              0,
              "#000011"
             ],
             [
              0.1111111111111111,
              "#000012"
             ],
             [
              0.2222222222222222,
              "#000013"
             ],
             [
              0.3333333333333333,
              "#000014"
             ],
             [
              0.4444444444444444,
              "#000015"
             ],
             [
              0.5555555555555556,
              "#000016"
             ],
             [
              0.6666666666666666,
              "#000017"
             ],
             [
              0.7777777777777778,
              "#000018"
             ],
             [
              0.8888888888888888,
              "#000019"
             ],
             [
              1,
              "#000020"
             ]
            ],
            "type": "contour"
           }
          ],
          "contourcarpet": [
           {
            "colorscale": [
             [
              0,
              "#000011"
             ],
             [
              0.1111111111111111,
              "#000012"
             ],
             [
              0.2222222222222222,
              "#000013"
             ],
             [
              0.3333333333333333,
              "#000014"
             ],
             [
              0.4444444444444444,
              "#000015"
             ],
             [
              0.5555555555555556,
              "#000016"
             ],
             [
              0.6666666666666666,
              "#000017"
             ],
             [
              0.7777777777777778,
              "#000018"
             ],
             [
              0.8888888888888888,
              "#000019"
             ],
             [
              1,
              "#000020"
             ]
            ],
            "type": "contourcarpet"
           }
          ],
          "heatmap": [
           {
            "colorscale": [
             [
              0,
              "#000011"
             ],
             [
              0.1111111111111111,
              "#000012"
             ],
             [
              0.2222222222222222,
              "#000013"
             ],
             [
              0.3333333333333333,
              "#000014"
             ],
             [
              0.4444444444444444,
              "#000015"
             ],
             [
              0.5555555555555556,
              "#000016"
             ],
             [
              0.6666666666666666,
              "#000017"
             ],
             [
              0.7777777777777778,
              "#000018"
             ],
             [
              0.8888888888888888,
              "#000019"
             ],
             [
              1,
              "#000020"
             ]
            ],
            "type": "heatmap"
           }
          ],
          "histogram2d": [
           {
            "colorscale": [
             [
              0,
              "#000011"
             ],
             [
              0.1111111111111111,
              "#000012"
             ],
             [
              0.2222222222222222,
              "#000013"
             ],
             [
              0.3333333333333333,
              "#000014"
             ],
             [
              0.4444444444444444,
              "#000015"
             ],
             [
              0.5555555555555556,
              "#000016"
             ],
             [
              0.6666666666666666,
              "#000017"
             ],
             [
              0.7777777777777778,
              "#000018"
             ],
             [
              0.8888888888888888,
              "#000019"
             ],
             [
              1,
              "#000020"
             ]
            ],
            "type": "histogram2d"
           }
          ],
          "icicle": [
           {
            "textfont": {
             "color": "white"
            },
            "type": "icicle"
           }
          ],
          "sankey": [
           {
            "textfont": {
             "color": "#000036"
            },
            "type": "sankey"
           }
          ],
          "scatter": [
           {
            "marker": {
             "line": {
              "width": 0
             }
            },
            "type": "scatter"
           }
          ],
          "table": [
           {
            "cells": {
             "fill": {
              "color": "#000038"
             },
             "font": {
              "color": "#000037"
             },
             "line": {
              "color": "#000039"
             }
            },
            "header": {
             "fill": {
              "color": "#000040"
             },
             "font": {
              "color": "#000036"
             },
             "line": {
              "color": "#000039"
             }
            },
            "type": "table"
           }
          ],
          "waterfall": [
           {
            "connector": {
             "line": {
              "color": "#000036",
              "width": 2
             }
            },
            "decreasing": {
             "marker": {
              "color": "#000033"
             }
            },
            "increasing": {
             "marker": {
              "color": "#000032"
             }
            },
            "totals": {
             "marker": {
              "color": "#000034"
             }
            },
            "type": "waterfall"
           }
          ]
         },
         "layout": {
          "coloraxis": {
           "colorscale": [
            [
             0,
             "#000011"
            ],
            [
             0.1111111111111111,
             "#000012"
            ],
            [
             0.2222222222222222,
             "#000013"
            ],
            [
             0.3333333333333333,
             "#000014"
            ],
            [
             0.4444444444444444,
             "#000015"
            ],
            [
             0.5555555555555556,
             "#000016"
            ],
            [
             0.6666666666666666,
             "#000017"
            ],
            [
             0.7777777777777778,
             "#000018"
            ],
            [
             0.8888888888888888,
             "#000019"
            ],
            [
             1,
             "#000020"
            ]
           ]
          },
          "colorscale": {
           "diverging": [
            [
             0,
             "#000021"
            ],
            [
             0.1,
             "#000022"
            ],
            [
             0.2,
             "#000023"
            ],
            [
             0.3,
             "#000024"
            ],
            [
             0.4,
             "#000025"
            ],
            [
             0.5,
             "#000026"
            ],
            [
             0.6,
             "#000027"
            ],
            [
             0.7,
             "#000028"
            ],
            [
             0.8,
             "#000029"
            ],
            [
             0.9,
             "#000030"
            ],
            [
             1,
             "#000031"
            ]
           ],
           "sequential": [
            [
             0,
             "#000011"
            ],
            [
             0.1111111111111111,
             "#000012"
            ],
            [
             0.2222222222222222,
             "#000013"
            ],
            [
             0.3333333333333333,
             "#000014"
            ],
            [
             0.4444444444444444,
             "#000015"
            ],
            [
             0.5555555555555556,
             "#000016"
            ],
            [
             0.6666666666666666,
             "#000017"
            ],
            [
             0.7777777777777778,
             "#000018"
            ],
            [
             0.8888888888888888,
             "#000019"
            ],
            [
             1,
             "#000020"
            ]
           ],
           "sequentialminus": [
            [
             0,
             "#000011"
            ],
            [
             0.1111111111111111,
             "#000012"
            ],
            [
             0.2222222222222222,
             "#000013"
            ],
            [
             0.3333333333333333,
             "#000014"
            ],
            [
             0.4444444444444444,
             "#000015"
            ],
            [
             0.5555555555555556,
             "#000016"
            ],
            [
             0.6666666666666666,
             "#000017"
            ],
            [
             0.7777777777777778,
             "#000018"
            ],
            [
             0.8888888888888888,
             "#000019"
            ],
            [
             1,
             "#000020"
            ]
           ]
          },
          "colorway": [
           "#000001",
           "#000002",
           "#000003",
           "#000004",
           "#000005",
           "#000006",
           "#000007",
           "#000008",
           "#000009",
           "#000010"
          ]
         }
        },
        "title": {
         "text": "US Map of Child Maltreatment by Category (2015-2022)"
        },
        "updatemenus": [
         {
          "active": 0,
          "buttons": [
           {
            "args": [
             null,
             {
              "frame": {
               "duration": 500,
               "redraw": true
              },
              "fromcurrent": true
             }
            ],
            "label": "Play",
            "method": "animate"
           },
           {
            "args": [
             [
              null
             ],
             {
              "frame": {
               "duration": 0,
               "redraw": true
              },
              "mode": "immediate",
              "transition": {
               "duration": 0
              }
             }
            ],
            "label": "Pause",
            "method": "animate"
           }
          ],
          "direction": "left",
          "pad": {
           "r": 10,
           "t": 87
          },
          "showactive": false,
          "type": "buttons",
          "x": 0.1,
          "xanchor": "right",
          "y": 0,
          "yanchor": "top"
         }
        ]
       }
      },
      "image/png": "[encoded data removed]",
      "text/html": [
       "<div>                            <div id=\"1acc37b0-09cd-4350-b78d-5680e283bffd\" class=\"plotly-graph-div\" style=\"height:525px; width:100%;\"></div>            <script type=\"text/javascript\">                require([\"plotly\"], function(Plotly) {                    window.PLOTLYENV=window.PLOTLYENV || {};                                    if (document.getElementById(\"1acc37b0-09cd-4350-b78d-5680e283bffd\")) {                    Plotly.newPlot(                        \"1acc37b0-09cd-4350-b78d-5680e283bffd\",                        [{\"colorbar\":{\"title\":{\"text\":\"Count\"}},\"colorscale\":[[0.0,\"#440154\"],[0.1111111111111111,\"#482878\"],[0.2222222222222222,\"#3e4989\"],[0.3333333333333333,\"#31688e\"],[0.4444444444444444,\"#26828e\"],[0.5555555555555556,\"#1f9e89\"],[0.6666666666666666,\"#35b779\"],[0.7777777777777778,\"#6ece58\"],[0.8888888888888888,\"#b5de2b\"],[1.0,\"#fde725\"]],\"locationmode\":\"USA-states\",\"locations\":[\"District of Columbia\",\"United States\",\"Alabama\",\"Alaska\",\"Arizona\",\"Arkansas\",\"California\",\"Colorado\",\"Connecticut\",\"Delaware\",\"Florida\",\"Georgia\",\"Hawaii\",\"Idaho\",\"Illinois\",\"Indiana\",\"Iowa\",\"Kansas\",\"Kentucky\",\"Louisiana\",\"Maine\",\"Maryland\",\"Massachusetts\",\"Michigan\",\"Minnesota\",\"Mississippi\",\"Missouri\",\"Montana\",\"Nebraska\",\"Nevada\",\"New Hampshire\",\"New Jersey\",\"New Mexico\",\"New York\",\"North Carolina\",\"North Dakota\",\"Ohio\",\"Oklahoma\",\"Oregon\",\"Pennsylvania\",\"Rhode Island\",\"South Carolina\",\"South Dakota\",\"Tennessee\",\"Texas\",\"Utah\",\"Vermont\",\"Virginia\",\"Washington\",\"West Virginia\",\"Wisconsin\",\"Wyoming\",\"Puerto Rico\"],\"name\":\"Neglect (2015)\",\"text\":[\"Neglect\",\"Neglect\",\"Neglect\",\"Neglect\",\"Neglect\",\"Neglect\",\"Neglect\",\"Neglect\",\"Neglect\",\"Neglect\",\"Neglect\",\"Neglect\",\"Neglect\",\"Neglect\",\"Neglect\",\"Neglect\",\"Neglect\",\"Neglect\",\"Neglect\",\"Neglect\",\"Neglect\",\"Neglect\",\"Neglect\",\"Neglect\",\"Neglect\",\"Neglect\",\"Neglect\",\"Neglect\",\"Neglect\",\"Neglect\",\"Neglect\",\"Neglect\",\"Neglect\",\"Neglect\",\"Neglect\",\"Neglect\",\"Neglect\",\"Neglect\",\"Neglect\",\"Neglect\",\"Neglect\",\"Neglect\",\"Neglect\",\"Neglect\",\"Neglect\",\"Neglect\",\"Neglect\",\"Neglect\",\"Neglect\",\"Neglect\",\"Neglect\",\"Neglect\",\"Neglect\"],\"visible\":false,\"z\":[1136.0,526281.0,3329.0,2442.0,11053.0,6232.0,62145.0,8225.0,6107.0,466.0,24652.0,20828.0,253.0,1248.0,21546.0,23033.0,5842.0,431.0,17821.0,10746.0,2240.0,4020.0,29276.0,28685.0,3528.0,6931.0,3830.0,1749.0,2962.0,3742.0,673.0,7848.0,7418.0,67484.0,4320.0,1329.0,10459.0,11171.0,5866.0,257.0,1838.0,9563.0,940.0,7664.0,53369.0,2478.0,40.0,4072.0,4646.0,2451.0,3071.0,771.0,4055.0],\"type\":\"choropleth\"},{\"colorbar\":{\"title\":{\"text\":\"Count\"}},\"colorscale\":[[0.0,\"#440154\"],[0.1111111111111111,\"#482878\"],[0.2222222222222222,\"#3e4989\"],[0.3333333333333333,\"#31688e\"],[0.4444444444444444,\"#26828e\"],[0.5555555555555556,\"#1f9e89\"],[0.6666666666666666,\"#35b779\"],[0.7777777777777778,\"#6ece58\"],[0.8888888888888888,\"#b5de2b\"],[1.0,\"#fde725\"]],\"locationmode\":\"USA-states\",\"locations\":[\"District of Columbia\",\"United States\",\"Alabama\",\"Alaska\",\"Arizona\",\"Arkansas\",\"California\",\"Colorado\",\"Connecticut\",\"Delaware\",\"Florida\",\"Georgia\",\"Hawaii\",\"Idaho\",\"Illinois\",\"Indiana\",\"Iowa\",\"Kansas\",\"Kentucky\",\"Louisiana\",\"Maine\",\"Maryland\",\"Massachusetts\",\"Michigan\",\"Minnesota\",\"Mississippi\",\"Missouri\",\"Montana\",\"Nebraska\",\"Nevada\",\"New Hampshire\",\"New Jersey\",\"New Mexico\",\"New York\",\"North Carolina\",\"North Dakota\",\"Ohio\",\"Oklahoma\",\"Oregon\",\"Pennsylvania\",\"Rhode Island\",\"South Carolina\",\"South Dakota\",\"Tennessee\",\"Texas\",\"Utah\",\"Vermont\",\"Virginia\",\"Washington\",\"West Virginia\",\"Wisconsin\",\"Wyoming\"],\"name\":\"Neglect (2016)\",\"text\":[\"Neglect\",\"Neglect\",\"Neglect\",\"Neglect\",\"Neglect\",\"Neglect\",\"Neglect\",\"Neglect\",\"Neglect\",\"Neglect\",\"Neglect\",\"Neglect\",\"Neglect\",\"Neglect\",\"Neglect\",\"Neglect\",\"Neglect\",\"Neglect\",\"Neglect\",\"Neglect\",\"Neglect\",\"Neglect\",\"Neglect\",\"Neglect\",\"Neglect\",\"Neglect\",\"Neglect\",\"Neglect\",\"Neglect\",\"Neglect\",\"Neglect\",\"Neglect\",\"Neglect\",\"Neglect\",\"Neglect\",\"Neglect\",\"Neglect\",\"Neglect\",\"Neglect\",\"Neglect\",\"Neglect\",\"Neglect\",\"Neglect\",\"Neglect\",\"Neglect\",\"Neglect\",\"Neglect\",\"Neglect\",\"Neglect\",\"Neglect\",\"Neglect\",\"Neglect\"],\"visible\":false,\"z\":[1160.0,513980.0,4152.0,2455.0,10002.0,6704.0,59201.0,9166.0,6815.0,475.0,24406.0,16783.0,225.0,1467.0,20749.0,25239.0,7121.0,456.0,19102.0,9648.0,2176.0,4155.0,30382.0,30714.0,5008.0,8151.0,3602.0,2990.0,2385.0,3998.0,801.0,6711.0,6361.0,65759.0,3800.0,1391.0,10854.0,11456.0,6391.0,437.0,1650.0,10560.0,1106.0,2595.0,48119.0,2760.0,23.0,3855.0,3674.0,2859.0,3202.0,729.0],\"type\":\"choropleth\"},{\"colorbar\":{\"title\":{\"text\":\"Count\"}},\"colorscale\":[[0.0,\"#440154\"],[0.1111111111111111,\"#482878\"],[0.2222222222222222,\"#3e4989\"],[0.3333333333333333,\"#31688e\"],[0.4444444444444444,\"#26828e\"],[0.5555555555555556,\"#1f9e89\"],[0.6666666666666666,\"#35b779\"],[0.7777777777777778,\"#6ece58\"],[0.8888888888888888,\"#b5de2b\"],[1.0,\"#fde725\"]],\"locationmode\":\"USA-states\",\"locations\":[\"District of Columbia\",\"United States\",\"Alabama\",\"Alaska\",\"Arizona\",\"Arkansas\",\"California\",\"Colorado\",\"Connecticut\",\"Delaware\",\"Florida\",\"Georgia\",\"Hawaii\",\"Idaho\",\"Illinois\",\"Indiana\",\"Iowa\",\"Kansas\",\"Kentucky\",\"Louisiana\",\"Maine\",\"Maryland\",\"Massachusetts\",\"Michigan\",\"Minnesota\",\"Mississippi\",\"Missouri\",\"Montana\",\"Nebraska\",\"Nevada\",\"New Hampshire\",\"New Jersey\",\"New Mexico\",\"New York\",\"North Carolina\",\"North Dakota\",\"Ohio\",\"Oklahoma\",\"Oregon\",\"Pennsylvania\",\"Rhode Island\",\"South Carolina\",\"South Dakota\",\"Tennessee\",\"Texas\",\"Utah\",\"Vermont\",\"Virginia\",\"Washington\",\"West Virginia\",\"Wisconsin\",\"Wyoming\",\"Puerto Rico\"],\"name\":\"Neglect (2017)\",\"text\":[\"Neglect\",\"Neglect\",\"Neglect\",\"Neglect\",\"Neglect\",\"Neglect\",\"Neglect\",\"Neglect\",\"Neglect\",\"Neglect\",\"Neglect\",\"Neglect\",\"Neglect\",\"Neglect\",\"Neglect\",\"Neglect\",\"Neglect\",\"Neglect\",\"Neglect\",\"Neglect\",\"Neglect\",\"Neglect\",\"Neglect\",\"Neglect\",\"Neglect\",\"Neglect\",\"Neglect\",\"Neglect\",\"Neglect\",\"Neglect\",\"Neglect\",\"Neglect\",\"Neglect\",\"Neglect\",\"Neglect\",\"Neglect\",\"Neglect\",\"Neglect\",\"Neglect\",\"Neglect\",\"Neglect\",\"Neglect\",\"Neglect\",\"Neglect\",\"Neglect\",\"Neglect\",\"Neglect\",\"Neglect\",\"Neglect\",\"Neglect\",\"Neglect\",\"Neglect\",\"Neglect\"],\"visible\":false,\"z\":[1399.0,517004.0,4734.0,2138.0,9112.0,6405.0,57091.0,9607.0,7424.0,464.0,24126.0,8291.0,179.0,1433.0,21286.0,25899.0,8699.0,889.0,21731.0,8874.0,2190.0,4568.0,23520.0,30865.0,5656.0,8223.0,2826.0,3426.0,2756.0,4083.0,1037.0,5334.0,7116.0,72019.0,3897.0,1523.0,11631.0,11479.0,6440.0,607.0,1829.0,9870.0,1189.0,2316.0,51569.0,2950.0,32.0,4173.0,3463.0,2904.0,3265.0,719.0,3748.0],\"type\":\"choropleth\"},{\"colorbar\":{\"title\":{\"text\":\"Count\"}},\"colorscale\":[[0.0,\"#440154\"],[0.1111111111111111,\"#482878\"],[0.2222222222222222,\"#3e4989\"],[0.3333333333333333,\"#31688e\"],[0.4444444444444444,\"#26828e\"],[0.5555555555555556,\"#1f9e89\"],[0.6666666666666666,\"#35b779\"],[0.7777777777777778,\"#6ece58\"],[0.8888888888888888,\"#b5de2b\"],[1.0,\"#fde725\"]],\"locationmode\":\"USA-states\",\"locations\":[\"District of Columbia\",\"United States\",\"Alabama\",\"Alaska\",\"Arizona\",\"Arkansas\",\"California\",\"Colorado\",\"Connecticut\",\"Delaware\",\"Florida\",\"Georgia\",\"Hawaii\",\"Idaho\",\"Illinois\",\"Indiana\",\"Iowa\",\"Kansas\",\"Kentucky\",\"Louisiana\",\"Maine\",\"Maryland\",\"Massachusetts\",\"Michigan\",\"Minnesota\",\"Mississippi\",\"Missouri\",\"Montana\",\"Nebraska\",\"Nevada\",\"New Hampshire\",\"New Jersey\",\"New Mexico\",\"New York\",\"North Carolina\",\"North Dakota\",\"Ohio\",\"Oklahoma\",\"Oregon\",\"Pennsylvania\",\"Rhode Island\",\"South Carolina\",\"South Dakota\",\"Tennessee\",\"Texas\",\"Utah\",\"Vermont\",\"Virginia\",\"Washington\",\"West Virginia\",\"Wisconsin\",\"Wyoming\",\"Puerto Rico\"],\"name\":\"Neglect (2018)\",\"text\":[\"Neglect\",\"Neglect\",\"Neglect\",\"Neglect\",\"Neglect\",\"Neglect\",\"Neglect\",\"Neglect\",\"Neglect\",\"Neglect\",\"Neglect\",\"Neglect\",\"Neglect\",\"Neglect\",\"Neglect\",\"Neglect\",\"Neglect\",\"Neglect\",\"Neglect\",\"Neglect\",\"Neglect\",\"Neglect\",\"Neglect\",\"Neglect\",\"Neglect\",\"Neglect\",\"Neglect\",\"Neglect\",\"Neglect\",\"Neglect\",\"Neglect\",\"Neglect\",\"Neglect\",\"Neglect\",\"Neglect\",\"Neglect\",\"Neglect\",\"Neglect\",\"Neglect\",\"Neglect\",\"Neglect\",\"Neglect\",\"Neglect\",\"Neglect\",\"Neglect\",\"Neglect\",\"Neglect\",\"Neglect\",\"Neglect\",\"Neglect\",\"Neglect\",\"Neglect\",\"Neglect\"],\"visible\":false,\"z\":[1435.0,519886.0,5148.0,2080.0,14185.0,5380.0,56016.0,9974.0,6739.0,749.0,22638.0,8133.0,175.0,1533.0,23560.0,22432.0,8649.0,1572.0,23081.0,8104.0,2093.0,4779.0,24206.0,30874.0,5308.0,7799.0,3269.0,3647.0,2122.0,4382.0,1196.0,4672.0,6619.0,69758.0,3302.0,1617.0,11627.0,11812.0,6623.0,604.0,2147.0,11632.0,1305.0,2153.0,53686.0,2972.0,27.0,4125.0,3491.0,3123.0,3363.0,838.0,3132.0],\"type\":\"choropleth\"},{\"colorbar\":{\"title\":{\"text\":\"Count\"}},\"colorscale\":[[0.0,\"#440154\"],[0.1111111111111111,\"#482878\"],[0.2222222222222222,\"#3e4989\"],[0.3333333333333333,\"#31688e\"],[0.4444444444444444,\"#26828e\"],[0.5555555555555556,\"#1f9e89\"],[0.6666666666666666,\"#35b779\"],[0.7777777777777778,\"#6ece58\"],[0.8888888888888888,\"#b5de2b\"],[1.0,\"#fde725\"]],\"locationmode\":\"USA-states\",\"locations\":[\"District of Columbia\",\"United States\",\"Alabama\",\"Alaska\",\"Arizona\",\"Arkansas\",\"California\",\"Colorado\",\"Connecticut\",\"Delaware\",\"Florida\",\"Georgia\",\"Hawaii\",\"Idaho\",\"Illinois\",\"Indiana\",\"Iowa\",\"Kansas\",\"Kentucky\",\"Louisiana\",\"Maine\",\"Maryland\",\"Massachusetts\",\"Michigan\",\"Minnesota\",\"Mississippi\",\"Missouri\",\"Montana\",\"Nebraska\",\"Nevada\",\"New Hampshire\",\"New Jersey\",\"New Mexico\",\"New York\",\"North Carolina\",\"North Dakota\",\"Ohio\",\"Oklahoma\",\"Oregon\",\"Pennsylvania\",\"Rhode Island\",\"South Carolina\",\"South Dakota\",\"Tennessee\",\"Texas\",\"Utah\",\"Vermont\",\"Virginia\",\"Washington\",\"West Virginia\",\"Wisconsin\",\"Wyoming\",\"Puerto Rico\"],\"name\":\"Neglect (2019)\",\"text\":[\"Neglect\",\"Neglect\",\"Neglect\",\"Neglect\",\"Neglect\",\"Neglect\",\"Neglect\",\"Neglect\",\"Neglect\",\"Neglect\",\"Neglect\",\"Neglect\",\"Neglect\",\"Neglect\",\"Neglect\",\"Neglect\",\"Neglect\",\"Neglect\",\"Neglect\",\"Neglect\",\"Neglect\",\"Neglect\",\"Neglect\",\"Neglect\",\"Neglect\",\"Neglect\",\"Neglect\",\"Neglect\",\"Neglect\",\"Neglect\",\"Neglect\",\"Neglect\",\"Neglect\",\"Neglect\",\"Neglect\",\"Neglect\",\"Neglect\",\"Neglect\",\"Neglect\",\"Neglect\",\"Neglect\",\"Neglect\",\"Neglect\",\"Neglect\",\"Neglect\",\"Neglect\",\"Neglect\",\"Neglect\",\"Neglect\",\"Neglect\",\"Neglect\",\"Neglect\",\"Neglect\"],\"visible\":false,\"z\":[1605.0,504072.0,4625.0,2376.0,11736.0,5657.0,57017.0,10219.0,7138.0,376.0,20271.0,7017.0,227.0,1459.0,25572.0,19966.0,8416.0,1421.0,19536.0,7359.0,2740.0,4648.0,23480.0,29519.0,4665.0,7163.0,2635.0,3629.0,2339.0,4265.0,1100.0,3915.0,6799.0,68367.0,2570.0,1422.0,12052.0,11522.0,6902.0,680.0,1922.0,10566.0,1409.0,2579.0,54145.0,2981.0,43.0,4079.0,3282.0,3011.0,3164.0,835.0,3651.0],\"type\":\"choropleth\"},{\"colorbar\":{\"title\":{\"text\":\"Count\"}},\"colorscale\":[[0.0,\"#440154\"],[0.1111111111111111,\"#482878\"],[0.2222222222222222,\"#3e4989\"],[0.3333333333333333,\"#31688e\"],[0.4444444444444444,\"#26828e\"],[0.5555555555555556,\"#1f9e89\"],[0.6666666666666666,\"#35b779\"],[0.7777777777777778,\"#6ece58\"],[0.8888888888888888,\"#b5de2b\"],[1.0,\"#fde725\"]],\"locationmode\":\"USA-states\",\"locations\":[\"District of Columbia\",\"United States\",\"Alabama\",\"Alaska\",\"Arizona\",\"Arkansas\",\"California\",\"Colorado\",\"Connecticut\",\"Delaware\",\"Florida\",\"Georgia\",\"Hawaii\",\"Idaho\",\"Illinois\",\"Indiana\",\"Iowa\",\"Kansas\",\"Kentucky\",\"Louisiana\",\"Maine\",\"Maryland\",\"Massachusetts\",\"Michigan\",\"Minnesota\",\"Mississippi\",\"Missouri\",\"Montana\",\"Nebraska\",\"Nevada\",\"New Hampshire\",\"New Jersey\",\"New Mexico\",\"New York\",\"North Carolina\",\"North Dakota\",\"Ohio\",\"Oklahoma\",\"Oregon\",\"Pennsylvania\",\"Rhode Island\",\"South Carolina\",\"South Dakota\",\"Tennessee\",\"Texas\",\"Utah\",\"Vermont\",\"Virginia\",\"Washington\",\"West Virginia\",\"Wisconsin\",\"Wyoming\",\"Puerto Rico\"],\"name\":\"Neglect (2020)\",\"text\":[\"Neglect\",\"Neglect\",\"Neglect\",\"Neglect\",\"Neglect\",\"Neglect\",\"Neglect\",\"Neglect\",\"Neglect\",\"Neglect\",\"Neglect\",\"Neglect\",\"Neglect\",\"Neglect\",\"Neglect\",\"Neglect\",\"Neglect\",\"Neglect\",\"Neglect\",\"Neglect\",\"Neglect\",\"Neglect\",\"Neglect\",\"Neglect\",\"Neglect\",\"Neglect\",\"Neglect\",\"Neglect\",\"Neglect\",\"Neglect\",\"Neglect\",\"Neglect\",\"Neglect\",\"Neglect\",\"Neglect\",\"Neglect\",\"Neglect\",\"Neglect\",\"Neglect\",\"Neglect\",\"Neglect\",\"Neglect\",\"Neglect\",\"Neglect\",\"Neglect\",\"Neglect\",\"Neglect\",\"Neglect\",\"Neglect\",\"Neglect\",\"Neglect\",\"Neglect\",\"Neglect\"],\"visible\":false,\"z\":[1398.0,480068.0,5048.0,2387.0,9102.0,6570.0,53694.0,9792.0,5544.0,376.0,17695.0,5483.0,289.0,1065.0,27728.0,19557.0,9285.0,1095.0,15898.0,6009.0,2912.0,4220.0,21161.0,23939.0,4604.0,6069.0,2324.0,3639.0,1909.0,4212.0,1038.0,2658.0,5909.0,59722.0,20749.0,1252.0,10580.0,10860.0,5591.0,578.0,1589.0,8474.0,1411.0,2299.0,55634.0,2611.0,15.0,3865.0,3046.0,2829.0,2809.0,763.0,2782.0],\"type\":\"choropleth\"},{\"colorbar\":{\"title\":{\"text\":\"Count\"}},\"colorscale\":[[0.0,\"#440154\"],[0.1111111111111111,\"#482878\"],[0.2222222222222222,\"#3e4989\"],[0.3333333333333333,\"#31688e\"],[0.4444444444444444,\"#26828e\"],[0.5555555555555556,\"#1f9e89\"],[0.6666666666666666,\"#35b779\"],[0.7777777777777778,\"#6ece58\"],[0.8888888888888888,\"#b5de2b\"],[1.0,\"#fde725\"]],\"locationmode\":\"USA-states\",\"locations\":[\"District of Columbia\",\"United States\",\"Alabama\",\"Alaska\",\"Arkansas\",\"California\",\"Colorado\",\"Connecticut\",\"Delaware\",\"Florida\",\"Georgia\",\"Hawaii\",\"Idaho\",\"Illinois\",\"Indiana\",\"Iowa\",\"Kansas\",\"Kentucky\",\"Louisiana\",\"Maine\",\"Maryland\",\"Massachusetts\",\"Michigan\",\"Minnesota\",\"Mississippi\",\"Missouri\",\"Montana\",\"Nebraska\",\"Nevada\",\"New Hampshire\",\"New Jersey\",\"New Mexico\",\"New York\",\"North Carolina\",\"North Dakota\",\"Ohio\",\"Oklahoma\",\"Oregon\",\"Pennsylvania\",\"Rhode Island\",\"South Carolina\",\"South Dakota\",\"Tennessee\",\"Texas\",\"Utah\",\"Vermont\",\"Virginia\",\"Washington\",\"West Virginia\",\"Wisconsin\",\"Wyoming\",\"Puerto Rico\"],\"name\":\"Neglect (2021)\",\"text\":[\"Neglect\",\"Neglect\",\"Neglect\",\"Neglect\",\"Neglect\",\"Neglect\",\"Neglect\",\"Neglect\",\"Neglect\",\"Neglect\",\"Neglect\",\"Neglect\",\"Neglect\",\"Neglect\",\"Neglect\",\"Neglect\",\"Neglect\",\"Neglect\",\"Neglect\",\"Neglect\",\"Neglect\",\"Neglect\",\"Neglect\",\"Neglect\",\"Neglect\",\"Neglect\",\"Neglect\",\"Neglect\",\"Neglect\",\"Neglect\",\"Neglect\",\"Neglect\",\"Neglect\",\"Neglect\",\"Neglect\",\"Neglect\",\"Neglect\",\"Neglect\",\"Neglect\",\"Neglect\",\"Neglect\",\"Neglect\",\"Neglect\",\"Neglect\",\"Neglect\",\"Neglect\",\"Neglect\",\"Neglect\",\"Neglect\",\"Neglect\",\"Neglect\",\"Neglect\"],\"visible\":false,\"z\":[1514.0,455734.0,5090.0,2119.0,6810.0,49069.0,9316.0,4976.0,281.0,17099.0,6419.0,259.0,1718.0,28985.0,18558.0,9898.0,985.0,14010.0,5712.0,2533.0,3491.0,21361.0,21543.0,3836.0,6363.0,2326.0,2956.0,2014.0,4742.0,866.0,2350.0,5040.0,58226.0,19148.0,1062.0,11529.0,10322.0,4551.0,617.0,1592.0,9487.0,1302.0,1854.0,55080.0,2452.0,15.0,3405.0,2656.0,2938.0,2847.0,699.0,3713.0],\"type\":\"choropleth\"},{\"colorbar\":{\"title\":{\"text\":\"Count\"}},\"colorscale\":[[0.0,\"#440154\"],[0.1111111111111111,\"#482878\"],[0.2222222222222222,\"#3e4989\"],[0.3333333333333333,\"#31688e\"],[0.4444444444444444,\"#26828e\"],[0.5555555555555556,\"#1f9e89\"],[0.6666666666666666,\"#35b779\"],[0.7777777777777778,\"#6ece58\"],[0.8888888888888888,\"#b5de2b\"],[1.0,\"#fde725\"]],\"locationmode\":\"USA-states\",\"locations\":[\"District of Columbia\",\"United States\",\"Alabama\",\"Alaska\",\"Arizona\",\"Arkansas\",\"California\",\"Colorado\",\"Connecticut\",\"Delaware\",\"Florida\",\"Georgia\",\"Hawaii\",\"Idaho\",\"Illinois\",\"Indiana\",\"Iowa\",\"Kansas\",\"Kentucky\",\"Louisiana\",\"Maine\",\"Maryland\",\"Massachusetts\",\"Michigan\",\"Minnesota\",\"Mississippi\",\"Missouri\",\"Montana\",\"Nebraska\",\"Nevada\",\"New Hampshire\",\"New Jersey\",\"New Mexico\",\"New York\",\"North Carolina\",\"North Dakota\",\"Ohio\",\"Oklahoma\",\"Oregon\",\"Pennsylvania\",\"Rhode Island\",\"South Carolina\",\"South Dakota\",\"Tennessee\",\"Texas\",\"Utah\",\"Vermont\",\"Virginia\",\"Washington\",\"West Virginia\",\"Wisconsin\",\"Wyoming\",\"Puerto Rico\"],\"name\":\"Neglect (2022)\",\"text\":[\"Neglect\",\"Neglect\",\"Neglect\",\"Neglect\",\"Neglect\",\"Neglect\",\"Neglect\",\"Neglect\",\"Neglect\",\"Neglect\",\"Neglect\",\"Neglect\",\"Neglect\",\"Neglect\",\"Neglect\",\"Neglect\",\"Neglect\",\"Neglect\",\"Neglect\",\"Neglect\",\"Neglect\",\"Neglect\",\"Neglect\",\"Neglect\",\"Neglect\",\"Neglect\",\"Neglect\",\"Neglect\",\"Neglect\",\"Neglect\",\"Neglect\",\"Neglect\",\"Neglect\",\"Neglect\",\"Neglect\",\"Neglect\",\"Neglect\",\"Neglect\",\"Neglect\",\"Neglect\",\"Neglect\",\"Neglect\",\"Neglect\",\"Neglect\",\"Neglect\",\"Neglect\",\"Neglect\",\"Neglect\",\"Neglect\",\"Neglect\",\"Neglect\",\"Neglect\",\"Neglect\"],\"visible\":false,\"z\":[1411.0,423844.0,4843.0,1965.0,11006.0,6034.0,45053.0,8102.0,4421.0,335.0,15221.0,7326.0,241.0,1538.0,25992.0,16448.0,9798.0,918.0,11239.0,6726.0,2446.0,3691.0,20588.0,20446.0,3584.0,6665.0,2160.0,2620.0,1691.0,5055.0,948.0,2161.0,4939.0,51292.0,15982.0,985.0,10346.0,10140.0,4336.0,689.0,1446.0,8505.0,1287.0,1758.0,44234.0,2186.0,46.0,3003.0,2513.0,2750.0,2620.0,662.0,3453.0],\"type\":\"choropleth\"},{\"colorbar\":{\"title\":{\"text\":\"Count\"}},\"colorscale\":[[0.0,\"#440154\"],[0.1111111111111111,\"#482878\"],[0.2222222222222222,\"#3e4989\"],[0.3333333333333333,\"#31688e\"],[0.4444444444444444,\"#26828e\"],[0.5555555555555556,\"#1f9e89\"],[0.6666666666666666,\"#35b779\"],[0.7777777777777778,\"#6ece58\"],[0.8888888888888888,\"#b5de2b\"],[1.0,\"#fde725\"]],\"locationmode\":\"USA-states\",\"locations\":[\"District of Columbia\",\"United States\",\"Alabama\",\"Alaska\",\"Arizona\",\"Arkansas\",\"California\",\"Colorado\",\"Connecticut\",\"Delaware\",\"Florida\",\"Georgia\",\"Hawaii\",\"Idaho\",\"Illinois\",\"Indiana\",\"Iowa\",\"Kansas\",\"Kentucky\",\"Louisiana\",\"Maine\",\"Maryland\",\"Massachusetts\",\"Michigan\",\"Minnesota\",\"Mississippi\",\"Missouri\",\"Montana\",\"Nebraska\",\"Nevada\",\"New Hampshire\",\"New Jersey\",\"New Mexico\",\"New York\",\"North Carolina\",\"North Dakota\",\"Ohio\",\"Oklahoma\",\"Oregon\",\"Pennsylvania\",\"Rhode Island\",\"South Carolina\",\"South Dakota\",\"Tennessee\",\"Texas\",\"Utah\",\"Vermont\",\"Virginia\",\"Washington\",\"West Virginia\",\"Wisconsin\",\"Wyoming\",\"Puerto Rico\"],\"name\":\"Physical abuse (2015)\",\"text\":[\"Physical abuse\",\"Physical abuse\",\"Physical abuse\",\"Physical abuse\",\"Physical abuse\",\"Physical abuse\",\"Physical abuse\",\"Physical abuse\",\"Physical abuse\",\"Physical abuse\",\"Physical abuse\",\"Physical abuse\",\"Physical abuse\",\"Physical abuse\",\"Physical abuse\",\"Physical abuse\",\"Physical abuse\",\"Physical abuse\",\"Physical abuse\",\"Physical abuse\",\"Physical abuse\",\"Physical abuse\",\"Physical abuse\",\"Physical abuse\",\"Physical abuse\",\"Physical abuse\",\"Physical abuse\",\"Physical abuse\",\"Physical abuse\",\"Physical abuse\",\"Physical abuse\",\"Physical abuse\",\"Physical abuse\",\"Physical abuse\",\"Physical abuse\",\"Physical abuse\",\"Physical abuse\",\"Physical abuse\",\"Physical abuse\",\"Physical abuse\",\"Physical abuse\",\"Physical abuse\",\"Physical abuse\",\"Physical abuse\",\"Physical abuse\",\"Physical abuse\",\"Physical abuse\",\"Physical abuse\",\"Physical abuse\",\"Physical abuse\",\"Physical abuse\",\"Physical abuse\",\"Physical abuse\"],\"visible\":false,\"z\":[269.0,116365.0,4392.0,331.0,1071.0,2009.0,6466.0,1149.0,467.0,282.0,4181.0,2889.0,158.0,377.0,6474.0,2209.0,1328.0,453.0,1564.0,1946.0,970.0,1529.0,2991.0,8214.0,1152.0,1360.0,1642.0,105.0,423.0,1650.0,48.0,1462.0,1158.0,6483.0,1777.0,212.0,10132.0,2386.0,1039.0,1456.0,411.0,6700.0,122.0,1409.0,10349.0,3927.0,438.0,1810.0,1182.0,3391.0,839.0,19.0,1564.0],\"type\":\"choropleth\"},{\"colorbar\":{\"title\":{\"text\":\"Count\"}},\"colorscale\":[[0.0,\"#440154\"],[0.1111111111111111,\"#482878\"],[0.2222222222222222,\"#3e4989\"],[0.3333333333333333,\"#31688e\"],[0.4444444444444444,\"#26828e\"],[0.5555555555555556,\"#1f9e89\"],[0.6666666666666666,\"#35b779\"],[0.7777777777777778,\"#6ece58\"],[0.8888888888888888,\"#b5de2b\"],[1.0,\"#fde725\"]],\"locationmode\":\"USA-states\",\"locations\":[\"District of Columbia\",\"United States\",\"Alabama\",\"Alaska\",\"Arizona\",\"Arkansas\",\"California\",\"Colorado\",\"Connecticut\",\"Delaware\",\"Florida\",\"Georgia\",\"Hawaii\",\"Idaho\",\"Illinois\",\"Indiana\",\"Iowa\",\"Kansas\",\"Kentucky\",\"Louisiana\",\"Maine\",\"Maryland\",\"Massachusetts\",\"Michigan\",\"Minnesota\",\"Mississippi\",\"Missouri\",\"Montana\",\"Nebraska\",\"Nevada\",\"New Hampshire\",\"New Jersey\",\"New Mexico\",\"New York\",\"North Carolina\",\"North Dakota\",\"Ohio\",\"Oklahoma\",\"Oregon\",\"Pennsylvania\",\"Rhode Island\",\"South Carolina\",\"South Dakota\",\"Tennessee\",\"Texas\",\"Utah\",\"Vermont\",\"Virginia\",\"Washington\",\"West Virginia\",\"Wisconsin\",\"Wyoming\"],\"name\":\"Physical abuse (2016)\",\"text\":[\"Physical abuse\",\"Physical abuse\",\"Physical abuse\",\"Physical abuse\",\"Physical abuse\",\"Physical abuse\",\"Physical abuse\",\"Physical abuse\",\"Physical abuse\",\"Physical abuse\",\"Physical abuse\",\"Physical abuse\",\"Physical abuse\",\"Physical abuse\",\"Physical abuse\",\"Physical abuse\",\"Physical abuse\",\"Physical abuse\",\"Physical abuse\",\"Physical abuse\",\"Physical abuse\",\"Physical abuse\",\"Physical abuse\",\"Physical abuse\",\"Physical abuse\",\"Physical abuse\",\"Physical abuse\",\"Physical abuse\",\"Physical abuse\",\"Physical abuse\",\"Physical abuse\",\"Physical abuse\",\"Physical abuse\",\"Physical abuse\",\"Physical abuse\",\"Physical abuse\",\"Physical abuse\",\"Physical abuse\",\"Physical abuse\",\"Physical abuse\",\"Physical abuse\",\"Physical abuse\",\"Physical abuse\",\"Physical abuse\",\"Physical abuse\",\"Physical abuse\",\"Physical abuse\",\"Physical abuse\",\"Physical abuse\",\"Physical abuse\",\"Physical abuse\",\"Physical abuse\"],\"visible\":false,\"z\":[261.0,120672.0,5364.0,376.0,884.0,2002.0,5935.0,1272.0,516.0,301.0,3600.0,2191.0,152.0,389.0,6460.0,2041.0,1184.0,524.0,1561.0,1679.0,1063.0,1587.0,2854.0,8707.0,2520.0,1514.0,1645.0,128.0,327.0,1273.0,76.0,1106.0,927.0,6223.0,1787.0,174.0,10670.0,2074.0,1260.0,1796.0,420.0,8802.0,133.0,5719.0,8183.0,4349.0,436.0,1779.0,1024.0,4574.0,821.0,29.0],\"type\":\"choropleth\"},{\"colorbar\":{\"title\":{\"text\":\"Count\"}},\"colorscale\":[[0.0,\"#440154\"],[0.1111111111111111,\"#482878\"],[0.2222222222222222,\"#3e4989\"],[0.3333333333333333,\"#31688e\"],[0.4444444444444444,\"#26828e\"],[0.5555555555555556,\"#1f9e89\"],[0.6666666666666666,\"#35b779\"],[0.7777777777777778,\"#6ece58\"],[0.8888888888888888,\"#b5de2b\"],[1.0,\"#fde725\"]],\"locationmode\":\"USA-states\",\"locations\":[\"District of Columbia\",\"United States\",\"Alabama\",\"Alaska\",\"Arizona\",\"Arkansas\",\"California\",\"Colorado\",\"Connecticut\",\"Delaware\",\"Florida\",\"Georgia\",\"Hawaii\",\"Idaho\",\"Illinois\",\"Indiana\",\"Iowa\",\"Kansas\",\"Kentucky\",\"Louisiana\",\"Maine\",\"Maryland\",\"Massachusetts\",\"Michigan\",\"Minnesota\",\"Mississippi\",\"Missouri\",\"Montana\",\"Nebraska\",\"Nevada\",\"New Hampshire\",\"New Jersey\",\"New Mexico\",\"New York\",\"North Carolina\",\"North Dakota\",\"Ohio\",\"Oklahoma\",\"Oregon\",\"Pennsylvania\",\"Rhode Island\",\"South Carolina\",\"South Dakota\",\"Tennessee\",\"Texas\",\"Utah\",\"Vermont\",\"Virginia\",\"Washington\",\"West Virginia\",\"Wisconsin\",\"Wyoming\",\"Puerto Rico\"],\"name\":\"Physical abuse (2017)\",\"text\":[\"Physical abuse\",\"Physical abuse\",\"Physical abuse\",\"Physical abuse\",\"Physical abuse\",\"Physical abuse\",\"Physical abuse\",\"Physical abuse\",\"Physical abuse\",\"Physical abuse\",\"Physical abuse\",\"Physical abuse\",\"Physical abuse\",\"Physical abuse\",\"Physical abuse\",\"Physical abuse\",\"Physical abuse\",\"Physical abuse\",\"Physical abuse\",\"Physical abuse\",\"Physical abuse\",\"Physical abuse\",\"Physical abuse\",\"Physical abuse\",\"Physical abuse\",\"Physical abuse\",\"Physical abuse\",\"Physical abuse\",\"Physical abuse\",\"Physical abuse\",\"Physical abuse\",\"Physical abuse\",\"Physical abuse\",\"Physical abuse\",\"Physical abuse\",\"Physical abuse\",\"Physical abuse\",\"Physical abuse\",\"Physical abuse\",\"Physical abuse\",\"Physical abuse\",\"Physical abuse\",\"Physical abuse\",\"Physical abuse\",\"Physical abuse\",\"Physical abuse\",\"Physical abuse\",\"Physical abuse\",\"Physical abuse\",\"Physical abuse\",\"Physical abuse\",\"Physical abuse\",\"Physical abuse\"],\"visible\":false,\"z\":[290.0,121701.0,5685.0,393.0,797.0,2020.0,5321.0,1287.0,510.0,291.0,3222.0,1032.0,109.0,399.0,5631.0,1836.0,1274.0,1002.0,1529.0,1561.0,1020.0,1680.0,2211.0,9426.0,2632.0,1544.0,1342.0,138.0,376.0,1050.0,97.0,911.0,1040.0,6868.0,1808.0,156.0,11825.0,2013.0,1161.0,1929.0,451.0,8776.0,150.0,5328.0,8646.0,4468.0,508.0,1821.0,914.0,5052.0,776.0,14.0,1381.0],\"type\":\"choropleth\"},{\"colorbar\":{\"title\":{\"text\":\"Count\"}},\"colorscale\":[[0.0,\"#440154\"],[0.1111111111111111,\"#482878\"],[0.2222222222222222,\"#3e4989\"],[0.3333333333333333,\"#31688e\"],[0.4444444444444444,\"#26828e\"],[0.5555555555555556,\"#1f9e89\"],[0.6666666666666666,\"#35b779\"],[0.7777777777777778,\"#6ece58\"],[0.8888888888888888,\"#b5de2b\"],[1.0,\"#fde725\"]],\"locationmode\":\"USA-states\",\"locations\":[\"District of Columbia\",\"United States\",\"Alabama\",\"Alaska\",\"Arizona\",\"Arkansas\",\"California\",\"Colorado\",\"Connecticut\",\"Delaware\",\"Florida\",\"Georgia\",\"Hawaii\",\"Idaho\",\"Illinois\",\"Indiana\",\"Iowa\",\"Kansas\",\"Kentucky\",\"Louisiana\",\"Maine\",\"Maryland\",\"Massachusetts\",\"Michigan\",\"Minnesota\",\"Mississippi\",\"Missouri\",\"Montana\",\"Nebraska\",\"Nevada\",\"New Hampshire\",\"New Jersey\",\"New Mexico\",\"New York\",\"North Carolina\",\"North Dakota\",\"Ohio\",\"Oklahoma\",\"Oregon\",\"Pennsylvania\",\"Rhode Island\",\"South Carolina\",\"South Dakota\",\"Tennessee\",\"Texas\",\"Utah\",\"Vermont\",\"Virginia\",\"Washington\",\"West Virginia\",\"Wisconsin\",\"Wyoming\",\"Puerto Rico\"],\"name\":\"Physical abuse (2018)\",\"text\":[\"Physical abuse\",\"Physical abuse\",\"Physical abuse\",\"Physical abuse\",\"Physical abuse\",\"Physical abuse\",\"Physical abuse\",\"Physical abuse\",\"Physical abuse\",\"Physical abuse\",\"Physical abuse\",\"Physical abuse\",\"Physical abuse\",\"Physical abuse\",\"Physical abuse\",\"Physical abuse\",\"Physical abuse\",\"Physical abuse\",\"Physical abuse\",\"Physical abuse\",\"Physical abuse\",\"Physical abuse\",\"Physical abuse\",\"Physical abuse\",\"Physical abuse\",\"Physical abuse\",\"Physical abuse\",\"Physical abuse\",\"Physical abuse\",\"Physical abuse\",\"Physical abuse\",\"Physical abuse\",\"Physical abuse\",\"Physical abuse\",\"Physical abuse\",\"Physical abuse\",\"Physical abuse\",\"Physical abuse\",\"Physical abuse\",\"Physical abuse\",\"Physical abuse\",\"Physical abuse\",\"Physical abuse\",\"Physical abuse\",\"Physical abuse\",\"Physical abuse\",\"Physical abuse\",\"Physical abuse\",\"Physical abuse\",\"Physical abuse\",\"Physical abuse\",\"Physical abuse\",\"Physical abuse\"],\"visible\":false,\"z\":[292.0,120739.0,6324.0,427.0,1237.0,2473.0,4883.0,1227.0,408.0,258.0,3041.0,1222.0,101.0,370.0,5859.0,1729.0,1289.0,750.0,1448.0,1355.0,1051.0,1507.0,2191.0,8923.0,1541.0,1531.0,1630.0,130.0,338.0,985.0,111.0,779.0,979.0,6458.0,1751.0,193.0,11484.0,1866.0,1450.0,1993.0,521.0,9772.0,115.0,5553.0,8084.0,4550.0,556.0,1743.0,923.0,5453.0,772.0,14.0,1099.0],\"type\":\"choropleth\"},{\"colorbar\":{\"title\":{\"text\":\"Count\"}},\"colorscale\":[[0.0,\"#440154\"],[0.1111111111111111,\"#482878\"],[0.2222222222222222,\"#3e4989\"],[0.3333333333333333,\"#31688e\"],[0.4444444444444444,\"#26828e\"],[0.5555555555555556,\"#1f9e89\"],[0.6666666666666666,\"#35b779\"],[0.7777777777777778,\"#6ece58\"],[0.8888888888888888,\"#b5de2b\"],[1.0,\"#fde725\"]],\"locationmode\":\"USA-states\",\"locations\":[\"District of Columbia\",\"United States\",\"Alabama\",\"Alaska\",\"Arizona\",\"Arkansas\",\"California\",\"Colorado\",\"Connecticut\",\"Delaware\",\"Florida\",\"Georgia\",\"Hawaii\",\"Idaho\",\"Illinois\",\"Indiana\",\"Iowa\",\"Kansas\",\"Kentucky\",\"Louisiana\",\"Maine\",\"Maryland\",\"Massachusetts\",\"Michigan\",\"Minnesota\",\"Mississippi\",\"Missouri\",\"Montana\",\"Nebraska\",\"Nevada\",\"New Hampshire\",\"New Jersey\",\"New Mexico\",\"New York\",\"North Carolina\",\"North Dakota\",\"Ohio\",\"Oklahoma\",\"Oregon\",\"Pennsylvania\",\"Rhode Island\",\"South Carolina\",\"South Dakota\",\"Tennessee\",\"Texas\",\"Utah\",\"Vermont\",\"Virginia\",\"Washington\",\"West Virginia\",\"Wisconsin\",\"Wyoming\",\"Puerto Rico\"],\"name\":\"Physical abuse (2019)\",\"text\":[\"Physical abuse\",\"Physical abuse\",\"Physical abuse\",\"Physical abuse\",\"Physical abuse\",\"Physical abuse\",\"Physical abuse\",\"Physical abuse\",\"Physical abuse\",\"Physical abuse\",\"Physical abuse\",\"Physical abuse\",\"Physical abuse\",\"Physical abuse\",\"Physical abuse\",\"Physical abuse\",\"Physical abuse\",\"Physical abuse\",\"Physical abuse\",\"Physical abuse\",\"Physical abuse\",\"Physical abuse\",\"Physical abuse\",\"Physical abuse\",\"Physical abuse\",\"Physical abuse\",\"Physical abuse\",\"Physical abuse\",\"Physical abuse\",\"Physical abuse\",\"Physical abuse\",\"Physical abuse\",\"Physical abuse\",\"Physical abuse\",\"Physical abuse\",\"Physical abuse\",\"Physical abuse\",\"Physical abuse\",\"Physical abuse\",\"Physical abuse\",\"Physical abuse\",\"Physical abuse\",\"Physical abuse\",\"Physical abuse\",\"Physical abuse\",\"Physical abuse\",\"Physical abuse\",\"Physical abuse\",\"Physical abuse\",\"Physical abuse\",\"Physical abuse\",\"Physical abuse\",\"Physical abuse\"],\"visible\":false,\"z\":[275.0,113653.0,6249.0,487.0,1005.0,2011.0,4582.0,1213.0,433.0,215.0,2763.0,1175.0,139.0,376.0,6019.0,1547.0,1183.0,715.0,1341.0,1041.0,1305.0,1554.0,1990.0,5065.0,986.0,1479.0,1396.0,168.0,357.0,951.0,106.0,657.0,959.0,6106.0,1610.0,127.0,11462.0,1883.0,1651.0,2093.0,426.0,9994.0,141.0,5869.0,7685.0,4555.0,490.0,1719.0,928.0,5316.0,713.0,21.0,1122.0],\"type\":\"choropleth\"},{\"colorbar\":{\"title\":{\"text\":\"Count\"}},\"colorscale\":[[0.0,\"#440154\"],[0.1111111111111111,\"#482878\"],[0.2222222222222222,\"#3e4989\"],[0.3333333333333333,\"#31688e\"],[0.4444444444444444,\"#26828e\"],[0.5555555555555556,\"#1f9e89\"],[0.6666666666666666,\"#35b779\"],[0.7777777777777778,\"#6ece58\"],[0.8888888888888888,\"#b5de2b\"],[1.0,\"#fde725\"]],\"locationmode\":\"USA-states\",\"locations\":[\"District of Columbia\",\"United States\",\"Alabama\",\"Alaska\",\"Arizona\",\"Arkansas\",\"California\",\"Colorado\",\"Connecticut\",\"Delaware\",\"Florida\",\"Georgia\",\"Hawaii\",\"Idaho\",\"Illinois\",\"Indiana\",\"Iowa\",\"Kansas\",\"Kentucky\",\"Louisiana\",\"Maine\",\"Maryland\",\"Massachusetts\",\"Michigan\",\"Minnesota\",\"Mississippi\",\"Missouri\",\"Montana\",\"Nebraska\",\"Nevada\",\"New Hampshire\",\"New Jersey\",\"New Mexico\",\"New York\",\"North Carolina\",\"North Dakota\",\"Ohio\",\"Oklahoma\",\"Oregon\",\"Pennsylvania\",\"Rhode Island\",\"South Carolina\",\"South Dakota\",\"Tennessee\",\"Texas\",\"Utah\",\"Vermont\",\"Virginia\",\"Washington\",\"West Virginia\",\"Wisconsin\",\"Wyoming\",\"Puerto Rico\"],\"name\":\"Physical abuse (2020)\",\"text\":[\"Physical abuse\",\"Physical abuse\",\"Physical abuse\",\"Physical abuse\",\"Physical abuse\",\"Physical abuse\",\"Physical abuse\",\"Physical abuse\",\"Physical abuse\",\"Physical abuse\",\"Physical abuse\",\"Physical abuse\",\"Physical abuse\",\"Physical abuse\",\"Physical abuse\",\"Physical abuse\",\"Physical abuse\",\"Physical abuse\",\"Physical abuse\",\"Physical abuse\",\"Physical abuse\",\"Physical abuse\",\"Physical abuse\",\"Physical abuse\",\"Physical abuse\",\"Physical abuse\",\"Physical abuse\",\"Physical abuse\",\"Physical abuse\",\"Physical abuse\",\"Physical abuse\",\"Physical abuse\",\"Physical abuse\",\"Physical abuse\",\"Physical abuse\",\"Physical abuse\",\"Physical abuse\",\"Physical abuse\",\"Physical abuse\",\"Physical abuse\",\"Physical abuse\",\"Physical abuse\",\"Physical abuse\",\"Physical abuse\",\"Physical abuse\",\"Physical abuse\",\"Physical abuse\",\"Physical abuse\",\"Physical abuse\",\"Physical abuse\",\"Physical abuse\",\"Physical abuse\",\"Physical abuse\"],\"visible\":false,\"z\":[206.0,100928.0,5712.0,683.0,829.0,1789.0,4131.0,1157.0,350.0,199.0,2319.0,1092.0,123.0,844.0,6093.0,1576.0,1096.0,596.0,1224.0,772.0,1331.0,1407.0,1765.0,4009.0,911.0,1271.0,1369.0,183.0,316.0,1027.0,82.0,516.0,940.0,5273.0,1101.0,134.0,11243.0,1931.0,1378.0,1981.0,360.0,6319.0,148.0,5029.0,7292.0,3702.0,394.0,1499.0,859.0,4875.0,625.0,23.0,844.0],\"type\":\"choropleth\"},{\"colorbar\":{\"title\":{\"text\":\"Count\"}},\"colorscale\":[[0.0,\"#440154\"],[0.1111111111111111,\"#482878\"],[0.2222222222222222,\"#3e4989\"],[0.3333333333333333,\"#31688e\"],[0.4444444444444444,\"#26828e\"],[0.5555555555555556,\"#1f9e89\"],[0.6666666666666666,\"#35b779\"],[0.7777777777777778,\"#6ece58\"],[0.8888888888888888,\"#b5de2b\"],[1.0,\"#fde725\"]],\"locationmode\":\"USA-states\",\"locations\":[\"District of Columbia\",\"United States\",\"Alabama\",\"Alaska\",\"Arkansas\",\"California\",\"Colorado\",\"Connecticut\",\"Delaware\",\"Florida\",\"Georgia\",\"Hawaii\",\"Idaho\",\"Illinois\",\"Indiana\",\"Iowa\",\"Kansas\",\"Kentucky\",\"Louisiana\",\"Maine\",\"Maryland\",\"Massachusetts\",\"Michigan\",\"Minnesota\",\"Mississippi\",\"Missouri\",\"Montana\",\"Nebraska\",\"Nevada\",\"New Hampshire\",\"New Jersey\",\"New Mexico\",\"New York\",\"North Carolina\",\"North Dakota\",\"Ohio\",\"Oklahoma\",\"Oregon\",\"Pennsylvania\",\"Rhode Island\",\"South Carolina\",\"South Dakota\",\"Tennessee\",\"Texas\",\"Utah\",\"Vermont\",\"Virginia\",\"Washington\",\"West Virginia\",\"Wisconsin\",\"Wyoming\",\"Puerto Rico\"],\"name\":\"Physical abuse (2021)\",\"text\":[\"Physical abuse\",\"Physical abuse\",\"Physical abuse\",\"Physical abuse\",\"Physical abuse\",\"Physical abuse\",\"Physical abuse\",\"Physical abuse\",\"Physical abuse\",\"Physical abuse\",\"Physical abuse\",\"Physical abuse\",\"Physical abuse\",\"Physical abuse\",\"Physical abuse\",\"Physical abuse\",\"Physical abuse\",\"Physical abuse\",\"Physical abuse\",\"Physical abuse\",\"Physical abuse\",\"Physical abuse\",\"Physical abuse\",\"Physical abuse\",\"Physical abuse\",\"Physical abuse\",\"Physical abuse\",\"Physical abuse\",\"Physical abuse\",\"Physical abuse\",\"Physical abuse\",\"Physical abuse\",\"Physical abuse\",\"Physical abuse\",\"Physical abuse\",\"Physical abuse\",\"Physical abuse\",\"Physical abuse\",\"Physical abuse\",\"Physical abuse\",\"Physical abuse\",\"Physical abuse\",\"Physical abuse\",\"Physical abuse\",\"Physical abuse\",\"Physical abuse\",\"Physical abuse\",\"Physical abuse\",\"Physical abuse\",\"Physical abuse\",\"Physical abuse\",\"Physical abuse\"],\"visible\":false,\"z\":[205.0,93021.0,6062.0,567.0,1720.0,3602.0,1081.0,256.0,210.0,2195.0,1091.0,72.0,431.0,5640.0,1350.0,1200.0,526.0,1080.0,623.0,1024.0,1159.0,1614.0,3645.0,608.0,1233.0,1268.0,152.0,354.0,947.0,101.0,366.0,708.0,4184.0,1038.0,105.0,11089.0,1749.0,1208.0,2042.0,309.0,6653.0,136.0,4383.0,6968.0,3786.0,292.0,1192.0,684.0,4704.0,547.0,18.0,844.0],\"type\":\"choropleth\"},{\"colorbar\":{\"title\":{\"text\":\"Count\"}},\"colorscale\":[[0.0,\"#440154\"],[0.1111111111111111,\"#482878\"],[0.2222222222222222,\"#3e4989\"],[0.3333333333333333,\"#31688e\"],[0.4444444444444444,\"#26828e\"],[0.5555555555555556,\"#1f9e89\"],[0.6666666666666666,\"#35b779\"],[0.7777777777777778,\"#6ece58\"],[0.8888888888888888,\"#b5de2b\"],[1.0,\"#fde725\"]],\"locationmode\":\"USA-states\",\"locations\":[\"District of Columbia\",\"United States\",\"Alabama\",\"Alaska\",\"Arizona\",\"Arkansas\",\"California\",\"Colorado\",\"Connecticut\",\"Delaware\",\"Florida\",\"Georgia\",\"Hawaii\",\"Idaho\",\"Illinois\",\"Indiana\",\"Iowa\",\"Kansas\",\"Kentucky\",\"Louisiana\",\"Maine\",\"Maryland\",\"Massachusetts\",\"Michigan\",\"Minnesota\",\"Mississippi\",\"Missouri\",\"Montana\",\"Nebraska\",\"Nevada\",\"New Hampshire\",\"New Jersey\",\"New Mexico\",\"New York\",\"North Carolina\",\"North Dakota\",\"Ohio\",\"Oklahoma\",\"Oregon\",\"Pennsylvania\",\"Rhode Island\",\"South Carolina\",\"South Dakota\",\"Tennessee\",\"Texas\",\"Utah\",\"Vermont\",\"Virginia\",\"Washington\",\"West Virginia\",\"Wisconsin\",\"Wyoming\",\"Puerto Rico\"],\"name\":\"Physical abuse (2022)\",\"text\":[\"Physical abuse\",\"Physical abuse\",\"Physical abuse\",\"Physical abuse\",\"Physical abuse\",\"Physical abuse\",\"Physical abuse\",\"Physical abuse\",\"Physical abuse\",\"Physical abuse\",\"Physical abuse\",\"Physical abuse\",\"Physical abuse\",\"Physical abuse\",\"Physical abuse\",\"Physical abuse\",\"Physical abuse\",\"Physical abuse\",\"Physical abuse\",\"Physical abuse\",\"Physical abuse\",\"Physical abuse\",\"Physical abuse\",\"Physical abuse\",\"Physical abuse\",\"Physical abuse\",\"Physical abuse\",\"Physical abuse\",\"Physical abuse\",\"Physical abuse\",\"Physical abuse\",\"Physical abuse\",\"Physical abuse\",\"Physical abuse\",\"Physical abuse\",\"Physical abuse\",\"Physical abuse\",\"Physical abuse\",\"Physical abuse\",\"Physical abuse\",\"Physical abuse\",\"Physical abuse\",\"Physical abuse\",\"Physical abuse\",\"Physical abuse\",\"Physical abuse\",\"Physical abuse\",\"Physical abuse\",\"Physical abuse\",\"Physical abuse\",\"Physical abuse\",\"Physical abuse\",\"Physical abuse\"],\"visible\":false,\"z\":[214.0,94066.0,6143.0,606.0,1294.0,1568.0,3496.0,935.0,303.0,233.0,2166.0,1458.0,99.0,366.0,5231.0,1303.0,1169.0,403.0,1138.0,755.0,927.0,1306.0,1796.0,3758.0,700.0,1420.0,1216.0,166.0,246.0,934.0,102.0,435.0,733.0,4697.0,2428.0,96.0,10389.0,1753.0,1226.0,2266.0,334.0,6873.0,151.0,3527.0,6309.0,3485.0,394.0,1100.0,767.0,4175.0,605.0,15.0,857.0],\"type\":\"choropleth\"},{\"colorbar\":{\"title\":{\"text\":\"Count\"}},\"colorscale\":[[0.0,\"#440154\"],[0.1111111111111111,\"#482878\"],[0.2222222222222222,\"#3e4989\"],[0.3333333333333333,\"#31688e\"],[0.4444444444444444,\"#26828e\"],[0.5555555555555556,\"#1f9e89\"],[0.6666666666666666,\"#35b779\"],[0.7777777777777778,\"#6ece58\"],[0.8888888888888888,\"#b5de2b\"],[1.0,\"#fde725\"]],\"locationmode\":\"USA-states\",\"locations\":[\"District of Columbia\",\"United States\",\"Alabama\",\"Alaska\",\"Arizona\",\"Arkansas\",\"California\",\"Colorado\",\"Connecticut\",\"Delaware\",\"Florida\",\"Georgia\",\"Hawaii\",\"Idaho\",\"Illinois\",\"Indiana\",\"Iowa\",\"Kansas\",\"Kentucky\",\"Louisiana\",\"Maine\",\"Maryland\",\"Massachusetts\",\"Michigan\",\"Minnesota\",\"Mississippi\",\"Missouri\",\"Montana\",\"Nebraska\",\"Nevada\",\"New Hampshire\",\"New Jersey\",\"New Mexico\",\"New York\",\"North Carolina\",\"North Dakota\",\"Ohio\",\"Oklahoma\",\"Oregon\",\"Pennsylvania\",\"Rhode Island\",\"South Carolina\",\"South Dakota\",\"Tennessee\",\"Texas\",\"Utah\",\"Vermont\",\"Virginia\",\"Washington\",\"West Virginia\",\"Wisconsin\",\"Wyoming\",\"Puerto Rico\"],\"name\":\"Sexual abuse (2015)\",\"text\":[\"Sexual abuse\",\"Sexual abuse\",\"Sexual abuse\",\"Sexual abuse\",\"Sexual abuse\",\"Sexual abuse\",\"Sexual abuse\",\"Sexual abuse\",\"Sexual abuse\",\"Sexual abuse\",\"Sexual abuse\",\"Sexual abuse\",\"Sexual abuse\",\"Sexual abuse\",\"Sexual abuse\",\"Sexual abuse\",\"Sexual abuse\",\"Sexual abuse\",\"Sexual abuse\",\"Sexual abuse\",\"Sexual abuse\",\"Sexual abuse\",\"Sexual abuse\",\"Sexual abuse\",\"Sexual abuse\",\"Sexual abuse\",\"Sexual abuse\",\"Sexual abuse\",\"Sexual abuse\",\"Sexual abuse\",\"Sexual abuse\",\"Sexual abuse\",\"Sexual abuse\",\"Sexual abuse\",\"Sexual abuse\",\"Sexual abuse\",\"Sexual abuse\",\"Sexual abuse\",\"Sexual abuse\",\"Sexual abuse\",\"Sexual abuse\",\"Sexual abuse\",\"Sexual abuse\",\"Sexual abuse\",\"Sexual abuse\",\"Sexual abuse\",\"Sexual abuse\",\"Sexual abuse\",\"Sexual abuse\",\"Sexual abuse\",\"Sexual abuse\",\"Sexual abuse\",\"Sexual abuse\"],\"visible\":false,\"z\":[40.0,56940.0,1463.0,155.0,346.0,1873.0,3617.0,1008.0,389.0,108.0,2498.0,926.0,66.0,63.0,4488.0,2664.0,534.0,601.0,901.0,675.0,233.0,1617.0,705.0,1083.0,930.0,865.0,1334.0,71.0,237.0,277.0,80.0,840.0,231.0,1987.0,1594.0,65.0,4660.0,619.0,833.0,1872.0,127.0,767.0,26.0,2608.0,5712.0,2023.0,472.0,633.0,538.0,196.0,1093.0,67.0,130.0],\"type\":\"choropleth\"},{\"colorbar\":{\"title\":{\"text\":\"Count\"}},\"colorscale\":[[0.0,\"#440154\"],[0.1111111111111111,\"#482878\"],[0.2222222222222222,\"#3e4989\"],[0.3333333333333333,\"#31688e\"],[0.4444444444444444,\"#26828e\"],[0.5555555555555556,\"#1f9e89\"],[0.6666666666666666,\"#35b779\"],[0.7777777777777778,\"#6ece58\"],[0.8888888888888888,\"#b5de2b\"],[1.0,\"#fde725\"]],\"locationmode\":\"USA-states\",\"locations\":[\"District of Columbia\",\"United States\",\"Alabama\",\"Alaska\",\"Arizona\",\"Arkansas\",\"California\",\"Colorado\",\"Connecticut\",\"Delaware\",\"Florida\",\"Georgia\",\"Hawaii\",\"Idaho\",\"Illinois\",\"Indiana\",\"Iowa\",\"Kansas\",\"Kentucky\",\"Louisiana\",\"Maine\",\"Maryland\",\"Massachusetts\",\"Michigan\",\"Minnesota\",\"Mississippi\",\"Missouri\",\"Montana\",\"Nebraska\",\"Nevada\",\"New Hampshire\",\"New Jersey\",\"New Mexico\",\"New York\",\"North Carolina\",\"North Dakota\",\"Ohio\",\"Oklahoma\",\"Oregon\",\"Pennsylvania\",\"Rhode Island\",\"South Carolina\",\"South Dakota\",\"Tennessee\",\"Texas\",\"Utah\",\"Vermont\",\"Virginia\",\"Washington\",\"West Virginia\",\"Wisconsin\",\"Wyoming\"],\"name\":\"Sexual abuse (2016)\",\"text\":[\"Sexual abuse\",\"Sexual abuse\",\"Sexual abuse\",\"Sexual abuse\",\"Sexual abuse\",\"Sexual abuse\",\"Sexual abuse\",\"Sexual abuse\",\"Sexual abuse\",\"Sexual abuse\",\"Sexual abuse\",\"Sexual abuse\",\"Sexual abuse\",\"Sexual abuse\",\"Sexual abuse\",\"Sexual abuse\",\"Sexual abuse\",\"Sexual abuse\",\"Sexual abuse\",\"Sexual abuse\",\"Sexual abuse\",\"Sexual abuse\",\"Sexual abuse\",\"Sexual abuse\",\"Sexual abuse\",\"Sexual abuse\",\"Sexual abuse\",\"Sexual abuse\",\"Sexual abuse\",\"Sexual abuse\",\"Sexual abuse\",\"Sexual abuse\",\"Sexual abuse\",\"Sexual abuse\",\"Sexual abuse\",\"Sexual abuse\",\"Sexual abuse\",\"Sexual abuse\",\"Sexual abuse\",\"Sexual abuse\",\"Sexual abuse\",\"Sexual abuse\",\"Sexual abuse\",\"Sexual abuse\",\"Sexual abuse\",\"Sexual abuse\",\"Sexual abuse\",\"Sexual abuse\",\"Sexual abuse\",\"Sexual abuse\",\"Sexual abuse\",\"Sexual abuse\"],\"visible\":false,\"z\":[72.0,57064.0,1552.0,181.0,380.0,1962.0,3615.0,1062.0,364.0,141.0,2610.0,876.0,74.0,69.0,4331.0,2593.0,570.0,645.0,779.0,601.0,276.0,1693.0,763.0,1130.0,1288.0,999.0,1326.0,95.0,176.0,269.0,79.0,820.0,194.0,2084.0,1376.0,52.0,4479.0,641.0,1045.0,2041.0,129.0,761.0,54.0,2594.0,5685.0,1671.0,378.0,683.0,474.0,256.0,999.0,77.0],\"type\":\"choropleth\"},{\"colorbar\":{\"title\":{\"text\":\"Count\"}},\"colorscale\":[[0.0,\"#440154\"],[0.1111111111111111,\"#482878\"],[0.2222222222222222,\"#3e4989\"],[0.3333333333333333,\"#31688e\"],[0.4444444444444444,\"#26828e\"],[0.5555555555555556,\"#1f9e89\"],[0.6666666666666666,\"#35b779\"],[0.7777777777777778,\"#6ece58\"],[0.8888888888888888,\"#b5de2b\"],[1.0,\"#fde725\"]],\"locationmode\":\"USA-states\",\"locations\":[\"District of Columbia\",\"United States\",\"Alabama\",\"Alaska\",\"Arizona\",\"Arkansas\",\"California\",\"Colorado\",\"Connecticut\",\"Delaware\",\"Florida\",\"Georgia\",\"Hawaii\",\"Idaho\",\"Illinois\",\"Indiana\",\"Iowa\",\"Kansas\",\"Kentucky\",\"Louisiana\",\"Maine\",\"Maryland\",\"Massachusetts\",\"Michigan\",\"Minnesota\",\"Mississippi\",\"Missouri\",\"Montana\",\"Nebraska\",\"Nevada\",\"New Hampshire\",\"New Jersey\",\"New Mexico\",\"New York\",\"North Carolina\",\"North Dakota\",\"Ohio\",\"Oklahoma\",\"Oregon\",\"Pennsylvania\",\"Rhode Island\",\"South Carolina\",\"South Dakota\",\"Tennessee\",\"Texas\",\"Utah\",\"Vermont\",\"Virginia\",\"Washington\",\"West Virginia\",\"Wisconsin\",\"Wyoming\",\"Puerto Rico\"],\"name\":\"Sexual abuse (2017)\",\"text\":[\"Sexual abuse\",\"Sexual abuse\",\"Sexual abuse\",\"Sexual abuse\",\"Sexual abuse\",\"Sexual abuse\",\"Sexual abuse\",\"Sexual abuse\",\"Sexual abuse\",\"Sexual abuse\",\"Sexual abuse\",\"Sexual abuse\",\"Sexual abuse\",\"Sexual abuse\",\"Sexual abuse\",\"Sexual abuse\",\"Sexual abuse\",\"Sexual abuse\",\"Sexual abuse\",\"Sexual abuse\",\"Sexual abuse\",\"Sexual abuse\",\"Sexual abuse\",\"Sexual abuse\",\"Sexual abuse\",\"Sexual abuse\",\"Sexual abuse\",\"Sexual abuse\",\"Sexual abuse\",\"Sexual abuse\",\"Sexual abuse\",\"Sexual abuse\",\"Sexual abuse\",\"Sexual abuse\",\"Sexual abuse\",\"Sexual abuse\",\"Sexual abuse\",\"Sexual abuse\",\"Sexual abuse\",\"Sexual abuse\",\"Sexual abuse\",\"Sexual abuse\",\"Sexual abuse\",\"Sexual abuse\",\"Sexual abuse\",\"Sexual abuse\",\"Sexual abuse\",\"Sexual abuse\",\"Sexual abuse\",\"Sexual abuse\",\"Sexual abuse\",\"Sexual abuse\",\"Sexual abuse\"],\"visible\":false,\"z\":[63.0,57836.0,1583.0,148.0,319.0,1769.0,3494.0,1065.0,392.0,108.0,2768.0,622.0,60.0,79.0,4137.0,2673.0,785.0,761.0,849.0,543.0,284.0,1770.0,860.0,1408.0,1524.0,1161.0,1245.0,97.0,235.0,250.0,78.0,708.0,220.0,2152.0,1433.0,45.0,4318.0,692.0,869.0,2043.0,101.0,835.0,57.0,2492.0,6094.0,1712.0,364.0,675.0,466.0,228.0,1005.0,61.0,136.0],\"type\":\"choropleth\"},{\"colorbar\":{\"title\":{\"text\":\"Count\"}},\"colorscale\":[[0.0,\"#440154\"],[0.1111111111111111,\"#482878\"],[0.2222222222222222,\"#3e4989\"],[0.3333333333333333,\"#31688e\"],[0.4444444444444444,\"#26828e\"],[0.5555555555555556,\"#1f9e89\"],[0.6666666666666666,\"#35b779\"],[0.7777777777777778,\"#6ece58\"],[0.8888888888888888,\"#b5de2b\"],[1.0,\"#fde725\"]],\"locationmode\":\"USA-states\",\"locations\":[\"District of Columbia\",\"United States\",\"Alabama\",\"Alaska\",\"Arizona\",\"Arkansas\",\"California\",\"Colorado\",\"Connecticut\",\"Delaware\",\"Florida\",\"Georgia\",\"Hawaii\",\"Idaho\",\"Illinois\",\"Indiana\",\"Iowa\",\"Kansas\",\"Kentucky\",\"Louisiana\",\"Maine\",\"Maryland\",\"Massachusetts\",\"Michigan\",\"Minnesota\",\"Mississippi\",\"Missouri\",\"Montana\",\"Nebraska\",\"Nevada\",\"New Hampshire\",\"New Jersey\",\"New Mexico\",\"New York\",\"North Carolina\",\"North Dakota\",\"Ohio\",\"Oklahoma\",\"Oregon\",\"Pennsylvania\",\"Rhode Island\",\"South Carolina\",\"South Dakota\",\"Tennessee\",\"Texas\",\"Utah\",\"Vermont\",\"Virginia\",\"Washington\",\"West Virginia\",\"Wisconsin\",\"Wyoming\",\"Puerto Rico\"],\"name\":\"Sexual abuse (2018)\",\"text\":[\"Sexual abuse\",\"Sexual abuse\",\"Sexual abuse\",\"Sexual abuse\",\"Sexual abuse\",\"Sexual abuse\",\"Sexual abuse\",\"Sexual abuse\",\"Sexual abuse\",\"Sexual abuse\",\"Sexual abuse\",\"Sexual abuse\",\"Sexual abuse\",\"Sexual abuse\",\"Sexual abuse\",\"Sexual abuse\",\"Sexual abuse\",\"Sexual abuse\",\"Sexual abuse\",\"Sexual abuse\",\"Sexual abuse\",\"Sexual abuse\",\"Sexual abuse\",\"Sexual abuse\",\"Sexual abuse\",\"Sexual abuse\",\"Sexual abuse\",\"Sexual abuse\",\"Sexual abuse\",\"Sexual abuse\",\"Sexual abuse\",\"Sexual abuse\",\"Sexual abuse\",\"Sexual abuse\",\"Sexual abuse\",\"Sexual abuse\",\"Sexual abuse\",\"Sexual abuse\",\"Sexual abuse\",\"Sexual abuse\",\"Sexual abuse\",\"Sexual abuse\",\"Sexual abuse\",\"Sexual abuse\",\"Sexual abuse\",\"Sexual abuse\",\"Sexual abuse\",\"Sexual abuse\",\"Sexual abuse\",\"Sexual abuse\",\"Sexual abuse\",\"Sexual abuse\",\"Sexual abuse\"],\"visible\":false,\"z\":[61.0,60868.0,1981.0,201.0,617.0,1683.0,3347.0,1009.0,380.0,127.0,2804.0,726.0,74.0,104.0,4698.0,2662.0,723.0,589.0,931.0,472.0,301.0,1888.0,825.0,1406.0,1591.0,1204.0,1786.0,119.0,295.0,335.0,98.0,799.0,292.0,2362.0,1267.0,63.0,4400.0,710.0,944.0,2057.0,171.0,940.0,39.0,2482.0,6494.0,1715.0,393.0,689.0,523.0,222.0,1100.0,67.0,102.0],\"type\":\"choropleth\"},{\"colorbar\":{\"title\":{\"text\":\"Count\"}},\"colorscale\":[[0.0,\"#440154\"],[0.1111111111111111,\"#482878\"],[0.2222222222222222,\"#3e4989\"],[0.3333333333333333,\"#31688e\"],[0.4444444444444444,\"#26828e\"],[0.5555555555555556,\"#1f9e89\"],[0.6666666666666666,\"#35b779\"],[0.7777777777777778,\"#6ece58\"],[0.8888888888888888,\"#b5de2b\"],[1.0,\"#fde725\"]],\"locationmode\":\"USA-states\",\"locations\":[\"District of Columbia\",\"United States\",\"Alabama\",\"Alaska\",\"Arizona\",\"Arkansas\",\"California\",\"Colorado\",\"Connecticut\",\"Delaware\",\"Florida\",\"Georgia\",\"Hawaii\",\"Idaho\",\"Illinois\",\"Indiana\",\"Iowa\",\"Kansas\",\"Kentucky\",\"Louisiana\",\"Maine\",\"Maryland\",\"Massachusetts\",\"Michigan\",\"Minnesota\",\"Mississippi\",\"Missouri\",\"Montana\",\"Nebraska\",\"Nevada\",\"New Hampshire\",\"New Jersey\",\"New Mexico\",\"New York\",\"North Carolina\",\"North Dakota\",\"Ohio\",\"Oklahoma\",\"Oregon\",\"Pennsylvania\",\"Rhode Island\",\"South Carolina\",\"South Dakota\",\"Tennessee\",\"Texas\",\"Utah\",\"Vermont\",\"Virginia\",\"Washington\",\"West Virginia\",\"Wisconsin\",\"Wyoming\",\"Puerto Rico\"],\"name\":\"Sexual abuse (2019)\",\"text\":[\"Sexual abuse\",\"Sexual abuse\",\"Sexual abuse\",\"Sexual abuse\",\"Sexual abuse\",\"Sexual abuse\",\"Sexual abuse\",\"Sexual abuse\",\"Sexual abuse\",\"Sexual abuse\",\"Sexual abuse\",\"Sexual abuse\",\"Sexual abuse\",\"Sexual abuse\",\"Sexual abuse\",\"Sexual abuse\",\"Sexual abuse\",\"Sexual abuse\",\"Sexual abuse\",\"Sexual abuse\",\"Sexual abuse\",\"Sexual abuse\",\"Sexual abuse\",\"Sexual abuse\",\"Sexual abuse\",\"Sexual abuse\",\"Sexual abuse\",\"Sexual abuse\",\"Sexual abuse\",\"Sexual abuse\",\"Sexual abuse\",\"Sexual abuse\",\"Sexual abuse\",\"Sexual abuse\",\"Sexual abuse\",\"Sexual abuse\",\"Sexual abuse\",\"Sexual abuse\",\"Sexual abuse\",\"Sexual abuse\",\"Sexual abuse\",\"Sexual abuse\",\"Sexual abuse\",\"Sexual abuse\",\"Sexual abuse\",\"Sexual abuse\",\"Sexual abuse\",\"Sexual abuse\",\"Sexual abuse\",\"Sexual abuse\",\"Sexual abuse\",\"Sexual abuse\",\"Sexual abuse\"],\"visible\":false,\"z\":[64.0,60623.0,2035.0,279.0,494.0,1603.0,3413.0,1163.0,371.0,132.0,2881.0,846.0,77.0,128.0,4576.0,2455.0,705.0,582.0,784.0,436.0,357.0,1912.0,796.0,1304.0,1578.0,1268.0,1566.0,91.0,252.0,290.0,100.0,769.0,217.0,2259.0,1213.0,67.0,4479.0,706.0,1075.0,2030.0,139.0,943.0,59.0,2426.0,6915.0,1840.0,336.0,738.0,484.0,236.0,967.0,72.0,115.0],\"type\":\"choropleth\"},{\"colorbar\":{\"title\":{\"text\":\"Count\"}},\"colorscale\":[[0.0,\"#440154\"],[0.1111111111111111,\"#482878\"],[0.2222222222222222,\"#3e4989\"],[0.3333333333333333,\"#31688e\"],[0.4444444444444444,\"#26828e\"],[0.5555555555555556,\"#1f9e89\"],[0.6666666666666666,\"#35b779\"],[0.7777777777777778,\"#6ece58\"],[0.8888888888888888,\"#b5de2b\"],[1.0,\"#fde725\"]],\"locationmode\":\"USA-states\",\"locations\":[\"District of Columbia\",\"United States\",\"Alabama\",\"Alaska\",\"Arizona\",\"Arkansas\",\"California\",\"Colorado\",\"Connecticut\",\"Delaware\",\"Florida\",\"Georgia\",\"Hawaii\",\"Idaho\",\"Illinois\",\"Indiana\",\"Iowa\",\"Kansas\",\"Kentucky\",\"Louisiana\",\"Maine\",\"Maryland\",\"Massachusetts\",\"Michigan\",\"Minnesota\",\"Mississippi\",\"Missouri\",\"Montana\",\"Nebraska\",\"Nevada\",\"New Hampshire\",\"New Jersey\",\"New Mexico\",\"New York\",\"North Carolina\",\"North Dakota\",\"Ohio\",\"Oklahoma\",\"Oregon\",\"Pennsylvania\",\"Rhode Island\",\"South Carolina\",\"South Dakota\",\"Tennessee\",\"Texas\",\"Utah\",\"Vermont\",\"Virginia\",\"Washington\",\"West Virginia\",\"Wisconsin\",\"Wyoming\",\"Puerto Rico\"],\"name\":\"Sexual abuse (2020)\",\"text\":[\"Sexual abuse\",\"Sexual abuse\",\"Sexual abuse\",\"Sexual abuse\",\"Sexual abuse\",\"Sexual abuse\",\"Sexual abuse\",\"Sexual abuse\",\"Sexual abuse\",\"Sexual abuse\",\"Sexual abuse\",\"Sexual abuse\",\"Sexual abuse\",\"Sexual abuse\",\"Sexual abuse\",\"Sexual abuse\",\"Sexual abuse\",\"Sexual abuse\",\"Sexual abuse\",\"Sexual abuse\",\"Sexual abuse\",\"Sexual abuse\",\"Sexual abuse\",\"Sexual abuse\",\"Sexual abuse\",\"Sexual abuse\",\"Sexual abuse\",\"Sexual abuse\",\"Sexual abuse\",\"Sexual abuse\",\"Sexual abuse\",\"Sexual abuse\",\"Sexual abuse\",\"Sexual abuse\",\"Sexual abuse\",\"Sexual abuse\",\"Sexual abuse\",\"Sexual abuse\",\"Sexual abuse\",\"Sexual abuse\",\"Sexual abuse\",\"Sexual abuse\",\"Sexual abuse\",\"Sexual abuse\",\"Sexual abuse\",\"Sexual abuse\",\"Sexual abuse\",\"Sexual abuse\",\"Sexual abuse\",\"Sexual abuse\",\"Sexual abuse\",\"Sexual abuse\",\"Sexual abuse\"],\"visible\":false,\"z\":[36.0,57641.0,2164.0,295.0,382.0,1741.0,3256.0,1035.0,372.0,149.0,2315.0,763.0,90.0,160.0,4771.0,2540.0,669.0,488.0,709.0,410.0,381.0,2056.0,732.0,1197.0,1634.0,1086.0,1456.0,106.0,243.0,365.0,119.0,633.0,257.0,2168.0,994.0,50.0,4220.0,791.0,763.0,2001.0,131.0,741.0,84.0,2281.0,6571.0,1650.0,124.0,689.0,464.0,239.0,932.0,46.0,92.0],\"type\":\"choropleth\"},{\"colorbar\":{\"title\":{\"text\":\"Count\"}},\"colorscale\":[[0.0,\"#440154\"],[0.1111111111111111,\"#482878\"],[0.2222222222222222,\"#3e4989\"],[0.3333333333333333,\"#31688e\"],[0.4444444444444444,\"#26828e\"],[0.5555555555555556,\"#1f9e89\"],[0.6666666666666666,\"#35b779\"],[0.7777777777777778,\"#6ece58\"],[0.8888888888888888,\"#b5de2b\"],[1.0,\"#fde725\"]],\"locationmode\":\"USA-states\",\"locations\":[\"District of Columbia\",\"United States\",\"Alabama\",\"Alaska\",\"Arkansas\",\"California\",\"Colorado\",\"Connecticut\",\"Delaware\",\"Florida\",\"Georgia\",\"Hawaii\",\"Idaho\",\"Illinois\",\"Indiana\",\"Iowa\",\"Kansas\",\"Kentucky\",\"Louisiana\",\"Maine\",\"Maryland\",\"Massachusetts\",\"Michigan\",\"Minnesota\",\"Mississippi\",\"Missouri\",\"Montana\",\"Nebraska\",\"Nevada\",\"New Hampshire\",\"New Jersey\",\"New Mexico\",\"New York\",\"North Carolina\",\"North Dakota\",\"Ohio\",\"Oklahoma\",\"Oregon\",\"Pennsylvania\",\"Rhode Island\",\"South Carolina\",\"South Dakota\",\"Tennessee\",\"Texas\",\"Utah\",\"Vermont\",\"Virginia\",\"Washington\",\"West Virginia\",\"Wisconsin\",\"Wyoming\",\"Puerto Rico\"],\"name\":\"Sexual abuse (2021)\",\"text\":[\"Sexual abuse\",\"Sexual abuse\",\"Sexual abuse\",\"Sexual abuse\",\"Sexual abuse\",\"Sexual abuse\",\"Sexual abuse\",\"Sexual abuse\",\"Sexual abuse\",\"Sexual abuse\",\"Sexual abuse\",\"Sexual abuse\",\"Sexual abuse\",\"Sexual abuse\",\"Sexual abuse\",\"Sexual abuse\",\"Sexual abuse\",\"Sexual abuse\",\"Sexual abuse\",\"Sexual abuse\",\"Sexual abuse\",\"Sexual abuse\",\"Sexual abuse\",\"Sexual abuse\",\"Sexual abuse\",\"Sexual abuse\",\"Sexual abuse\",\"Sexual abuse\",\"Sexual abuse\",\"Sexual abuse\",\"Sexual abuse\",\"Sexual abuse\",\"Sexual abuse\",\"Sexual abuse\",\"Sexual abuse\",\"Sexual abuse\",\"Sexual abuse\",\"Sexual abuse\",\"Sexual abuse\",\"Sexual abuse\",\"Sexual abuse\",\"Sexual abuse\",\"Sexual abuse\",\"Sexual abuse\",\"Sexual abuse\",\"Sexual abuse\",\"Sexual abuse\",\"Sexual abuse\",\"Sexual abuse\",\"Sexual abuse\",\"Sexual abuse\",\"Sexual abuse\"],\"visible\":false,\"z\":[35.0,59015.0,2103.0,227.0,1750.0,3821.0,1169.0,385.0,217.0,2558.0,720.0,73.0,230.0,4271.0,2555.0,673.0,484.0,830.0,331.0,303.0,2046.0,793.0,1368.0,1442.0,1220.0,1340.0,88.0,217.0,396.0,80.0,603.0,218.0,2166.0,1081.0,62.0,4338.0,749.0,953.0,2042.0,130.0,792.0,80.0,2355.0,7562.0,1331.0,104.0,727.0,516.0,243.0,1018.0,46.0,174.0],\"type\":\"choropleth\"},{\"colorbar\":{\"title\":{\"text\":\"Count\"}},\"colorscale\":[[0.0,\"#440154\"],[0.1111111111111111,\"#482878\"],[0.2222222222222222,\"#3e4989\"],[0.3333333333333333,\"#31688e\"],[0.4444444444444444,\"#26828e\"],[0.5555555555555556,\"#1f9e89\"],[0.6666666666666666,\"#35b779\"],[0.7777777777777778,\"#6ece58\"],[0.8888888888888888,\"#b5de2b\"],[1.0,\"#fde725\"]],\"locationmode\":\"USA-states\",\"locations\":[\"District of Columbia\",\"United States\",\"Alabama\",\"Alaska\",\"Arizona\",\"Arkansas\",\"California\",\"Colorado\",\"Connecticut\",\"Delaware\",\"Florida\",\"Georgia\",\"Hawaii\",\"Idaho\",\"Illinois\",\"Indiana\",\"Iowa\",\"Kansas\",\"Kentucky\",\"Louisiana\",\"Maine\",\"Maryland\",\"Massachusetts\",\"Michigan\",\"Minnesota\",\"Mississippi\",\"Missouri\",\"Montana\",\"Nebraska\",\"Nevada\",\"New Hampshire\",\"New Jersey\",\"New Mexico\",\"New York\",\"North Carolina\",\"North Dakota\",\"Ohio\",\"Oklahoma\",\"Oregon\",\"Pennsylvania\",\"Rhode Island\",\"South Carolina\",\"South Dakota\",\"Tennessee\",\"Texas\",\"Utah\",\"Vermont\",\"Virginia\",\"Washington\",\"West Virginia\",\"Wisconsin\",\"Wyoming\",\"Puerto Rico\"],\"name\":\"Sexual abuse (2022)\",\"text\":[\"Sexual abuse\",\"Sexual abuse\",\"Sexual abuse\",\"Sexual abuse\",\"Sexual abuse\",\"Sexual abuse\",\"Sexual abuse\",\"Sexual abuse\",\"Sexual abuse\",\"Sexual abuse\",\"Sexual abuse\",\"Sexual abuse\",\"Sexual abuse\",\"Sexual abuse\",\"Sexual abuse\",\"Sexual abuse\",\"Sexual abuse\",\"Sexual abuse\",\"Sexual abuse\",\"Sexual abuse\",\"Sexual abuse\",\"Sexual abuse\",\"Sexual abuse\",\"Sexual abuse\",\"Sexual abuse\",\"Sexual abuse\",\"Sexual abuse\",\"Sexual abuse\",\"Sexual abuse\",\"Sexual abuse\",\"Sexual abuse\",\"Sexual abuse\",\"Sexual abuse\",\"Sexual abuse\",\"Sexual abuse\",\"Sexual abuse\",\"Sexual abuse\",\"Sexual abuse\",\"Sexual abuse\",\"Sexual abuse\",\"Sexual abuse\",\"Sexual abuse\",\"Sexual abuse\",\"Sexual abuse\",\"Sexual abuse\",\"Sexual abuse\",\"Sexual abuse\",\"Sexual abuse\",\"Sexual abuse\",\"Sexual abuse\",\"Sexual abuse\",\"Sexual abuse\",\"Sexual abuse\"],\"visible\":false,\"z\":[38.0,58764.0,2001.0,252.0,581.0,1832.0,3448.0,1061.0,410.0,195.0,2386.0,651.0,82.0,187.0,3815.0,2276.0,648.0,401.0,754.0,406.0,238.0,1971.0,792.0,1282.0,1404.0,1293.0,1246.0,107.0,162.0,458.0,68.0,645.0,206.0,2160.0,1961.0,26.0,4098.0,704.0,1192.0,2082.0,109.0,776.0,80.0,2429.0,7140.0,1684.0,262.0,684.0,476.0,271.0,1052.0,64.0,218.0],\"type\":\"choropleth\"},{\"colorbar\":{\"title\":{\"text\":\"Count\"}},\"colorscale\":[[0.0,\"#440154\"],[0.1111111111111111,\"#482878\"],[0.2222222222222222,\"#3e4989\"],[0.3333333333333333,\"#31688e\"],[0.4444444444444444,\"#26828e\"],[0.5555555555555556,\"#1f9e89\"],[0.6666666666666666,\"#35b779\"],[0.7777777777777778,\"#6ece58\"],[0.8888888888888888,\"#b5de2b\"],[1.0,\"#fde725\"]],\"locationmode\":\"USA-states\",\"locations\":[\"United States\",\"Alabama\",\"Alaska\",\"Arizona\",\"Arkansas\",\"California\",\"Colorado\",\"Connecticut\",\"Delaware\",\"Florida\",\"Georgia\",\"Hawaii\",\"Illinois\",\"Iowa\",\"Kansas\",\"Kentucky\",\"Louisiana\",\"Maine\",\"Maryland\",\"Massachusetts\",\"Michigan\",\"Minnesota\",\"Mississippi\",\"Missouri\",\"Montana\",\"Nebraska\",\"Nevada\",\"New Hampshire\",\"New Jersey\",\"New Mexico\",\"New York\",\"North Carolina\",\"North Dakota\",\"Ohio\",\"Oklahoma\",\"Oregon\",\"Pennsylvania\",\"Rhode Island\",\"South Carolina\",\"South Dakota\",\"Tennessee\",\"Texas\",\"Utah\",\"Vermont\",\"Virginia\",\"West Virginia\",\"Wisconsin\",\"Wyoming\",\"Puerto Rico\"],\"name\":\"Emotional abuse (2015)\",\"text\":[\"Emotional abuse\",\"Emotional abuse\",\"Emotional abuse\",\"Emotional abuse\",\"Emotional abuse\",\"Emotional abuse\",\"Emotional abuse\",\"Emotional abuse\",\"Emotional abuse\",\"Emotional abuse\",\"Emotional abuse\",\"Emotional abuse\",\"Emotional abuse\",\"Emotional abuse\",\"Emotional abuse\",\"Emotional abuse\",\"Emotional abuse\",\"Emotional abuse\",\"Emotional abuse\",\"Emotional abuse\",\"Emotional abuse\",\"Emotional abuse\",\"Emotional abuse\",\"Emotional abuse\",\"Emotional abuse\",\"Emotional abuse\",\"Emotional abuse\",\"Emotional abuse\",\"Emotional abuse\",\"Emotional abuse\",\"Emotional abuse\",\"Emotional abuse\",\"Emotional abuse\",\"Emotional abuse\",\"Emotional abuse\",\"Emotional abuse\",\"Emotional abuse\",\"Emotional abuse\",\"Emotional abuse\",\"Emotional abuse\",\"Emotional abuse\",\"Emotional abuse\",\"Emotional abuse\",\"Emotional abuse\",\"Emotional abuse\",\"Emotional abuse\",\"Emotional abuse\",\"Emotional abuse\",\"Emotional abuse\"],\"visible\":false,\"z\":[41952.0,21.0,718.0,6.0,123.0,9040.0,313.0,2036.0,658.0,622.0,5732.0,12.0,32.0,52.0,276.0,67.0,60.0,1079.0,19.0,35.0,133.0,47.0,1117.0,487.0,48.0,38.0,41.0,5.0,45.0,2000.0,464.0,90.0,554.0,823.0,3867.0,244.0,50.0,1259.0,101.0,22.0,331.0,394.0,2794.0,7.0,69.0,2715.0,37.0,183.0,3086.0],\"type\":\"choropleth\"},{\"colorbar\":{\"title\":{\"text\":\"Count\"}},\"colorscale\":[[0.0,\"#440154\"],[0.1111111111111111,\"#482878\"],[0.2222222222222222,\"#3e4989\"],[0.3333333333333333,\"#31688e\"],[0.4444444444444444,\"#26828e\"],[0.5555555555555556,\"#1f9e89\"],[0.6666666666666666,\"#35b779\"],[0.7777777777777778,\"#6ece58\"],[0.8888888888888888,\"#b5de2b\"],[1.0,\"#fde725\"]],\"locationmode\":\"USA-states\",\"locations\":[\"United States\",\"Alabama\",\"Alaska\",\"Arizona\",\"Arkansas\",\"California\",\"Colorado\",\"Connecticut\",\"Delaware\",\"Florida\",\"Georgia\",\"Hawaii\",\"Illinois\",\"Iowa\",\"Kansas\",\"Kentucky\",\"Louisiana\",\"Maine\",\"Maryland\",\"Massachusetts\",\"Michigan\",\"Minnesota\",\"Mississippi\",\"Missouri\",\"Montana\",\"Nebraska\",\"Nevada\",\"New Hampshire\",\"New Jersey\",\"New Mexico\",\"New York\",\"North Carolina\",\"North Dakota\",\"Ohio\",\"Oklahoma\",\"Oregon\",\"Pennsylvania\",\"Rhode Island\",\"South Carolina\",\"South Dakota\",\"Tennessee\",\"Texas\",\"Utah\",\"Vermont\",\"Virginia\",\"West Virginia\",\"Wisconsin\",\"Wyoming\"],\"name\":\"Emotional abuse (2016)\",\"text\":[\"Emotional abuse\",\"Emotional abuse\",\"Emotional abuse\",\"Emotional abuse\",\"Emotional abuse\",\"Emotional abuse\",\"Emotional abuse\",\"Emotional abuse\",\"Emotional abuse\",\"Emotional abuse\",\"Emotional abuse\",\"Emotional abuse\",\"Emotional abuse\",\"Emotional abuse\",\"Emotional abuse\",\"Emotional abuse\",\"Emotional abuse\",\"Emotional abuse\",\"Emotional abuse\",\"Emotional abuse\",\"Emotional abuse\",\"Emotional abuse\",\"Emotional abuse\",\"Emotional abuse\",\"Emotional abuse\",\"Emotional abuse\",\"Emotional abuse\",\"Emotional abuse\",\"Emotional abuse\",\"Emotional abuse\",\"Emotional abuse\",\"Emotional abuse\",\"Emotional abuse\",\"Emotional abuse\",\"Emotional abuse\",\"Emotional abuse\",\"Emotional abuse\",\"Emotional abuse\",\"Emotional abuse\",\"Emotional abuse\",\"Emotional abuse\",\"Emotional abuse\",\"Emotional abuse\",\"Emotional abuse\",\"Emotional abuse\",\"Emotional abuse\",\"Emotional abuse\",\"Emotional abuse\"],\"visible\":false,\"z\":[37751.0,34.0,985.0,11.0,118.0,8027.0,317.0,2300.0,604.0,496.0,4426.0,11.0,28.0,62.0,345.0,42.0,48.0,1152.0,14.0,30.0,156.0,70.0,1338.0,578.0,59.0,28.0,24.0,14.0,46.0,1752.0,470.0,73.0,579.0,791.0,3634.0,247.0,71.0,1120.0,144.0,27.0,260.0,335.0,2850.0,1.0,78.0,3709.0,22.0,225.0],\"type\":\"choropleth\"},{\"colorbar\":{\"title\":{\"text\":\"Count\"}},\"colorscale\":[[0.0,\"#440154\"],[0.1111111111111111,\"#482878\"],[0.2222222222222222,\"#3e4989\"],[0.3333333333333333,\"#31688e\"],[0.4444444444444444,\"#26828e\"],[0.5555555555555556,\"#1f9e89\"],[0.6666666666666666,\"#35b779\"],[0.7777777777777778,\"#6ece58\"],[0.8888888888888888,\"#b5de2b\"],[1.0,\"#fde725\"]],\"locationmode\":\"USA-states\",\"locations\":[\"United States\",\"Alabama\",\"Alaska\",\"Arizona\",\"Arkansas\",\"California\",\"Colorado\",\"Connecticut\",\"Delaware\",\"Florida\",\"Georgia\",\"Hawaii\",\"Illinois\",\"Iowa\",\"Kansas\",\"Kentucky\",\"Louisiana\",\"Maine\",\"Maryland\",\"Michigan\",\"Minnesota\",\"Mississippi\",\"Missouri\",\"Montana\",\"Nebraska\",\"Nevada\",\"New Hampshire\",\"New Jersey\",\"New Mexico\",\"New York\",\"North Carolina\",\"North Dakota\",\"Ohio\",\"Oklahoma\",\"Oregon\",\"Pennsylvania\",\"Rhode Island\",\"South Carolina\",\"South Dakota\",\"Tennessee\",\"Texas\",\"Utah\",\"Virginia\",\"West Virginia\",\"Wisconsin\",\"Wyoming\",\"Puerto Rico\"],\"name\":\"Emotional abuse (2017)\",\"text\":[\"Emotional abuse\",\"Emotional abuse\",\"Emotional abuse\",\"Emotional abuse\",\"Emotional abuse\",\"Emotional abuse\",\"Emotional abuse\",\"Emotional abuse\",\"Emotional abuse\",\"Emotional abuse\",\"Emotional abuse\",\"Emotional abuse\",\"Emotional abuse\",\"Emotional abuse\",\"Emotional abuse\",\"Emotional abuse\",\"Emotional abuse\",\"Emotional abuse\",\"Emotional abuse\",\"Emotional abuse\",\"Emotional abuse\",\"Emotional abuse\",\"Emotional abuse\",\"Emotional abuse\",\"Emotional abuse\",\"Emotional abuse\",\"Emotional abuse\",\"Emotional abuse\",\"Emotional abuse\",\"Emotional abuse\",\"Emotional abuse\",\"Emotional abuse\",\"Emotional abuse\",\"Emotional abuse\",\"Emotional abuse\",\"Emotional abuse\",\"Emotional abuse\",\"Emotional abuse\",\"Emotional abuse\",\"Emotional abuse\",\"Emotional abuse\",\"Emotional abuse\",\"Emotional abuse\",\"Emotional abuse\",\"Emotional abuse\",\"Emotional abuse\",\"Emotional abuse\"],\"visible\":false,\"z\":[38413.0,41.0,770.0,2.0,150.0,6857.0,268.0,2434.0,591.0,438.0,1592.0,18.0,50.0,72.0,741.0,44.0,37.0,1195.0,10.0,132.0,135.0,1549.0,477.0,31.0,26.0,10.0,8.0,52.0,2332.0,561.0,118.0,783.0,912.0,3836.0,177.0,57.0,1091.0,130.0,18.0,196.0,375.0,2806.0,84.0,4035.0,40.0,285.0,2847.0],\"type\":\"choropleth\"},{\"colorbar\":{\"title\":{\"text\":\"Count\"}},\"colorscale\":[[0.0,\"#440154\"],[0.1111111111111111,\"#482878\"],[0.2222222222222222,\"#3e4989\"],[0.3333333333333333,\"#31688e\"],[0.4444444444444444,\"#26828e\"],[0.5555555555555556,\"#1f9e89\"],[0.6666666666666666,\"#35b779\"],[0.7777777777777778,\"#6ece58\"],[0.8888888888888888,\"#b5de2b\"],[1.0,\"#fde725\"]],\"locationmode\":\"USA-states\",\"locations\":[\"United States\",\"Alabama\",\"Alaska\",\"Arizona\",\"Arkansas\",\"California\",\"Colorado\",\"Connecticut\",\"Florida\",\"Georgia\",\"Hawaii\",\"Illinois\",\"Iowa\",\"Kansas\",\"Kentucky\",\"Louisiana\",\"Maine\",\"Maryland\",\"Michigan\",\"Minnesota\",\"Mississippi\",\"Missouri\",\"Montana\",\"Nebraska\",\"Nevada\",\"New Hampshire\",\"New Jersey\",\"New Mexico\",\"New York\",\"North Carolina\",\"North Dakota\",\"Ohio\",\"Oklahoma\",\"Oregon\",\"Pennsylvania\",\"Rhode Island\",\"South Carolina\",\"South Dakota\",\"Tennessee\",\"Texas\",\"Utah\",\"Vermont\",\"Virginia\",\"West Virginia\",\"Wisconsin\",\"Wyoming\",\"Puerto Rico\"],\"name\":\"Emotional abuse (2018)\",\"text\":[\"Emotional abuse\",\"Emotional abuse\",\"Emotional abuse\",\"Emotional abuse\",\"Emotional abuse\",\"Emotional abuse\",\"Emotional abuse\",\"Emotional abuse\",\"Emotional abuse\",\"Emotional abuse\",\"Emotional abuse\",\"Emotional abuse\",\"Emotional abuse\",\"Emotional abuse\",\"Emotional abuse\",\"Emotional abuse\",\"Emotional abuse\",\"Emotional abuse\",\"Emotional abuse\",\"Emotional abuse\",\"Emotional abuse\",\"Emotional abuse\",\"Emotional abuse\",\"Emotional abuse\",\"Emotional abuse\",\"Emotional abuse\",\"Emotional abuse\",\"Emotional abuse\",\"Emotional abuse\",\"Emotional abuse\",\"Emotional abuse\",\"Emotional abuse\",\"Emotional abuse\",\"Emotional abuse\",\"Emotional abuse\",\"Emotional abuse\",\"Emotional abuse\",\"Emotional abuse\",\"Emotional abuse\",\"Emotional abuse\",\"Emotional abuse\",\"Emotional abuse\",\"Emotional abuse\",\"Emotional abuse\",\"Emotional abuse\",\"Emotional abuse\",\"Emotional abuse\"],\"visible\":false,\"z\":[39015.0,38.0,684.0,9.0,106.0,6435.0,236.0,2383.0,452.0,2135.0,5.0,44.0,94.0,572.0,56.0,21.0,1194.0,20.0,225.0,126.0,1637.0,601.0,20.0,16.0,17.0,26.0,45.0,2249.0,521.0,101.0,810.0,1443.0,4665.0,263.0,60.0,1301.0,147.0,36.0,280.0,346.0,2861.0,6.0,94.0,4231.0,28.0,344.0,2032.0],\"type\":\"choropleth\"},{\"colorbar\":{\"title\":{\"text\":\"Count\"}},\"colorscale\":[[0.0,\"#440154\"],[0.1111111111111111,\"#482878\"],[0.2222222222222222,\"#3e4989\"],[0.3333333333333333,\"#31688e\"],[0.4444444444444444,\"#26828e\"],[0.5555555555555556,\"#1f9e89\"],[0.6666666666666666,\"#35b779\"],[0.7777777777777778,\"#6ece58\"],[0.8888888888888888,\"#b5de2b\"],[1.0,\"#fde725\"]],\"locationmode\":\"USA-states\",\"locations\":[\"United States\",\"Alabama\",\"Alaska\",\"Arizona\",\"Arkansas\",\"California\",\"Colorado\",\"Connecticut\",\"Delaware\",\"Florida\",\"Georgia\",\"Hawaii\",\"Illinois\",\"Iowa\",\"Kansas\",\"Kentucky\",\"Louisiana\",\"Maine\",\"Maryland\",\"Michigan\",\"Minnesota\",\"Mississippi\",\"Missouri\",\"Montana\",\"Nebraska\",\"Nevada\",\"New Hampshire\",\"New Jersey\",\"New Mexico\",\"New York\",\"North Carolina\",\"North Dakota\",\"Ohio\",\"Oklahoma\",\"Oregon\",\"Pennsylvania\",\"Rhode Island\",\"South Carolina\",\"South Dakota\",\"Tennessee\",\"Texas\",\"Utah\",\"Vermont\",\"Virginia\",\"West Virginia\",\"Wisconsin\",\"Wyoming\",\"Puerto Rico\"],\"name\":\"Emotional abuse (2019)\",\"text\":[\"Emotional abuse\",\"Emotional abuse\",\"Emotional abuse\",\"Emotional abuse\",\"Emotional abuse\",\"Emotional abuse\",\"Emotional abuse\",\"Emotional abuse\",\"Emotional abuse\",\"Emotional abuse\",\"Emotional abuse\",\"Emotional abuse\",\"Emotional abuse\",\"Emotional abuse\",\"Emotional abuse\",\"Emotional abuse\",\"Emotional abuse\",\"Emotional abuse\",\"Emotional abuse\",\"Emotional abuse\",\"Emotional abuse\",\"Emotional abuse\",\"Emotional abuse\",\"Emotional abuse\",\"Emotional abuse\",\"Emotional abuse\",\"Emotional abuse\",\"Emotional abuse\",\"Emotional abuse\",\"Emotional abuse\",\"Emotional abuse\",\"Emotional abuse\",\"Emotional abuse\",\"Emotional abuse\",\"Emotional abuse\",\"Emotional abuse\",\"Emotional abuse\",\"Emotional abuse\",\"Emotional abuse\",\"Emotional abuse\",\"Emotional abuse\",\"Emotional abuse\",\"Emotional abuse\",\"Emotional abuse\",\"Emotional abuse\",\"Emotional abuse\",\"Emotional abuse\",\"Emotional abuse\"],\"visible\":false,\"z\":[39726.0,24.0,994.0,8.0,90.0,5846.0,254.0,2560.0,480.0,429.0,1957.0,14.0,52.0,74.0,466.0,36.0,17.0,1475.0,12.0,209.0,133.0,1552.0,583.0,22.0,12.0,4.0,20.0,71.0,2165.0,509.0,109.0,497.0,1615.0,4975.0,266.0,58.0,1118.0,109.0,19.0,387.0,355.0,3241.0,14.0,67.0,4187.0,31.0,349.0,2261.0],\"type\":\"choropleth\"},{\"colorbar\":{\"title\":{\"text\":\"Count\"}},\"colorscale\":[[0.0,\"#440154\"],[0.1111111111111111,\"#482878\"],[0.2222222222222222,\"#3e4989\"],[0.3333333333333333,\"#31688e\"],[0.4444444444444444,\"#26828e\"],[0.5555555555555556,\"#1f9e89\"],[0.6666666666666666,\"#35b779\"],[0.7777777777777778,\"#6ece58\"],[0.8888888888888888,\"#b5de2b\"],[1.0,\"#fde725\"]],\"locationmode\":\"USA-states\",\"locations\":[\"United States\",\"Alabama\",\"Alaska\",\"Arizona\",\"Arkansas\",\"California\",\"Colorado\",\"Connecticut\",\"Delaware\",\"Florida\",\"Georgia\",\"Hawaii\",\"Illinois\",\"Iowa\",\"Kansas\",\"Kentucky\",\"Louisiana\",\"Maine\",\"Maryland\",\"Michigan\",\"Minnesota\",\"Mississippi\",\"Missouri\",\"Montana\",\"Nebraska\",\"Nevada\",\"New Hampshire\",\"New Jersey\",\"New Mexico\",\"New York\",\"North Carolina\",\"North Dakota\",\"Ohio\",\"Oklahoma\",\"Oregon\",\"Pennsylvania\",\"Rhode Island\",\"South Carolina\",\"South Dakota\",\"Tennessee\",\"Texas\",\"Utah\",\"Vermont\",\"Virginia\",\"West Virginia\",\"Wisconsin\",\"Wyoming\",\"Puerto Rico\"],\"name\":\"Emotional abuse (2020)\",\"text\":[\"Emotional abuse\",\"Emotional abuse\",\"Emotional abuse\",\"Emotional abuse\",\"Emotional abuse\",\"Emotional abuse\",\"Emotional abuse\",\"Emotional abuse\",\"Emotional abuse\",\"Emotional abuse\",\"Emotional abuse\",\"Emotional abuse\",\"Emotional abuse\",\"Emotional abuse\",\"Emotional abuse\",\"Emotional abuse\",\"Emotional abuse\",\"Emotional abuse\",\"Emotional abuse\",\"Emotional abuse\",\"Emotional abuse\",\"Emotional abuse\",\"Emotional abuse\",\"Emotional abuse\",\"Emotional abuse\",\"Emotional abuse\",\"Emotional abuse\",\"Emotional abuse\",\"Emotional abuse\",\"Emotional abuse\",\"Emotional abuse\",\"Emotional abuse\",\"Emotional abuse\",\"Emotional abuse\",\"Emotional abuse\",\"Emotional abuse\",\"Emotional abuse\",\"Emotional abuse\",\"Emotional abuse\",\"Emotional abuse\",\"Emotional abuse\",\"Emotional abuse\",\"Emotional abuse\",\"Emotional abuse\",\"Emotional abuse\",\"Emotional abuse\",\"Emotional abuse\",\"Emotional abuse\"],\"visible\":false,\"z\":[39529.0,21.0,1068.0,5.0,175.0,5422.0,216.0,1933.0,454.0,284.0,2232.0,27.0,68.0,93.0,380.0,37.0,20.0,1811.0,16.0,166.0,174.0,1504.0,645.0,24.0,10.0,18.0,45.0,46.0,1950.0,576.0,158.0,460.0,1571.0,4997.0,220.0,44.0,1030.0,1040.0,40.0,460.0,322.0,3534.0,2.0,94.0,3966.0,24.0,342.0,1805.0],\"type\":\"choropleth\"},{\"colorbar\":{\"title\":{\"text\":\"Count\"}},\"colorscale\":[[0.0,\"#440154\"],[0.1111111111111111,\"#482878\"],[0.2222222222222222,\"#3e4989\"],[0.3333333333333333,\"#31688e\"],[0.4444444444444444,\"#26828e\"],[0.5555555555555556,\"#1f9e89\"],[0.6666666666666666,\"#35b779\"],[0.7777777777777778,\"#6ece58\"],[0.8888888888888888,\"#b5de2b\"],[1.0,\"#fde725\"]],\"locationmode\":\"USA-states\",\"locations\":[\"United States\",\"Alabama\",\"Alaska\",\"Arkansas\",\"California\",\"Colorado\",\"Connecticut\",\"Delaware\",\"Florida\",\"Georgia\",\"Hawaii\",\"Illinois\",\"Iowa\",\"Kansas\",\"Kentucky\",\"Louisiana\",\"Maine\",\"Maryland\",\"Michigan\",\"Minnesota\",\"Mississippi\",\"Missouri\",\"Montana\",\"Nebraska\",\"Nevada\",\"New Hampshire\",\"New Jersey\",\"New Mexico\",\"New York\",\"North Carolina\",\"North Dakota\",\"Ohio\",\"Oklahoma\",\"Oregon\",\"Pennsylvania\",\"Rhode Island\",\"South Carolina\",\"South Dakota\",\"Tennessee\",\"Texas\",\"Utah\",\"Vermont\",\"Virginia\",\"West Virginia\",\"Wisconsin\",\"Wyoming\",\"Puerto Rico\"],\"name\":\"Emotional abuse (2021)\",\"text\":[\"Emotional abuse\",\"Emotional abuse\",\"Emotional abuse\",\"Emotional abuse\",\"Emotional abuse\",\"Emotional abuse\",\"Emotional abuse\",\"Emotional abuse\",\"Emotional abuse\",\"Emotional abuse\",\"Emotional abuse\",\"Emotional abuse\",\"Emotional abuse\",\"Emotional abuse\",\"Emotional abuse\",\"Emotional abuse\",\"Emotional abuse\",\"Emotional abuse\",\"Emotional abuse\",\"Emotional abuse\",\"Emotional abuse\",\"Emotional abuse\",\"Emotional abuse\",\"Emotional abuse\",\"Emotional abuse\",\"Emotional abuse\",\"Emotional abuse\",\"Emotional abuse\",\"Emotional abuse\",\"Emotional abuse\",\"Emotional abuse\",\"Emotional abuse\",\"Emotional abuse\",\"Emotional abuse\",\"Emotional abuse\",\"Emotional abuse\",\"Emotional abuse\",\"Emotional abuse\",\"Emotional abuse\",\"Emotional abuse\",\"Emotional abuse\",\"Emotional abuse\",\"Emotional abuse\",\"Emotional abuse\",\"Emotional abuse\",\"Emotional abuse\",\"Emotional abuse\"],\"visible\":false,\"z\":[37242.0,19.0,894.0,142.0,4501.0,224.0,1493.0,375.0,348.0,2292.0,4.0,81.0,107.0,307.0,59.0,6.0,1619.0,4.0,187.0,117.0,1402.0,581.0,34.0,24.0,11.0,40.0,27.0,1751.0,474.0,733.0,288.0,1624.0,4411.0,183.0,55.0,938.0,847.0,57.0,294.0,329.0,3561.0,2.0,65.0,3942.0,44.0,310.0,2436.0],\"type\":\"choropleth\"},{\"colorbar\":{\"title\":{\"text\":\"Count\"}},\"colorscale\":[[0.0,\"#440154\"],[0.1111111111111111,\"#482878\"],[0.2222222222222222,\"#3e4989\"],[0.3333333333333333,\"#31688e\"],[0.4444444444444444,\"#26828e\"],[0.5555555555555556,\"#1f9e89\"],[0.6666666666666666,\"#35b779\"],[0.7777777777777778,\"#6ece58\"],[0.8888888888888888,\"#b5de2b\"],[1.0,\"#fde725\"]],\"locationmode\":\"USA-states\",\"locations\":[\"United States\",\"Alabama\",\"Alaska\",\"Arizona\",\"Arkansas\",\"California\",\"Colorado\",\"Connecticut\",\"Delaware\",\"Florida\",\"Georgia\",\"Hawaii\",\"Illinois\",\"Iowa\",\"Kansas\",\"Kentucky\",\"Louisiana\",\"Maine\",\"Maryland\",\"Michigan\",\"Minnesota\",\"Mississippi\",\"Missouri\",\"Montana\",\"Nebraska\",\"Nevada\",\"New Hampshire\",\"New Jersey\",\"New Mexico\",\"New York\",\"North Carolina\",\"North Dakota\",\"Ohio\",\"Oklahoma\",\"Oregon\",\"Pennsylvania\",\"Rhode Island\",\"South Carolina\",\"South Dakota\",\"Tennessee\",\"Texas\",\"Utah\",\"Vermont\",\"Virginia\",\"West Virginia\",\"Wisconsin\",\"Wyoming\",\"Puerto Rico\"],\"name\":\"Emotional abuse (2022)\",\"text\":[\"Emotional abuse\",\"Emotional abuse\",\"Emotional abuse\",\"Emotional abuse\",\"Emotional abuse\",\"Emotional abuse\",\"Emotional abuse\",\"Emotional abuse\",\"Emotional abuse\",\"Emotional abuse\",\"Emotional abuse\",\"Emotional abuse\",\"Emotional abuse\",\"Emotional abuse\",\"Emotional abuse\",\"Emotional abuse\",\"Emotional abuse\",\"Emotional abuse\",\"Emotional abuse\",\"Emotional abuse\",\"Emotional abuse\",\"Emotional abuse\",\"Emotional abuse\",\"Emotional abuse\",\"Emotional abuse\",\"Emotional abuse\",\"Emotional abuse\",\"Emotional abuse\",\"Emotional abuse\",\"Emotional abuse\",\"Emotional abuse\",\"Emotional abuse\",\"Emotional abuse\",\"Emotional abuse\",\"Emotional abuse\",\"Emotional abuse\",\"Emotional abuse\",\"Emotional abuse\",\"Emotional abuse\",\"Emotional abuse\",\"Emotional abuse\",\"Emotional abuse\",\"Emotional abuse\",\"Emotional abuse\",\"Emotional abuse\",\"Emotional abuse\",\"Emotional abuse\",\"Emotional abuse\"],\"visible\":false,\"z\":[37901.0,14.0,887.0,850.0,184.0,3963.0,211.0,1336.0,301.0,312.0,2047.0,12.0,81.0,115.0,287.0,89.0,19.0,1252.0,12.0,156.0,125.0,1635.0,500.0,12.0,15.0,6.0,64.0,18.0,1388.0,432.0,3726.0,78.0,1437.0,4596.0,181.0,45.0,901.0,775.0,28.0,169.0,308.0,3233.0,2.0,74.0,3495.0,17.0,275.0,2238.0],\"type\":\"choropleth\"}],                        {\"template\":{\"data\":{\"candlestick\":[{\"decreasing\":{\"line\":{\"color\":\"#000033\"}},\"increasing\":{\"line\":{\"color\":\"#000032\"}},\"type\":\"candlestick\"}],\"contourcarpet\":[{\"colorscale\":[[0.0,\"#000011\"],[0.1111111111111111,\"#000012\"],[0.2222222222222222,\"#000013\"],[0.3333333333333333,\"#000014\"],[0.4444444444444444,\"#000015\"],[0.5555555555555556,\"#000016\"],[0.6666666666666666,\"#000017\"],[0.7777777777777778,\"#000018\"],[0.8888888888888888,\"#000019\"],[1.0,\"#000020\"]],\"type\":\"contourcarpet\"}],\"contour\":[{\"colorscale\":[[0.0,\"#000011\"],[0.1111111111111111,\"#000012\"],[0.2222222222222222,\"#000013\"],[0.3333333333333333,\"#000014\"],[0.4444444444444444,\"#000015\"],[0.5555555555555556,\"#000016\"],[0.6666666666666666,\"#000017\"],[0.7777777777777778,\"#000018\"],[0.8888888888888888,\"#000019\"],[1.0,\"#000020\"]],\"type\":\"contour\"}],\"heatmap\":[{\"colorscale\":[[0.0,\"#000011\"],[0.1111111111111111,\"#000012\"],[0.2222222222222222,\"#000013\"],[0.3333333333333333,\"#000014\"],[0.4444444444444444,\"#000015\"],[0.5555555555555556,\"#000016\"],[0.6666666666666666,\"#000017\"],[0.7777777777777778,\"#000018\"],[0.8888888888888888,\"#000019\"],[1.0,\"#000020\"]],\"type\":\"heatmap\"}],\"histogram2d\":[{\"colorscale\":[[0.0,\"#000011\"],[0.1111111111111111,\"#000012\"],[0.2222222222222222,\"#000013\"],[0.3333333333333333,\"#000014\"],[0.4444444444444444,\"#000015\"],[0.5555555555555556,\"#000016\"],[0.6666666666666666,\"#000017\"],[0.7777777777777778,\"#000018\"],[0.8888888888888888,\"#000019\"],[1.0,\"#000020\"]],\"type\":\"histogram2d\"}],\"icicle\":[{\"textfont\":{\"color\":\"white\"},\"type\":\"icicle\"}],\"sankey\":[{\"textfont\":{\"color\":\"#000036\"},\"type\":\"sankey\"}],\"scatter\":[{\"marker\":{\"line\":{\"width\":0}},\"type\":\"scatter\"}],\"table\":[{\"cells\":{\"fill\":{\"color\":\"#000038\"},\"font\":{\"color\":\"#000037\"},\"line\":{\"color\":\"#000039\"}},\"header\":{\"fill\":{\"color\":\"#000040\"},\"font\":{\"color\":\"#000036\"},\"line\":{\"color\":\"#000039\"}},\"type\":\"table\"}],\"waterfall\":[{\"connector\":{\"line\":{\"color\":\"#000036\",\"width\":2}},\"decreasing\":{\"marker\":{\"color\":\"#000033\"}},\"increasing\":{\"marker\":{\"color\":\"#000032\"}},\"totals\":{\"marker\":{\"color\":\"#000034\"}},\"type\":\"waterfall\"}]},\"layout\":{\"coloraxis\":{\"colorscale\":[[0.0,\"#000011\"],[0.1111111111111111,\"#000012\"],[0.2222222222222222,\"#000013\"],[0.3333333333333333,\"#000014\"],[0.4444444444444444,\"#000015\"],[0.5555555555555556,\"#000016\"],[0.6666666666666666,\"#000017\"],[0.7777777777777778,\"#000018\"],[0.8888888888888888,\"#000019\"],[1.0,\"#000020\"]]},\"colorscale\":{\"diverging\":[[0.0,\"#000021\"],[0.1,\"#000022\"],[0.2,\"#000023\"],[0.3,\"#000024\"],[0.4,\"#000025\"],[0.5,\"#000026\"],[0.6,\"#000027\"],[0.7,\"#000028\"],[0.8,\"#000029\"],[0.9,\"#000030\"],[1.0,\"#000031\"]],\"sequential\":[[0.0,\"#000011\"],[0.1111111111111111,\"#000012\"],[0.2222222222222222,\"#000013\"],[0.3333333333333333,\"#000014\"],[0.4444444444444444,\"#000015\"],[0.5555555555555556,\"#000016\"],[0.6666666666666666,\"#000017\"],[0.7777777777777778,\"#000018\"],[0.8888888888888888,\"#000019\"],[1.0,\"#000020\"]],\"sequentialminus\":[[0.0,\"#000011\"],[0.1111111111111111,\"#000012\"],[0.2222222222222222,\"#000013\"],[0.3333333333333333,\"#000014\"],[0.4444444444444444,\"#000015\"],[0.5555555555555556,\"#000016\"],[0.6666666666666666,\"#000017\"],[0.7777777777777778,\"#000018\"],[0.8888888888888888,\"#000019\"],[1.0,\"#000020\"]]},\"colorway\":[\"#000001\",\"#000002\",\"#000003\",\"#000004\",\"#000005\",\"#000006\",\"#000007\",\"#000008\",\"#000009\",\"#000010\"]}},\"title\":{\"text\":\"US Map of Child Maltreatment by Category (2015-2022)\"},\"geo\":{\"scope\":\"usa\"},\"updatemenus\":[{\"buttons\":[{\"args\":[null,{\"frame\":{\"duration\":500,\"redraw\":true},\"fromcurrent\":true}],\"label\":\"Play\",\"method\":\"animate\"},{\"args\":[[null],{\"frame\":{\"duration\":0,\"redraw\":true},\"mode\":\"immediate\",\"transition\":{\"duration\":0}}],\"label\":\"Pause\",\"method\":\"animate\"}],\"direction\":\"left\",\"pad\":{\"r\":10,\"t\":87},\"showactive\":false,\"type\":\"buttons\",\"x\":0.1,\"xanchor\":\"right\",\"y\":0,\"yanchor\":\"top\"}]},                        {\"responsive\": true}                    ).then(function(){\n",
       "                            Plotly.addFrames('1acc37b0-09cd-4350-b78d-5680e283bffd', [{\"data\":[{\"visible\":true,\"type\":\"choropleth\"},{\"visible\":false,\"type\":\"choropleth\"},{\"visible\":false,\"type\":\"choropleth\"},{\"visible\":false,\"type\":\"choropleth\"},{\"visible\":false,\"type\":\"choropleth\"},{\"visible\":false,\"type\":\"choropleth\"},{\"visible\":false,\"type\":\"choropleth\"},{\"visible\":false,\"type\":\"choropleth\"},{\"visible\":false,\"type\":\"choropleth\"},{\"visible\":false,\"type\":\"choropleth\"},{\"visible\":false,\"type\":\"choropleth\"},{\"visible\":false,\"type\":\"choropleth\"},{\"visible\":false,\"type\":\"choropleth\"},{\"visible\":false,\"type\":\"choropleth\"},{\"visible\":false,\"type\":\"choropleth\"},{\"visible\":false,\"type\":\"choropleth\"},{\"visible\":false,\"type\":\"choropleth\"},{\"visible\":false,\"type\":\"choropleth\"},{\"visible\":false,\"type\":\"choropleth\"},{\"visible\":false,\"type\":\"choropleth\"},{\"visible\":false,\"type\":\"choropleth\"},{\"visible\":false,\"type\":\"choropleth\"},{\"visible\":false,\"type\":\"choropleth\"},{\"visible\":false,\"type\":\"choropleth\"},{\"visible\":false,\"type\":\"choropleth\"},{\"visible\":false,\"type\":\"choropleth\"},{\"visible\":false,\"type\":\"choropleth\"},{\"visible\":false,\"type\":\"choropleth\"},{\"visible\":false,\"type\":\"choropleth\"},{\"visible\":false,\"type\":\"choropleth\"},{\"visible\":false,\"type\":\"choropleth\"},{\"visible\":false,\"type\":\"choropleth\"}]},{\"data\":[{\"visible\":false,\"type\":\"choropleth\"},{\"visible\":false,\"type\":\"choropleth\"},{\"visible\":false,\"type\":\"choropleth\"},{\"visible\":false,\"type\":\"choropleth\"},{\"visible\":false,\"type\":\"choropleth\"},{\"visible\":false,\"type\":\"choropleth\"},{\"visible\":false,\"type\":\"choropleth\"},{\"visible\":false,\"type\":\"choropleth\"},{\"visible\":true,\"type\":\"choropleth\"},{\"visible\":false,\"type\":\"choropleth\"},{\"visible\":false,\"type\":\"choropleth\"},{\"visible\":false,\"type\":\"choropleth\"},{\"visible\":false,\"type\":\"choropleth\"},{\"visible\":false,\"type\":\"choropleth\"},{\"visible\":false,\"type\":\"choropleth\"},{\"visible\":false,\"type\":\"choropleth\"},{\"visible\":false,\"type\":\"choropleth\"},{\"visible\":false,\"type\":\"choropleth\"},{\"visible\":false,\"type\":\"choropleth\"},{\"visible\":false,\"type\":\"choropleth\"},{\"visible\":false,\"type\":\"choropleth\"},{\"visible\":false,\"type\":\"choropleth\"},{\"visible\":false,\"type\":\"choropleth\"},{\"visible\":false,\"type\":\"choropleth\"},{\"visible\":false,\"type\":\"choropleth\"},{\"visible\":false,\"type\":\"choropleth\"},{\"visible\":false,\"type\":\"choropleth\"},{\"visible\":false,\"type\":\"choropleth\"},{\"visible\":false,\"type\":\"choropleth\"},{\"visible\":false,\"type\":\"choropleth\"},{\"visible\":false,\"type\":\"choropleth\"},{\"visible\":false,\"type\":\"choropleth\"}]},{\"data\":[{\"visible\":false,\"type\":\"choropleth\"},{\"visible\":false,\"type\":\"choropleth\"},{\"visible\":false,\"type\":\"choropleth\"},{\"visible\":false,\"type\":\"choropleth\"},{\"visible\":false,\"type\":\"choropleth\"},{\"visible\":false,\"type\":\"choropleth\"},{\"visible\":false,\"type\":\"choropleth\"},{\"visible\":false,\"type\":\"choropleth\"},{\"visible\":false,\"type\":\"choropleth\"},{\"visible\":false,\"type\":\"choropleth\"},{\"visible\":false,\"type\":\"choropleth\"},{\"visible\":false,\"type\":\"choropleth\"},{\"visible\":false,\"type\":\"choropleth\"},{\"visible\":false,\"type\":\"choropleth\"},{\"visible\":false,\"type\":\"choropleth\"},{\"visible\":false,\"type\":\"choropleth\"},{\"visible\":true,\"type\":\"choropleth\"},{\"visible\":false,\"type\":\"choropleth\"},{\"visible\":false,\"type\":\"choropleth\"},{\"visible\":false,\"type\":\"choropleth\"},{\"visible\":false,\"type\":\"choropleth\"},{\"visible\":false,\"type\":\"choropleth\"},{\"visible\":false,\"type\":\"choropleth\"},{\"visible\":false,\"type\":\"choropleth\"},{\"visible\":false,\"type\":\"choropleth\"},{\"visible\":false,\"type\":\"choropleth\"},{\"visible\":false,\"type\":\"choropleth\"},{\"visible\":false,\"type\":\"choropleth\"},{\"visible\":false,\"type\":\"choropleth\"},{\"visible\":false,\"type\":\"choropleth\"},{\"visible\":false,\"type\":\"choropleth\"},{\"visible\":false,\"type\":\"choropleth\"}]},{\"data\":[{\"visible\":false,\"type\":\"choropleth\"},{\"visible\":false,\"type\":\"choropleth\"},{\"visible\":false,\"type\":\"choropleth\"},{\"visible\":false,\"type\":\"choropleth\"},{\"visible\":false,\"type\":\"choropleth\"},{\"visible\":false,\"type\":\"choropleth\"},{\"visible\":false,\"type\":\"choropleth\"},{\"visible\":false,\"type\":\"choropleth\"},{\"visible\":false,\"type\":\"choropleth\"},{\"visible\":false,\"type\":\"choropleth\"},{\"visible\":false,\"type\":\"choropleth\"},{\"visible\":false,\"type\":\"choropleth\"},{\"visible\":false,\"type\":\"choropleth\"},{\"visible\":false,\"type\":\"choropleth\"},{\"visible\":false,\"type\":\"choropleth\"},{\"visible\":false,\"type\":\"choropleth\"},{\"visible\":false,\"type\":\"choropleth\"},{\"visible\":false,\"type\":\"choropleth\"},{\"visible\":false,\"type\":\"choropleth\"},{\"visible\":false,\"type\":\"choropleth\"},{\"visible\":false,\"type\":\"choropleth\"},{\"visible\":false,\"type\":\"choropleth\"},{\"visible\":false,\"type\":\"choropleth\"},{\"visible\":false,\"type\":\"choropleth\"},{\"visible\":true,\"type\":\"choropleth\"},{\"visible\":false,\"type\":\"choropleth\"},{\"visible\":false,\"type\":\"choropleth\"},{\"visible\":false,\"type\":\"choropleth\"},{\"visible\":false,\"type\":\"choropleth\"},{\"visible\":false,\"type\":\"choropleth\"},{\"visible\":false,\"type\":\"choropleth\"},{\"visible\":false,\"type\":\"choropleth\"}]},{\"data\":[{\"visible\":false,\"type\":\"choropleth\"},{\"visible\":false,\"type\":\"choropleth\"},{\"visible\":false,\"type\":\"choropleth\"},{\"visible\":false,\"type\":\"choropleth\"},{\"visible\":false,\"type\":\"choropleth\"},{\"visible\":false,\"type\":\"choropleth\"},{\"visible\":false,\"type\":\"choropleth\"},{\"visible\":false,\"type\":\"choropleth\"},{\"visible\":false,\"type\":\"choropleth\"},{\"visible\":false,\"type\":\"choropleth\"},{\"visible\":false,\"type\":\"choropleth\"},{\"visible\":false,\"type\":\"choropleth\"},{\"visible\":false,\"type\":\"choropleth\"},{\"visible\":false,\"type\":\"choropleth\"},{\"visible\":false,\"type\":\"choropleth\"},{\"visible\":false,\"type\":\"choropleth\"},{\"visible\":false,\"type\":\"choropleth\"},{\"visible\":false,\"type\":\"choropleth\"},{\"visible\":false,\"type\":\"choropleth\"},{\"visible\":false,\"type\":\"choropleth\"},{\"visible\":false,\"type\":\"choropleth\"},{\"visible\":false,\"type\":\"choropleth\"},{\"visible\":false,\"type\":\"choropleth\"},{\"visible\":false,\"type\":\"choropleth\"},{\"visible\":false,\"type\":\"choropleth\"},{\"visible\":false,\"type\":\"choropleth\"},{\"visible\":false,\"type\":\"choropleth\"},{\"visible\":false,\"type\":\"choropleth\"},{\"visible\":false,\"type\":\"choropleth\"},{\"visible\":false,\"type\":\"choropleth\"},{\"visible\":false,\"type\":\"choropleth\"},{\"visible\":false,\"type\":\"choropleth\"}]},{\"data\":[{\"visible\":false,\"type\":\"choropleth\"},{\"visible\":false,\"type\":\"choropleth\"},{\"visible\":false,\"type\":\"choropleth\"},{\"visible\":false,\"type\":\"choropleth\"},{\"visible\":false,\"type\":\"choropleth\"},{\"visible\":false,\"type\":\"choropleth\"},{\"visible\":false,\"type\":\"choropleth\"},{\"visible\":false,\"type\":\"choropleth\"},{\"visible\":false,\"type\":\"choropleth\"},{\"visible\":false,\"type\":\"choropleth\"},{\"visible\":false,\"type\":\"choropleth\"},{\"visible\":false,\"type\":\"choropleth\"},{\"visible\":false,\"type\":\"choropleth\"},{\"visible\":false,\"type\":\"choropleth\"},{\"visible\":false,\"type\":\"choropleth\"},{\"visible\":false,\"type\":\"choropleth\"},{\"visible\":false,\"type\":\"choropleth\"},{\"visible\":false,\"type\":\"choropleth\"},{\"visible\":false,\"type\":\"choropleth\"},{\"visible\":false,\"type\":\"choropleth\"},{\"visible\":false,\"type\":\"choropleth\"},{\"visible\":false,\"type\":\"choropleth\"},{\"visible\":false,\"type\":\"choropleth\"},{\"visible\":false,\"type\":\"choropleth\"},{\"visible\":false,\"type\":\"choropleth\"},{\"visible\":false,\"type\":\"choropleth\"},{\"visible\":false,\"type\":\"choropleth\"},{\"visible\":false,\"type\":\"choropleth\"},{\"visible\":false,\"type\":\"choropleth\"},{\"visible\":false,\"type\":\"choropleth\"},{\"visible\":false,\"type\":\"choropleth\"},{\"visible\":false,\"type\":\"choropleth\"}]},{\"data\":[{\"visible\":false,\"type\":\"choropleth\"},{\"visible\":false,\"type\":\"choropleth\"},{\"visible\":false,\"type\":\"choropleth\"},{\"visible\":false,\"type\":\"choropleth\"},{\"visible\":false,\"type\":\"choropleth\"},{\"visible\":false,\"type\":\"choropleth\"},{\"visible\":false,\"type\":\"choropleth\"},{\"visible\":false,\"type\":\"choropleth\"},{\"visible\":false,\"type\":\"choropleth\"},{\"visible\":false,\"type\":\"choropleth\"},{\"visible\":false,\"type\":\"choropleth\"},{\"visible\":false,\"type\":\"choropleth\"},{\"visible\":false,\"type\":\"choropleth\"},{\"visible\":false,\"type\":\"choropleth\"},{\"visible\":false,\"type\":\"choropleth\"},{\"visible\":false,\"type\":\"choropleth\"},{\"visible\":false,\"type\":\"choropleth\"},{\"visible\":false,\"type\":\"choropleth\"},{\"visible\":false,\"type\":\"choropleth\"},{\"visible\":false,\"type\":\"choropleth\"},{\"visible\":false,\"type\":\"choropleth\"},{\"visible\":false,\"type\":\"choropleth\"},{\"visible\":false,\"type\":\"choropleth\"},{\"visible\":false,\"type\":\"choropleth\"},{\"visible\":false,\"type\":\"choropleth\"},{\"visible\":false,\"type\":\"choropleth\"},{\"visible\":false,\"type\":\"choropleth\"},{\"visible\":false,\"type\":\"choropleth\"},{\"visible\":false,\"type\":\"choropleth\"},{\"visible\":false,\"type\":\"choropleth\"},{\"visible\":false,\"type\":\"choropleth\"},{\"visible\":false,\"type\":\"choropleth\"}]},{\"data\":[{\"visible\":false,\"type\":\"choropleth\"},{\"visible\":false,\"type\":\"choropleth\"},{\"visible\":false,\"type\":\"choropleth\"},{\"visible\":false,\"type\":\"choropleth\"},{\"visible\":false,\"type\":\"choropleth\"},{\"visible\":false,\"type\":\"choropleth\"},{\"visible\":false,\"type\":\"choropleth\"},{\"visible\":false,\"type\":\"choropleth\"},{\"visible\":false,\"type\":\"choropleth\"},{\"visible\":false,\"type\":\"choropleth\"},{\"visible\":false,\"type\":\"choropleth\"},{\"visible\":false,\"type\":\"choropleth\"},{\"visible\":false,\"type\":\"choropleth\"},{\"visible\":false,\"type\":\"choropleth\"},{\"visible\":false,\"type\":\"choropleth\"},{\"visible\":false,\"type\":\"choropleth\"},{\"visible\":false,\"type\":\"choropleth\"},{\"visible\":false,\"type\":\"choropleth\"},{\"visible\":false,\"type\":\"choropleth\"},{\"visible\":false,\"type\":\"choropleth\"},{\"visible\":false,\"type\":\"choropleth\"},{\"visible\":false,\"type\":\"choropleth\"},{\"visible\":false,\"type\":\"choropleth\"},{\"visible\":false,\"type\":\"choropleth\"},{\"visible\":false,\"type\":\"choropleth\"},{\"visible\":false,\"type\":\"choropleth\"},{\"visible\":false,\"type\":\"choropleth\"},{\"visible\":false,\"type\":\"choropleth\"},{\"visible\":false,\"type\":\"choropleth\"},{\"visible\":false,\"type\":\"choropleth\"},{\"visible\":false,\"type\":\"choropleth\"},{\"visible\":false,\"type\":\"choropleth\"}]}]);\n",
       "                        }).then(function(){\n",
       "                            \n",
       "var gd = document.getElementById('1acc37b0-09cd-4350-b78d-5680e283bffd');\n",
       "var x = new MutationObserver(function (mutations, observer) {{\n",
       "        var display = window.getComputedStyle(gd).display;\n",
       "        if (!display || display === 'none') {{\n",
       "            console.log([gd, 'removed!']);\n",
       "            Plotly.purge(gd);\n",
       "            observer.disconnect();\n",
       "        }}\n",
       "}});\n",
       "\n",
       "// Listen for the removal of the full notebook cells\n",
       "var notebookContainer = gd.closest('#notebook-container');\n",
       "if (notebookContainer) {{\n",
       "    x.observe(notebookContainer, {childList: true});\n",
       "}}\n",
       "\n",
       "// Listen for the clearing of the current output cell\n",
       "var outputEl = gd.closest('.output');\n",
       "if (outputEl) {{\n",
       "    x.observe(outputEl, {childList: true});\n",
       "}}\n",
       "\n",
       "                        })                };                });            </script>        </div>"
      ]
     },
     "metadata": {},
     "output_type": "display_data"
    }
   ],
   "source": [
    "# Dashboard app \n",
    "\n",
    "def main():\n",
    "    st.title(\"Child Maltreatment in the United States (2015-2022)\")\n",
    "\n",
    "    # Get user inputs for unit selection\n",
    "    type = st.radio(\"Select maltreatment type:\", (\"Emotional Abuse\", \"Physical Abuse\", \"Sexual Abuse\", \"Neglect\", \"Medical Neglect\"), index=0)\n",
    "\n",
    "    # Input for year \n",
    "    year = st.radio (\"Select year:\", (\"2015\", \"2016\", \"2017\", \"2018\", \"2019\", \"2020\", \"2021\", \"2022\"), index=0)\n",
    "    \n",
    "    # Add map\n",
    "    # Create the choropleth map\n",
    "    import plotly.graph_objects as go\n",
    "\n",
    "# Assuming dat is your DataFrame containing the aggregated data\n",
    "\n",
    "# Step 1: Get unique categories and years\n",
    "unique_categories = dat['Category'].unique()\n",
    "unique_years = dat['TimeFrame'].unique()\n",
    "\n",
    "# Step 2: Create a subplot for each combination of category and year\n",
    "fig = go.Figure()\n",
    "\n",
    "for category in unique_categories:\n",
    "    for year in unique_years:\n",
    "        filtered_dat = dat[(dat['Category'] == category) & (dat['TimeFrame'] == year)]\n",
    "        \n",
    "        fig.add_trace(go.Choropleth(\n",
    "            locations=filtered_dat['Location'],  # State names\n",
    "            z=filtered_dat['Data'],  # Values to be mapped\n",
    "            locationmode='USA-states',  # Set of locations match entries in `locations`\n",
    "            colorscale='Viridis',\n",
    "            colorbar_title='Count',\n",
    "            text=filtered_dat['Category'],  # Additional text to display in hover\n",
    "            name=f'{category} ({year})',  # Add category and year to subplot name\n",
    "            visible=False  # Initially hide the subplot\n",
    "        ))\n",
    "\n",
    "# Update layout\n",
    "fig.update_layout(\n",
    "    title_text='US Map of Child Maltreatment by Category (2015-2022)',\n",
    "    geo=dict(\n",
    "        scope='usa',  # Set to plot only USA states\n",
    "    ),\n",
    "    updatemenus=[\n",
    "        {\n",
    "            'buttons': [\n",
    "                {\n",
    "                    'args': [None, {'frame': {'duration': 500, 'redraw': True}, 'fromcurrent': True}],\n",
    "                    'label': 'Play',\n",
    "                    'method': 'animate'\n",
    "                },\n",
    "                {\n",
    "                    'args': [[None], {'frame': {'duration': 0, 'redraw': True}, 'mode': 'immediate', 'transition': {'duration': 0}}],\n",
    "                    'label': 'Pause',\n",
    "                    'method': 'animate'\n",
    "                }\n",
    "            ],\n",
    "            'direction': 'left',\n",
    "            'pad': {'r': 10, 't': 87},\n",
    "            'showactive': False,\n",
    "            'type': 'buttons',\n",
    "            'x': 0.1,\n",
    "            'xanchor': 'right',\n",
    "            'y': 0,\n",
    "            'yanchor': 'top'\n",
    "        }\n",
    "    ]\n",
    ")\n",
    "\n",
    "# Create frames for animation\n",
    "frames = [dict(data=[go.Choropleth(visible=True if i == j * len(unique_years) else False) for i in range(len(unique_categories) * len(unique_years))]) for j in range(len(unique_years))]\n",
    "\n",
    "# Add frames to animation\n",
    "fig.frames = frames\n",
    "\n",
    "# Show the map\n",
    "fig.show()\n",
    "\n",
    "\n",
    "if __name__ == \"__main__\":\n",
    "    main()"
   ]
  },
  {
   "cell_type": "code",
   "execution_count": null,
   "id": "75ce4d2c-2d70-4376-b668-a70eca0804b7",
   "metadata": {},
   "outputs": [],
   "source": []
  }
 ],
 "metadata": {
  "kernelspec": {
   "display_name": "Python 3 (ipykernel)",
   "language": "python",
   "name": "python3"
  },
  "language_info": {
   "codemirror_mode": {
    "name": "ipython",
    "version": 3
   },
   "file_extension": ".py",
   "mimetype": "text/x-python",
   "name": "python",
   "nbconvert_exporter": "python",
   "pygments_lexer": "ipython3",
   "version": "3.10.10"
  },
  "widgets": {
   "application/vnd.jupyter.widget-state+json": {
    "state": {},
    "version_major": 2,
    "version_minor": 0
   }
  }
 },
 "nbformat": 4,
 "nbformat_minor": 5
}
